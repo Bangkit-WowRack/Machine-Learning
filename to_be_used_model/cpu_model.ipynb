{
 "cells": [
  {
   "cell_type": "code",
   "execution_count": 7,
   "metadata": {},
   "outputs": [],
   "source": [
    "import tensorflow as tf\n",
    "import numpy as np \n",
    "import pandas as pd\n",
    "import matplotlib.pyplot as plt"
   ]
  },
  {
   "cell_type": "code",
   "execution_count": 2,
   "metadata": {},
   "outputs": [],
   "source": [
    "df_test = pd.read_csv('./generated_cpu_data_test_2.csv')\n",
    "df_test['date'] = pd.to_datetime(df_test['date'])"
   ]
  },
  {
   "cell_type": "code",
   "execution_count": 3,
   "metadata": {},
   "outputs": [],
   "source": [
    "num_lags = 2\n",
    "\n",
    "#add lag\n",
    "for i in range(1, num_lags+1):\n",
    "    df_test['lag_{}'.format(i)] = df_test['cpu_util'].shift(i)\n",
    "  \n",
    "df_test = df_test.dropna()"
   ]
  },
  {
   "cell_type": "code",
   "execution_count": 4,
   "metadata": {},
   "outputs": [
    {
     "data": {
      "text/html": [
       "<div>\n",
       "<style scoped>\n",
       "    .dataframe tbody tr th:only-of-type {\n",
       "        vertical-align: middle;\n",
       "    }\n",
       "\n",
       "    .dataframe tbody tr th {\n",
       "        vertical-align: top;\n",
       "    }\n",
       "\n",
       "    .dataframe thead th {\n",
       "        text-align: right;\n",
       "    }\n",
       "</style>\n",
       "<table border=\"1\" class=\"dataframe\">\n",
       "  <thead>\n",
       "    <tr style=\"text-align: right;\">\n",
       "      <th></th>\n",
       "      <th>cpu_util</th>\n",
       "      <th>date</th>\n",
       "      <th>lag_1</th>\n",
       "      <th>lag_2</th>\n",
       "    </tr>\n",
       "  </thead>\n",
       "  <tbody>\n",
       "    <tr>\n",
       "      <th>2</th>\n",
       "      <td>100.895190</td>\n",
       "      <td>2023-07-25 00:13:06.466</td>\n",
       "      <td>82.067813</td>\n",
       "      <td>66.834766</td>\n",
       "    </tr>\n",
       "    <tr>\n",
       "      <th>3</th>\n",
       "      <td>73.259342</td>\n",
       "      <td>2023-07-25 00:18:06.466</td>\n",
       "      <td>100.895190</td>\n",
       "      <td>82.067813</td>\n",
       "    </tr>\n",
       "    <tr>\n",
       "      <th>4</th>\n",
       "      <td>82.504274</td>\n",
       "      <td>2023-07-25 00:23:06.466</td>\n",
       "      <td>73.259342</td>\n",
       "      <td>100.895190</td>\n",
       "    </tr>\n",
       "    <tr>\n",
       "      <th>5</th>\n",
       "      <td>62.700953</td>\n",
       "      <td>2023-07-25 00:28:06.466</td>\n",
       "      <td>82.504274</td>\n",
       "      <td>73.259342</td>\n",
       "    </tr>\n",
       "    <tr>\n",
       "      <th>6</th>\n",
       "      <td>88.266038</td>\n",
       "      <td>2023-07-25 00:33:06.466</td>\n",
       "      <td>62.700953</td>\n",
       "      <td>82.504274</td>\n",
       "    </tr>\n",
       "    <tr>\n",
       "      <th>...</th>\n",
       "      <td>...</td>\n",
       "      <td>...</td>\n",
       "      <td>...</td>\n",
       "      <td>...</td>\n",
       "    </tr>\n",
       "    <tr>\n",
       "      <th>10363</th>\n",
       "      <td>28.858958</td>\n",
       "      <td>2023-08-29 23:38:07.394</td>\n",
       "      <td>31.093691</td>\n",
       "      <td>53.711871</td>\n",
       "    </tr>\n",
       "    <tr>\n",
       "      <th>10364</th>\n",
       "      <td>23.238560</td>\n",
       "      <td>2023-08-29 23:43:07.394</td>\n",
       "      <td>28.858958</td>\n",
       "      <td>31.093691</td>\n",
       "    </tr>\n",
       "    <tr>\n",
       "      <th>10365</th>\n",
       "      <td>53.869919</td>\n",
       "      <td>2023-08-29 23:48:07.394</td>\n",
       "      <td>23.238560</td>\n",
       "      <td>28.858958</td>\n",
       "    </tr>\n",
       "    <tr>\n",
       "      <th>10366</th>\n",
       "      <td>30.824553</td>\n",
       "      <td>2023-08-29 23:53:07.394</td>\n",
       "      <td>53.869919</td>\n",
       "      <td>23.238560</td>\n",
       "    </tr>\n",
       "    <tr>\n",
       "      <th>10367</th>\n",
       "      <td>37.018912</td>\n",
       "      <td>2023-08-29 23:58:07.394</td>\n",
       "      <td>30.824553</td>\n",
       "      <td>53.869919</td>\n",
       "    </tr>\n",
       "  </tbody>\n",
       "</table>\n",
       "<p>10366 rows × 4 columns</p>\n",
       "</div>"
      ],
      "text/plain": [
       "         cpu_util                    date       lag_1       lag_2\n",
       "2      100.895190 2023-07-25 00:13:06.466   82.067813   66.834766\n",
       "3       73.259342 2023-07-25 00:18:06.466  100.895190   82.067813\n",
       "4       82.504274 2023-07-25 00:23:06.466   73.259342  100.895190\n",
       "5       62.700953 2023-07-25 00:28:06.466   82.504274   73.259342\n",
       "6       88.266038 2023-07-25 00:33:06.466   62.700953   82.504274\n",
       "...           ...                     ...         ...         ...\n",
       "10363   28.858958 2023-08-29 23:38:07.394   31.093691   53.711871\n",
       "10364   23.238560 2023-08-29 23:43:07.394   28.858958   31.093691\n",
       "10365   53.869919 2023-08-29 23:48:07.394   23.238560   28.858958\n",
       "10366   30.824553 2023-08-29 23:53:07.394   53.869919   23.238560\n",
       "10367   37.018912 2023-08-29 23:58:07.394   30.824553   53.869919\n",
       "\n",
       "[10366 rows x 4 columns]"
      ]
     },
     "execution_count": 4,
     "metadata": {},
     "output_type": "execute_result"
    }
   ],
   "source": [
    "df_test"
   ]
  },
  {
   "cell_type": "code",
   "execution_count": 5,
   "metadata": {},
   "outputs": [],
   "source": [
    "X_test = df_test[['cpu_util', 'lag_1', 'lag_2']]"
   ]
  },
  {
   "cell_type": "code",
   "execution_count": 6,
   "metadata": {},
   "outputs": [
    {
     "name": "stderr",
     "output_type": "stream",
     "text": [
      "C:\\Users\\HP\\AppData\\Local\\Temp\\ipykernel_1932\\1668866457.py:1: SettingWithCopyWarning: \n",
      "A value is trying to be set on a copy of a slice from a DataFrame.\n",
      "Try using .loc[row_indexer,col_indexer] = value instead\n",
      "\n",
      "See the caveats in the documentation: https://pandas.pydata.org/pandas-docs/stable/user_guide/indexing.html#returning-a-view-versus-a-copy\n",
      "  X_test['cpu_util'] = (X_test['cpu_util']/100).astype(float)\n",
      "C:\\Users\\HP\\AppData\\Local\\Temp\\ipykernel_1932\\1668866457.py:2: SettingWithCopyWarning: \n",
      "A value is trying to be set on a copy of a slice from a DataFrame.\n",
      "Try using .loc[row_indexer,col_indexer] = value instead\n",
      "\n",
      "See the caveats in the documentation: https://pandas.pydata.org/pandas-docs/stable/user_guide/indexing.html#returning-a-view-versus-a-copy\n",
      "  X_test['lag_1'] = (X_test['lag_1']/100).astype(float)\n",
      "C:\\Users\\HP\\AppData\\Local\\Temp\\ipykernel_1932\\1668866457.py:3: SettingWithCopyWarning: \n",
      "A value is trying to be set on a copy of a slice from a DataFrame.\n",
      "Try using .loc[row_indexer,col_indexer] = value instead\n",
      "\n",
      "See the caveats in the documentation: https://pandas.pydata.org/pandas-docs/stable/user_guide/indexing.html#returning-a-view-versus-a-copy\n",
      "  X_test['lag_2'] = (X_test['lag_2']/100).astype(float)\n"
     ]
    }
   ],
   "source": [
    "X_test['cpu_util'] = (X_test['cpu_util']/100).astype(float)\n",
    "X_test['lag_1'] = (X_test['lag_1']/100).astype(float)\n",
    "X_test['lag_2'] = (X_test['lag_2']/100).astype(float)"
   ]
  },
  {
   "cell_type": "code",
   "execution_count": 8,
   "metadata": {},
   "outputs": [
    {
     "name": "stdout",
     "output_type": "stream",
     "text": [
      "WARNING:tensorflow:From c:\\Users\\HP\\AppData\\Local\\Programs\\Python\\Python310\\lib\\site-packages\\keras\\src\\backend.py:1398: The name tf.executing_eagerly_outside_functions is deprecated. Please use tf.compat.v1.executing_eagerly_outside_functions instead.\n",
      "\n"
     ]
    }
   ],
   "source": [
    "model = tf.keras.models.load_model('./model_custom_threshold.h5')"
   ]
  },
  {
   "cell_type": "code",
   "execution_count": null,
   "metadata": {},
   "outputs": [],
   "source": [
    "model.predict()"
   ]
  }
 ],
 "metadata": {
  "kernelspec": {
   "display_name": "Python 3",
   "language": "python",
   "name": "python3"
  },
  "language_info": {
   "codemirror_mode": {
    "name": "ipython",
    "version": 3
   },
   "file_extension": ".py",
   "mimetype": "text/x-python",
   "name": "python",
   "nbconvert_exporter": "python",
   "pygments_lexer": "ipython3",
   "version": "3.10.7"
  }
 },
 "nbformat": 4,
 "nbformat_minor": 2
}
