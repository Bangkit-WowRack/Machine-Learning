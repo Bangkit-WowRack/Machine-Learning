{
 "cells": [
  {
   "cell_type": "code",
   "execution_count": 22,
   "metadata": {},
   "outputs": [],
   "source": [
    "import pandas as pd\n",
    "import numpy as np\n",
    "import matplotlib.pyplot as plt\n",
    "import tensorflow as tf"
   ]
  },
  {
   "cell_type": "code",
   "execution_count": 23,
   "metadata": {},
   "outputs": [],
   "source": [
    "df = pd.read_csv('../generated_mem_data_with_anomaly.csv')\n",
    "df['date'] = pd.to_datetime(df['date'])"
   ]
  },
  {
   "cell_type": "code",
   "execution_count": 24,
   "metadata": {},
   "outputs": [
    {
     "data": {
      "text/html": [
       "<div>\n",
       "<style scoped>\n",
       "    .dataframe tbody tr th:only-of-type {\n",
       "        vertical-align: middle;\n",
       "    }\n",
       "\n",
       "    .dataframe tbody tr th {\n",
       "        vertical-align: top;\n",
       "    }\n",
       "\n",
       "    .dataframe thead th {\n",
       "        text-align: right;\n",
       "    }\n",
       "</style>\n",
       "<table border=\"1\" class=\"dataframe\">\n",
       "  <thead>\n",
       "    <tr style=\"text-align: right;\">\n",
       "      <th></th>\n",
       "      <th>mem_used</th>\n",
       "      <th>mem_specs</th>\n",
       "      <th>date</th>\n",
       "      <th>anomaly</th>\n",
       "    </tr>\n",
       "  </thead>\n",
       "  <tbody>\n",
       "    <tr>\n",
       "      <th>0</th>\n",
       "      <td>1.000000</td>\n",
       "      <td>16777216.0</td>\n",
       "      <td>2023-07-25 00:03:06.466</td>\n",
       "      <td>1</td>\n",
       "    </tr>\n",
       "    <tr>\n",
       "      <th>1</th>\n",
       "      <td>0.862886</td>\n",
       "      <td>16777216.0</td>\n",
       "      <td>2023-07-25 00:08:06.466</td>\n",
       "      <td>1</td>\n",
       "    </tr>\n",
       "    <tr>\n",
       "      <th>2</th>\n",
       "      <td>0.682798</td>\n",
       "      <td>16777216.0</td>\n",
       "      <td>2023-07-25 00:13:06.466</td>\n",
       "      <td>0</td>\n",
       "    </tr>\n",
       "    <tr>\n",
       "      <th>3</th>\n",
       "      <td>0.959150</td>\n",
       "      <td>16777216.0</td>\n",
       "      <td>2023-07-25 00:18:06.466</td>\n",
       "      <td>1</td>\n",
       "    </tr>\n",
       "    <tr>\n",
       "      <th>4</th>\n",
       "      <td>1.000000</td>\n",
       "      <td>16777216.0</td>\n",
       "      <td>2023-07-25 00:23:06.466</td>\n",
       "      <td>1</td>\n",
       "    </tr>\n",
       "    <tr>\n",
       "      <th>...</th>\n",
       "      <td>...</td>\n",
       "      <td>...</td>\n",
       "      <td>...</td>\n",
       "      <td>...</td>\n",
       "    </tr>\n",
       "    <tr>\n",
       "      <th>17851</th>\n",
       "      <td>0.066638</td>\n",
       "      <td>16777216.0</td>\n",
       "      <td>2023-09-24 23:38:08.122</td>\n",
       "      <td>0</td>\n",
       "    </tr>\n",
       "    <tr>\n",
       "      <th>17852</th>\n",
       "      <td>0.228046</td>\n",
       "      <td>16777216.0</td>\n",
       "      <td>2023-09-24 23:43:08.122</td>\n",
       "      <td>0</td>\n",
       "    </tr>\n",
       "    <tr>\n",
       "      <th>17853</th>\n",
       "      <td>0.637319</td>\n",
       "      <td>16777216.0</td>\n",
       "      <td>2023-09-24 23:48:08.122</td>\n",
       "      <td>1</td>\n",
       "    </tr>\n",
       "    <tr>\n",
       "      <th>17854</th>\n",
       "      <td>0.351833</td>\n",
       "      <td>16777216.0</td>\n",
       "      <td>2023-09-24 23:53:08.122</td>\n",
       "      <td>0</td>\n",
       "    </tr>\n",
       "    <tr>\n",
       "      <th>17855</th>\n",
       "      <td>0.476800</td>\n",
       "      <td>16777216.0</td>\n",
       "      <td>2023-09-24 23:58:08.122</td>\n",
       "      <td>1</td>\n",
       "    </tr>\n",
       "  </tbody>\n",
       "</table>\n",
       "<p>17856 rows × 4 columns</p>\n",
       "</div>"
      ],
      "text/plain": [
       "       mem_used   mem_specs                    date  anomaly\n",
       "0      1.000000  16777216.0 2023-07-25 00:03:06.466        1\n",
       "1      0.862886  16777216.0 2023-07-25 00:08:06.466        1\n",
       "2      0.682798  16777216.0 2023-07-25 00:13:06.466        0\n",
       "3      0.959150  16777216.0 2023-07-25 00:18:06.466        1\n",
       "4      1.000000  16777216.0 2023-07-25 00:23:06.466        1\n",
       "...         ...         ...                     ...      ...\n",
       "17851  0.066638  16777216.0 2023-09-24 23:38:08.122        0\n",
       "17852  0.228046  16777216.0 2023-09-24 23:43:08.122        0\n",
       "17853  0.637319  16777216.0 2023-09-24 23:48:08.122        1\n",
       "17854  0.351833  16777216.0 2023-09-24 23:53:08.122        0\n",
       "17855  0.476800  16777216.0 2023-09-24 23:58:08.122        1\n",
       "\n",
       "[17856 rows x 4 columns]"
      ]
     },
     "execution_count": 24,
     "metadata": {},
     "output_type": "execute_result"
    }
   ],
   "source": [
    "df"
   ]
  },
  {
   "cell_type": "code",
   "execution_count": 25,
   "metadata": {},
   "outputs": [],
   "source": [
    "num_lags = 2\n",
    "\n",
    "#add lag\n",
    "for i in range(1, num_lags+1):\n",
    "    df['lag_{}'.format(i)] = df['mem_used'].shift(i)\n",
    "  \n",
    "df = df.dropna()"
   ]
  },
  {
   "cell_type": "code",
   "execution_count": 26,
   "metadata": {},
   "outputs": [
    {
     "data": {
      "text/html": [
       "<div>\n",
       "<style scoped>\n",
       "    .dataframe tbody tr th:only-of-type {\n",
       "        vertical-align: middle;\n",
       "    }\n",
       "\n",
       "    .dataframe tbody tr th {\n",
       "        vertical-align: top;\n",
       "    }\n",
       "\n",
       "    .dataframe thead th {\n",
       "        text-align: right;\n",
       "    }\n",
       "</style>\n",
       "<table border=\"1\" class=\"dataframe\">\n",
       "  <thead>\n",
       "    <tr style=\"text-align: right;\">\n",
       "      <th></th>\n",
       "      <th>mem_used</th>\n",
       "      <th>mem_specs</th>\n",
       "      <th>date</th>\n",
       "      <th>anomaly</th>\n",
       "      <th>lag_1</th>\n",
       "      <th>lag_2</th>\n",
       "    </tr>\n",
       "  </thead>\n",
       "  <tbody>\n",
       "    <tr>\n",
       "      <th>2</th>\n",
       "      <td>0.682798</td>\n",
       "      <td>16777216.0</td>\n",
       "      <td>2023-07-25 00:13:06.466</td>\n",
       "      <td>0</td>\n",
       "      <td>0.862886</td>\n",
       "      <td>1.000000</td>\n",
       "    </tr>\n",
       "    <tr>\n",
       "      <th>3</th>\n",
       "      <td>0.959150</td>\n",
       "      <td>16777216.0</td>\n",
       "      <td>2023-07-25 00:18:06.466</td>\n",
       "      <td>1</td>\n",
       "      <td>0.682798</td>\n",
       "      <td>0.862886</td>\n",
       "    </tr>\n",
       "    <tr>\n",
       "      <th>4</th>\n",
       "      <td>1.000000</td>\n",
       "      <td>16777216.0</td>\n",
       "      <td>2023-07-25 00:23:06.466</td>\n",
       "      <td>1</td>\n",
       "      <td>0.959150</td>\n",
       "      <td>0.682798</td>\n",
       "    </tr>\n",
       "    <tr>\n",
       "      <th>5</th>\n",
       "      <td>0.719119</td>\n",
       "      <td>16777216.0</td>\n",
       "      <td>2023-07-25 00:28:06.466</td>\n",
       "      <td>0</td>\n",
       "      <td>1.000000</td>\n",
       "      <td>0.959150</td>\n",
       "    </tr>\n",
       "    <tr>\n",
       "      <th>6</th>\n",
       "      <td>0.746560</td>\n",
       "      <td>16777216.0</td>\n",
       "      <td>2023-07-25 00:33:06.466</td>\n",
       "      <td>0</td>\n",
       "      <td>0.719119</td>\n",
       "      <td>1.000000</td>\n",
       "    </tr>\n",
       "    <tr>\n",
       "      <th>...</th>\n",
       "      <td>...</td>\n",
       "      <td>...</td>\n",
       "      <td>...</td>\n",
       "      <td>...</td>\n",
       "      <td>...</td>\n",
       "      <td>...</td>\n",
       "    </tr>\n",
       "    <tr>\n",
       "      <th>17851</th>\n",
       "      <td>0.066638</td>\n",
       "      <td>16777216.0</td>\n",
       "      <td>2023-09-24 23:38:08.122</td>\n",
       "      <td>0</td>\n",
       "      <td>0.274351</td>\n",
       "      <td>0.302305</td>\n",
       "    </tr>\n",
       "    <tr>\n",
       "      <th>17852</th>\n",
       "      <td>0.228046</td>\n",
       "      <td>16777216.0</td>\n",
       "      <td>2023-09-24 23:43:08.122</td>\n",
       "      <td>0</td>\n",
       "      <td>0.066638</td>\n",
       "      <td>0.274351</td>\n",
       "    </tr>\n",
       "    <tr>\n",
       "      <th>17853</th>\n",
       "      <td>0.637319</td>\n",
       "      <td>16777216.0</td>\n",
       "      <td>2023-09-24 23:48:08.122</td>\n",
       "      <td>1</td>\n",
       "      <td>0.228046</td>\n",
       "      <td>0.066638</td>\n",
       "    </tr>\n",
       "    <tr>\n",
       "      <th>17854</th>\n",
       "      <td>0.351833</td>\n",
       "      <td>16777216.0</td>\n",
       "      <td>2023-09-24 23:53:08.122</td>\n",
       "      <td>0</td>\n",
       "      <td>0.637319</td>\n",
       "      <td>0.228046</td>\n",
       "    </tr>\n",
       "    <tr>\n",
       "      <th>17855</th>\n",
       "      <td>0.476800</td>\n",
       "      <td>16777216.0</td>\n",
       "      <td>2023-09-24 23:58:08.122</td>\n",
       "      <td>1</td>\n",
       "      <td>0.351833</td>\n",
       "      <td>0.637319</td>\n",
       "    </tr>\n",
       "  </tbody>\n",
       "</table>\n",
       "<p>17854 rows × 6 columns</p>\n",
       "</div>"
      ],
      "text/plain": [
       "       mem_used   mem_specs                    date  anomaly     lag_1  \\\n",
       "2      0.682798  16777216.0 2023-07-25 00:13:06.466        0  0.862886   \n",
       "3      0.959150  16777216.0 2023-07-25 00:18:06.466        1  0.682798   \n",
       "4      1.000000  16777216.0 2023-07-25 00:23:06.466        1  0.959150   \n",
       "5      0.719119  16777216.0 2023-07-25 00:28:06.466        0  1.000000   \n",
       "6      0.746560  16777216.0 2023-07-25 00:33:06.466        0  0.719119   \n",
       "...         ...         ...                     ...      ...       ...   \n",
       "17851  0.066638  16777216.0 2023-09-24 23:38:08.122        0  0.274351   \n",
       "17852  0.228046  16777216.0 2023-09-24 23:43:08.122        0  0.066638   \n",
       "17853  0.637319  16777216.0 2023-09-24 23:48:08.122        1  0.228046   \n",
       "17854  0.351833  16777216.0 2023-09-24 23:53:08.122        0  0.637319   \n",
       "17855  0.476800  16777216.0 2023-09-24 23:58:08.122        1  0.351833   \n",
       "\n",
       "          lag_2  \n",
       "2      1.000000  \n",
       "3      0.862886  \n",
       "4      0.682798  \n",
       "5      0.959150  \n",
       "6      1.000000  \n",
       "...         ...  \n",
       "17851  0.302305  \n",
       "17852  0.274351  \n",
       "17853  0.066638  \n",
       "17854  0.228046  \n",
       "17855  0.637319  \n",
       "\n",
       "[17854 rows x 6 columns]"
      ]
     },
     "execution_count": 26,
     "metadata": {},
     "output_type": "execute_result"
    }
   ],
   "source": [
    "df"
   ]
  },
  {
   "cell_type": "code",
   "execution_count": 27,
   "metadata": {},
   "outputs": [],
   "source": [
    "X = df[['mem_used', 'lag_1', 'lag_2']]\n",
    "y = df['anomaly']"
   ]
  },
  {
   "cell_type": "code",
   "execution_count": 28,
   "metadata": {},
   "outputs": [
    {
     "name": "stderr",
     "output_type": "stream",
     "text": [
      "C:\\Users\\HP\\AppData\\Local\\Temp\\ipykernel_24544\\3393326467.py:3: FutureWarning: The behavior of `series[i:j]` with an integer-dtype index is deprecated. In a future version, this will be treated as *label-based* indexing, consistent with e.g. `series[i]` lookups. To retain the old behavior, use `series.iloc[i:j]`. To get the future behavior, use `series.loc[i:j]`.\n",
      "  y_train = y[:int(0.7*len(y))]\n",
      "C:\\Users\\HP\\AppData\\Local\\Temp\\ipykernel_24544\\3393326467.py:4: FutureWarning: The behavior of `series[i:j]` with an integer-dtype index is deprecated. In a future version, this will be treated as *label-based* indexing, consistent with e.g. `series[i]` lookups. To retain the old behavior, use `series.iloc[i:j]`. To get the future behavior, use `series.loc[i:j]`.\n",
      "  y_test = y[int(0.7*len(y)):]\n"
     ]
    }
   ],
   "source": [
    "X_train = X[:int(0.7*len(X))]\n",
    "X_test = X[int(0.7*len(X)):]\n",
    "y_train = y[:int(0.7*len(y))]\n",
    "y_test = y[int(0.7*len(y)):]\n",
    "\n",
    "X_train = np.array(X_train)\n",
    "X_test = np.array(X_test)\n",
    "y_train = np.array(y_train)\n",
    "y_test = np.array(y_test)\n"
   ]
  },
  {
   "cell_type": "code",
   "execution_count": 29,
   "metadata": {},
   "outputs": [],
   "source": [
    "model = tf.keras.models.Sequential([\n",
    "    tf.keras.layers.LSTM(64, input_shape=(3, 1), return_sequences=True),\n",
    "    tf.keras.layers.LSTM(32),\n",
    "    tf.keras.layers.Dense(1, activation='sigmoid')\n",
    "])"
   ]
  },
  {
   "cell_type": "code",
   "execution_count": 30,
   "metadata": {},
   "outputs": [
    {
     "name": "stdout",
     "output_type": "stream",
     "text": [
      "WARNING:tensorflow:From c:\\Users\\HP\\AppData\\Local\\Programs\\Python\\Python310\\lib\\site-packages\\keras\\src\\optimizers\\__init__.py:309: The name tf.train.Optimizer is deprecated. Please use tf.compat.v1.train.Optimizer instead.\n",
      "\n"
     ]
    }
   ],
   "source": [
    "model.compile(optimizer='adam', loss='binary_crossentropy', metrics=['accuracy'])"
   ]
  },
  {
   "cell_type": "code",
   "execution_count": 31,
   "metadata": {},
   "outputs": [
    {
     "name": "stdout",
     "output_type": "stream",
     "text": [
      "Epoch 1/20\n",
      "391/391 [==============================] - 8s 10ms/step - loss: 0.2601 - accuracy: 0.9423 - val_loss: 0.2562 - val_accuracy: 0.9306\n",
      "Epoch 2/20\n",
      "391/391 [==============================] - 3s 7ms/step - loss: 0.2207 - accuracy: 0.9423 - val_loss: 0.2430 - val_accuracy: 0.9306\n",
      "Epoch 3/20\n",
      "391/391 [==============================] - 3s 7ms/step - loss: 0.2113 - accuracy: 0.9423 - val_loss: 0.2373 - val_accuracy: 0.9306\n",
      "Epoch 4/20\n",
      "391/391 [==============================] - 3s 7ms/step - loss: 0.1925 - accuracy: 0.9423 - val_loss: 0.2278 - val_accuracy: 0.9306\n",
      "Epoch 5/20\n",
      "391/391 [==============================] - 3s 7ms/step - loss: 0.1698 - accuracy: 0.9424 - val_loss: 0.1929 - val_accuracy: 0.9311\n",
      "Epoch 6/20\n",
      "391/391 [==============================] - 3s 7ms/step - loss: 0.1658 - accuracy: 0.9423 - val_loss: 0.1940 - val_accuracy: 0.9311\n",
      "Epoch 7/20\n",
      "391/391 [==============================] - 3s 7ms/step - loss: 0.1601 - accuracy: 0.9433 - val_loss: 0.1802 - val_accuracy: 0.9334\n",
      "Epoch 8/20\n",
      "391/391 [==============================] - 3s 7ms/step - loss: 0.1598 - accuracy: 0.9431 - val_loss: 0.1922 - val_accuracy: 0.9315\n",
      "Epoch 9/20\n",
      "391/391 [==============================] - 3s 7ms/step - loss: 0.1576 - accuracy: 0.9441 - val_loss: 0.1958 - val_accuracy: 0.9315\n",
      "Epoch 10/20\n",
      "391/391 [==============================] - 3s 7ms/step - loss: 0.1600 - accuracy: 0.9437 - val_loss: 0.1850 - val_accuracy: 0.9317\n",
      "Epoch 11/20\n",
      "391/391 [==============================] - 3s 7ms/step - loss: 0.1557 - accuracy: 0.9438 - val_loss: 0.1829 - val_accuracy: 0.9321\n",
      "Epoch 12/20\n",
      "391/391 [==============================] - 3s 7ms/step - loss: 0.1557 - accuracy: 0.9448 - val_loss: 0.1786 - val_accuracy: 0.9328\n",
      "Epoch 13/20\n",
      "391/391 [==============================] - 3s 7ms/step - loss: 0.1540 - accuracy: 0.9446 - val_loss: 0.1836 - val_accuracy: 0.9337\n",
      "Epoch 14/20\n",
      "391/391 [==============================] - 3s 7ms/step - loss: 0.1548 - accuracy: 0.9445 - val_loss: 0.1873 - val_accuracy: 0.9324\n",
      "Epoch 15/20\n",
      "391/391 [==============================] - 3s 7ms/step - loss: 0.1550 - accuracy: 0.9449 - val_loss: 0.1813 - val_accuracy: 0.9315\n",
      "Epoch 16/20\n",
      "391/391 [==============================] - 3s 7ms/step - loss: 0.1546 - accuracy: 0.9452 - val_loss: 0.2016 - val_accuracy: 0.9315\n",
      "Epoch 17/20\n",
      "391/391 [==============================] - 3s 7ms/step - loss: 0.1559 - accuracy: 0.9447 - val_loss: 0.1803 - val_accuracy: 0.9322\n",
      "Epoch 18/20\n",
      "391/391 [==============================] - 3s 7ms/step - loss: 0.1551 - accuracy: 0.9443 - val_loss: 0.2055 - val_accuracy: 0.9315\n",
      "Epoch 19/20\n",
      "391/391 [==============================] - 3s 7ms/step - loss: 0.1539 - accuracy: 0.9441 - val_loss: 0.1810 - val_accuracy: 0.9339\n",
      "Epoch 20/20\n",
      "391/391 [==============================] - 3s 7ms/step - loss: 0.1546 - accuracy: 0.9449 - val_loss: 0.1898 - val_accuracy: 0.9317\n"
     ]
    },
    {
     "data": {
      "text/plain": [
       "<keras.src.callbacks.History at 0x221e72d6a40>"
      ]
     },
     "execution_count": 31,
     "metadata": {},
     "output_type": "execute_result"
    }
   ],
   "source": [
    "model.fit(X_train, y_train, epochs=20, batch_size=32, validation_data=(X_test, y_test))"
   ]
  },
  {
   "cell_type": "code",
   "execution_count": 32,
   "metadata": {},
   "outputs": [
    {
     "name": "stdout",
     "output_type": "stream",
     "text": [
      "168/168 [==============================] - 1s 4ms/step - loss: 0.1898 - accuracy: 0.9317\n"
     ]
    },
    {
     "data": {
      "text/plain": [
       "[0.1897818148136139, 0.9316781759262085]"
      ]
     },
     "execution_count": 32,
     "metadata": {},
     "output_type": "execute_result"
    }
   ],
   "source": [
    "model.evaluate(X_test, y_test)"
   ]
  },
  {
   "cell_type": "code",
   "execution_count": 33,
   "metadata": {},
   "outputs": [
    {
     "name": "stdout",
     "output_type": "stream",
     "text": [
      "1/1 [==============================] - 1s 995ms/step\n"
     ]
    },
    {
     "data": {
      "text/plain": [
       "array([[4.8473790e-02],\n",
       "       [2.3698246e-03],\n",
       "       [2.0730928e-02],\n",
       "       [4.1508200e-03],\n",
       "       [1.9318149e-04],\n",
       "       [5.9249759e-01],\n",
       "       [2.8111436e-04],\n",
       "       [2.9007157e-03],\n",
       "       [1.6630528e-02]], dtype=float32)"
      ]
     },
     "execution_count": 33,
     "metadata": {},
     "output_type": "execute_result"
    }
   ],
   "source": [
    "model.predict([\n",
    "  [0.53, 0.53, 0.20],\n",
    "  [0.48, 0.53, 0.53],\n",
    "  [0.60, 0.48, 0.53],\n",
    "  [0.53, 0.60, 0.48],\n",
    "  [0.24, 0.53, 0.60],\n",
    "  [0.83, 0.24, 0.53],\n",
    "  [0.24, 0.83, 0.24],\n",
    "  [0.45, 0.24, 0.83],\n",
    "  [1, 1, 1]\n",
    "])"
   ]
  },
  {
   "cell_type": "code",
   "execution_count": 34,
   "metadata": {},
   "outputs": [
    {
     "name": "stderr",
     "output_type": "stream",
     "text": [
      "c:\\Users\\HP\\AppData\\Local\\Programs\\Python\\Python310\\lib\\site-packages\\keras\\src\\engine\\training.py:3103: UserWarning: You are saving your model as an HDF5 file via `model.save()`. This file format is considered legacy. We recommend using instead the native Keras format, e.g. `model.save('my_model.keras')`.\n",
      "  saving_api.save_model(\n"
     ]
    }
   ],
   "source": [
    "model.save('memory_model.h5')"
   ]
  },
  {
   "cell_type": "code",
   "execution_count": null,
   "metadata": {},
   "outputs": [],
   "source": []
  }
 ],
 "metadata": {
  "kernelspec": {
   "display_name": "Python 3",
   "language": "python",
   "name": "python3"
  },
  "language_info": {
   "codemirror_mode": {
    "name": "ipython",
    "version": 3
   },
   "file_extension": ".py",
   "mimetype": "text/x-python",
   "name": "python",
   "nbconvert_exporter": "python",
   "pygments_lexer": "ipython3",
   "version": "3.10.7"
  }
 },
 "nbformat": 4,
 "nbformat_minor": 2
}
