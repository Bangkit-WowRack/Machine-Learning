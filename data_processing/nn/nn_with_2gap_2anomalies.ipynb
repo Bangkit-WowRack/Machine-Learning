{
 "cells": [
  {
   "cell_type": "code",
   "execution_count": 3,
   "metadata": {},
   "outputs": [],
   "source": [
    "#neural network model\n",
    "\n",
    "import numpy as np\n",
    "import pandas as pd\n",
    "import matplotlib.pyplot as plt\n",
    "import seaborn as sns\n",
    "import tensorflow as tf\n",
    "from sklearn.preprocessing import StandardScaler\n"
   ]
  },
  {
   "cell_type": "code",
   "execution_count": 4,
   "metadata": {},
   "outputs": [],
   "source": [
    "df = pd.read_csv('../generated_cpu_data_with_anomaly.csv')\n",
    "df['date'] = pd.to_datetime(df['date'])"
   ]
  },
  {
   "cell_type": "code",
   "execution_count": 5,
   "metadata": {},
   "outputs": [
    {
     "data": {
      "text/html": [
       "<div>\n",
       "<style scoped>\n",
       "    .dataframe tbody tr th:only-of-type {\n",
       "        vertical-align: middle;\n",
       "    }\n",
       "\n",
       "    .dataframe tbody tr th {\n",
       "        vertical-align: top;\n",
       "    }\n",
       "\n",
       "    .dataframe thead th {\n",
       "        text-align: right;\n",
       "    }\n",
       "</style>\n",
       "<table border=\"1\" class=\"dataframe\">\n",
       "  <thead>\n",
       "    <tr style=\"text-align: right;\">\n",
       "      <th></th>\n",
       "      <th>cpu_util</th>\n",
       "      <th>date</th>\n",
       "      <th>anomaly</th>\n",
       "    </tr>\n",
       "  </thead>\n",
       "  <tbody>\n",
       "    <tr>\n",
       "      <th>0</th>\n",
       "      <td>89.447320</td>\n",
       "      <td>2023-06-25 00:03:05.640</td>\n",
       "      <td>1</td>\n",
       "    </tr>\n",
       "    <tr>\n",
       "      <th>1</th>\n",
       "      <td>57.320538</td>\n",
       "      <td>2023-06-25 00:08:05.640</td>\n",
       "      <td>0</td>\n",
       "    </tr>\n",
       "    <tr>\n",
       "      <th>2</th>\n",
       "      <td>87.058688</td>\n",
       "      <td>2023-06-25 00:13:05.640</td>\n",
       "      <td>1</td>\n",
       "    </tr>\n",
       "    <tr>\n",
       "      <th>3</th>\n",
       "      <td>87.409467</td>\n",
       "      <td>2023-06-25 00:18:05.640</td>\n",
       "      <td>1</td>\n",
       "    </tr>\n",
       "    <tr>\n",
       "      <th>4</th>\n",
       "      <td>78.111494</td>\n",
       "      <td>2023-06-25 00:23:05.640</td>\n",
       "      <td>1</td>\n",
       "    </tr>\n",
       "    <tr>\n",
       "      <th>...</th>\n",
       "      <td>...</td>\n",
       "      <td>...</td>\n",
       "      <td>...</td>\n",
       "    </tr>\n",
       "    <tr>\n",
       "      <th>8635</th>\n",
       "      <td>2.692620</td>\n",
       "      <td>2023-07-24 23:38:06.441</td>\n",
       "      <td>0</td>\n",
       "    </tr>\n",
       "    <tr>\n",
       "      <th>8636</th>\n",
       "      <td>30.604348</td>\n",
       "      <td>2023-07-24 23:43:06.441</td>\n",
       "      <td>1</td>\n",
       "    </tr>\n",
       "    <tr>\n",
       "      <th>8637</th>\n",
       "      <td>14.278655</td>\n",
       "      <td>2023-07-24 23:48:06.441</td>\n",
       "      <td>0</td>\n",
       "    </tr>\n",
       "    <tr>\n",
       "      <th>8638</th>\n",
       "      <td>35.247145</td>\n",
       "      <td>2023-07-24 23:53:06.441</td>\n",
       "      <td>1</td>\n",
       "    </tr>\n",
       "    <tr>\n",
       "      <th>8639</th>\n",
       "      <td>6.065125</td>\n",
       "      <td>2023-07-24 23:58:06.441</td>\n",
       "      <td>0</td>\n",
       "    </tr>\n",
       "  </tbody>\n",
       "</table>\n",
       "<p>8640 rows × 3 columns</p>\n",
       "</div>"
      ],
      "text/plain": [
       "       cpu_util                    date  anomaly\n",
       "0     89.447320 2023-06-25 00:03:05.640        1\n",
       "1     57.320538 2023-06-25 00:08:05.640        0\n",
       "2     87.058688 2023-06-25 00:13:05.640        1\n",
       "3     87.409467 2023-06-25 00:18:05.640        1\n",
       "4     78.111494 2023-06-25 00:23:05.640        1\n",
       "...         ...                     ...      ...\n",
       "8635   2.692620 2023-07-24 23:38:06.441        0\n",
       "8636  30.604348 2023-07-24 23:43:06.441        1\n",
       "8637  14.278655 2023-07-24 23:48:06.441        0\n",
       "8638  35.247145 2023-07-24 23:53:06.441        1\n",
       "8639   6.065125 2023-07-24 23:58:06.441        0\n",
       "\n",
       "[8640 rows x 3 columns]"
      ]
     },
     "execution_count": 5,
     "metadata": {},
     "output_type": "execute_result"
    }
   ],
   "source": [
    "df"
   ]
  },
  {
   "cell_type": "code",
   "execution_count": 6,
   "metadata": {},
   "outputs": [],
   "source": [
    "num_lags = 2\n",
    "\n",
    "#add lag\n",
    "for i in range(1, num_lags+1):\n",
    "    df['lag_{}'.format(i)] = df['cpu_util'].shift(i)\n",
    "    df['lag_{}_anomaly'.format(i)] = df['anomaly'].shift(i)\n"
   ]
  },
  {
   "cell_type": "code",
   "execution_count": 7,
   "metadata": {},
   "outputs": [
    {
     "data": {
      "text/html": [
       "<div>\n",
       "<style scoped>\n",
       "    .dataframe tbody tr th:only-of-type {\n",
       "        vertical-align: middle;\n",
       "    }\n",
       "\n",
       "    .dataframe tbody tr th {\n",
       "        vertical-align: top;\n",
       "    }\n",
       "\n",
       "    .dataframe thead th {\n",
       "        text-align: right;\n",
       "    }\n",
       "</style>\n",
       "<table border=\"1\" class=\"dataframe\">\n",
       "  <thead>\n",
       "    <tr style=\"text-align: right;\">\n",
       "      <th></th>\n",
       "      <th>cpu_util</th>\n",
       "      <th>date</th>\n",
       "      <th>anomaly</th>\n",
       "      <th>lag_1</th>\n",
       "      <th>lag_1_anomaly</th>\n",
       "      <th>lag_2</th>\n",
       "      <th>lag_2_anomaly</th>\n",
       "    </tr>\n",
       "  </thead>\n",
       "  <tbody>\n",
       "    <tr>\n",
       "      <th>2</th>\n",
       "      <td>87.058688</td>\n",
       "      <td>2023-06-25 00:13:05.640</td>\n",
       "      <td>1</td>\n",
       "      <td>57.320538</td>\n",
       "      <td>0.0</td>\n",
       "      <td>89.447320</td>\n",
       "      <td>1.0</td>\n",
       "    </tr>\n",
       "    <tr>\n",
       "      <th>3</th>\n",
       "      <td>87.409467</td>\n",
       "      <td>2023-06-25 00:18:05.640</td>\n",
       "      <td>1</td>\n",
       "      <td>87.058688</td>\n",
       "      <td>1.0</td>\n",
       "      <td>57.320538</td>\n",
       "      <td>0.0</td>\n",
       "    </tr>\n",
       "    <tr>\n",
       "      <th>4</th>\n",
       "      <td>78.111494</td>\n",
       "      <td>2023-06-25 00:23:05.640</td>\n",
       "      <td>1</td>\n",
       "      <td>87.409467</td>\n",
       "      <td>1.0</td>\n",
       "      <td>87.058688</td>\n",
       "      <td>1.0</td>\n",
       "    </tr>\n",
       "    <tr>\n",
       "      <th>5</th>\n",
       "      <td>65.111306</td>\n",
       "      <td>2023-06-25 00:28:05.640</td>\n",
       "      <td>0</td>\n",
       "      <td>78.111494</td>\n",
       "      <td>1.0</td>\n",
       "      <td>87.409467</td>\n",
       "      <td>1.0</td>\n",
       "    </tr>\n",
       "    <tr>\n",
       "      <th>6</th>\n",
       "      <td>94.526610</td>\n",
       "      <td>2023-06-25 00:33:05.640</td>\n",
       "      <td>1</td>\n",
       "      <td>65.111306</td>\n",
       "      <td>0.0</td>\n",
       "      <td>78.111494</td>\n",
       "      <td>1.0</td>\n",
       "    </tr>\n",
       "    <tr>\n",
       "      <th>...</th>\n",
       "      <td>...</td>\n",
       "      <td>...</td>\n",
       "      <td>...</td>\n",
       "      <td>...</td>\n",
       "      <td>...</td>\n",
       "      <td>...</td>\n",
       "      <td>...</td>\n",
       "    </tr>\n",
       "    <tr>\n",
       "      <th>8635</th>\n",
       "      <td>2.692620</td>\n",
       "      <td>2023-07-24 23:38:06.441</td>\n",
       "      <td>0</td>\n",
       "      <td>16.306464</td>\n",
       "      <td>0.0</td>\n",
       "      <td>30.297529</td>\n",
       "      <td>0.0</td>\n",
       "    </tr>\n",
       "    <tr>\n",
       "      <th>8636</th>\n",
       "      <td>30.604348</td>\n",
       "      <td>2023-07-24 23:43:06.441</td>\n",
       "      <td>1</td>\n",
       "      <td>2.692620</td>\n",
       "      <td>0.0</td>\n",
       "      <td>16.306464</td>\n",
       "      <td>0.0</td>\n",
       "    </tr>\n",
       "    <tr>\n",
       "      <th>8637</th>\n",
       "      <td>14.278655</td>\n",
       "      <td>2023-07-24 23:48:06.441</td>\n",
       "      <td>0</td>\n",
       "      <td>30.604348</td>\n",
       "      <td>1.0</td>\n",
       "      <td>2.692620</td>\n",
       "      <td>0.0</td>\n",
       "    </tr>\n",
       "    <tr>\n",
       "      <th>8638</th>\n",
       "      <td>35.247145</td>\n",
       "      <td>2023-07-24 23:53:06.441</td>\n",
       "      <td>1</td>\n",
       "      <td>14.278655</td>\n",
       "      <td>0.0</td>\n",
       "      <td>30.604348</td>\n",
       "      <td>1.0</td>\n",
       "    </tr>\n",
       "    <tr>\n",
       "      <th>8639</th>\n",
       "      <td>6.065125</td>\n",
       "      <td>2023-07-24 23:58:06.441</td>\n",
       "      <td>0</td>\n",
       "      <td>35.247145</td>\n",
       "      <td>1.0</td>\n",
       "      <td>14.278655</td>\n",
       "      <td>0.0</td>\n",
       "    </tr>\n",
       "  </tbody>\n",
       "</table>\n",
       "<p>8638 rows × 7 columns</p>\n",
       "</div>"
      ],
      "text/plain": [
       "       cpu_util                    date  anomaly      lag_1  lag_1_anomaly  \\\n",
       "2     87.058688 2023-06-25 00:13:05.640        1  57.320538            0.0   \n",
       "3     87.409467 2023-06-25 00:18:05.640        1  87.058688            1.0   \n",
       "4     78.111494 2023-06-25 00:23:05.640        1  87.409467            1.0   \n",
       "5     65.111306 2023-06-25 00:28:05.640        0  78.111494            1.0   \n",
       "6     94.526610 2023-06-25 00:33:05.640        1  65.111306            0.0   \n",
       "...         ...                     ...      ...        ...            ...   \n",
       "8635   2.692620 2023-07-24 23:38:06.441        0  16.306464            0.0   \n",
       "8636  30.604348 2023-07-24 23:43:06.441        1   2.692620            0.0   \n",
       "8637  14.278655 2023-07-24 23:48:06.441        0  30.604348            1.0   \n",
       "8638  35.247145 2023-07-24 23:53:06.441        1  14.278655            0.0   \n",
       "8639   6.065125 2023-07-24 23:58:06.441        0  35.247145            1.0   \n",
       "\n",
       "          lag_2  lag_2_anomaly  \n",
       "2     89.447320            1.0  \n",
       "3     57.320538            0.0  \n",
       "4     87.058688            1.0  \n",
       "5     87.409467            1.0  \n",
       "6     78.111494            1.0  \n",
       "...         ...            ...  \n",
       "8635  30.297529            0.0  \n",
       "8636  16.306464            0.0  \n",
       "8637   2.692620            0.0  \n",
       "8638  30.604348            1.0  \n",
       "8639  14.278655            0.0  \n",
       "\n",
       "[8638 rows x 7 columns]"
      ]
     },
     "execution_count": 7,
     "metadata": {},
     "output_type": "execute_result"
    }
   ],
   "source": [
    "df = df.dropna()\n",
    "df"
   ]
  },
  {
   "cell_type": "code",
   "execution_count": 8,
   "metadata": {},
   "outputs": [],
   "source": [
    "#split train and test\n",
    "X = df[['cpu_util', 'lag_1', 'lag_1_anomaly', 'lag_2', 'lag_2_anomaly']]\n",
    "y = df['anomaly']"
   ]
  },
  {
   "cell_type": "code",
   "execution_count": 9,
   "metadata": {},
   "outputs": [
    {
     "name": "stderr",
     "output_type": "stream",
     "text": [
      "C:\\Users\\HP\\AppData\\Local\\Temp\\ipykernel_19368\\3277832909.py:1: SettingWithCopyWarning: \n",
      "A value is trying to be set on a copy of a slice from a DataFrame.\n",
      "Try using .loc[row_indexer,col_indexer] = value instead\n",
      "\n",
      "See the caveats in the documentation: https://pandas.pydata.org/pandas-docs/stable/user_guide/indexing.html#returning-a-view-versus-a-copy\n",
      "  X['cpu_util'] = (X['cpu_util']/100).astype(float)\n",
      "C:\\Users\\HP\\AppData\\Local\\Temp\\ipykernel_19368\\3277832909.py:2: SettingWithCopyWarning: \n",
      "A value is trying to be set on a copy of a slice from a DataFrame.\n",
      "Try using .loc[row_indexer,col_indexer] = value instead\n",
      "\n",
      "See the caveats in the documentation: https://pandas.pydata.org/pandas-docs/stable/user_guide/indexing.html#returning-a-view-versus-a-copy\n",
      "  X['lag_1'] = (X['lag_1']/100).astype(float)\n",
      "C:\\Users\\HP\\AppData\\Local\\Temp\\ipykernel_19368\\3277832909.py:3: SettingWithCopyWarning: \n",
      "A value is trying to be set on a copy of a slice from a DataFrame.\n",
      "Try using .loc[row_indexer,col_indexer] = value instead\n",
      "\n",
      "See the caveats in the documentation: https://pandas.pydata.org/pandas-docs/stable/user_guide/indexing.html#returning-a-view-versus-a-copy\n",
      "  X['lag_2'] = (X['lag_2']/100).astype(float)\n"
     ]
    }
   ],
   "source": [
    "X['cpu_util'] = (X['cpu_util']/100).astype(float)\n",
    "X['lag_1'] = (X['lag_1']/100).astype(float)\n",
    "X['lag_2'] = (X['lag_2']/100).astype(float)"
   ]
  },
  {
   "cell_type": "code",
   "execution_count": 10,
   "metadata": {},
   "outputs": [
    {
     "name": "stderr",
     "output_type": "stream",
     "text": [
      "C:\\Users\\HP\\AppData\\Local\\Temp\\ipykernel_19368\\3789776307.py:3: FutureWarning: The behavior of `series[i:j]` with an integer-dtype index is deprecated. In a future version, this will be treated as *label-based* indexing, consistent with e.g. `series[i]` lookups. To retain the old behavior, use `series.iloc[i:j]`. To get the future behavior, use `series.loc[i:j]`.\n",
      "  y_train = y[:int(0.7*len(y))]\n",
      "C:\\Users\\HP\\AppData\\Local\\Temp\\ipykernel_19368\\3789776307.py:4: FutureWarning: The behavior of `series[i:j]` with an integer-dtype index is deprecated. In a future version, this will be treated as *label-based* indexing, consistent with e.g. `series[i]` lookups. To retain the old behavior, use `series.iloc[i:j]`. To get the future behavior, use `series.loc[i:j]`.\n",
      "  y_test = y[int(0.7*len(y)):]\n"
     ]
    }
   ],
   "source": [
    "X_train = X[:int(0.7*len(X))]\n",
    "X_test = X[int(0.7*len(X)):]\n",
    "y_train = y[:int(0.7*len(y))]\n",
    "y_test = y[int(0.7*len(y)):]\n",
    "\n",
    "X_train = np.array(X_train)\n",
    "X_test = np.array(X_test)\n",
    "y_train = np.array(y_train)\n",
    "y_test = np.array(y_test)"
   ]
  },
  {
   "cell_type": "code",
   "execution_count": 11,
   "metadata": {},
   "outputs": [
    {
     "name": "stdout",
     "output_type": "stream",
     "text": [
      "WARNING:tensorflow:From c:\\Users\\HP\\AppData\\Local\\Programs\\Python\\Python310\\lib\\site-packages\\keras\\src\\layers\\rnn\\lstm.py:148: The name tf.executing_eagerly_outside_functions is deprecated. Please use tf.compat.v1.executing_eagerly_outside_functions instead.\n",
      "\n"
     ]
    }
   ],
   "source": [
    "model = tf.keras.models.Sequential([\n",
    "    tf.keras.layers.LSTM(64, input_shape=(5, 1), return_sequences=True),\n",
    "    tf.keras.layers.LSTM(32),\n",
    "    tf.keras.layers.Dense(16, activation='relu'),\n",
    "    tf.keras.layers.Dense(1, activation='sigmoid')\n",
    "])"
   ]
  },
  {
   "cell_type": "code",
   "execution_count": 12,
   "metadata": {},
   "outputs": [
    {
     "name": "stdout",
     "output_type": "stream",
     "text": [
      "WARNING:tensorflow:From c:\\Users\\HP\\AppData\\Local\\Programs\\Python\\Python310\\lib\\site-packages\\keras\\src\\optimizers\\__init__.py:309: The name tf.train.Optimizer is deprecated. Please use tf.compat.v1.train.Optimizer instead.\n",
      "\n"
     ]
    }
   ],
   "source": [
    "model.compile(optimizer='adam', loss='binary_crossentropy', metrics=['accuracy'])\n"
   ]
  },
  {
   "cell_type": "code",
   "execution_count": 18,
   "metadata": {},
   "outputs": [
    {
     "name": "stdout",
     "output_type": "stream",
     "text": [
      "Epoch 1/20\n",
      "189/189 [==============================] - 2s 10ms/step - loss: 0.1306 - accuracy: 0.9484 - val_loss: 0.1048 - val_accuracy: 0.9564\n",
      "Epoch 2/20\n",
      "189/189 [==============================] - 2s 10ms/step - loss: 0.1271 - accuracy: 0.9479 - val_loss: 0.1032 - val_accuracy: 0.9564\n",
      "Epoch 3/20\n",
      "189/189 [==============================] - 2s 9ms/step - loss: 0.1221 - accuracy: 0.9505 - val_loss: 0.1081 - val_accuracy: 0.9537\n",
      "Epoch 4/20\n",
      "189/189 [==============================] - 2s 10ms/step - loss: 0.1219 - accuracy: 0.9510 - val_loss: 0.1057 - val_accuracy: 0.9541\n",
      "Epoch 5/20\n",
      "189/189 [==============================] - 2s 9ms/step - loss: 0.1170 - accuracy: 0.9543 - val_loss: 0.1436 - val_accuracy: 0.9533\n",
      "Epoch 6/20\n",
      "189/189 [==============================] - 2s 9ms/step - loss: 0.1200 - accuracy: 0.9532 - val_loss: 0.1201 - val_accuracy: 0.9525\n",
      "Epoch 7/20\n",
      "189/189 [==============================] - 2s 9ms/step - loss: 0.1179 - accuracy: 0.9550 - val_loss: 0.1059 - val_accuracy: 0.9541\n",
      "Epoch 8/20\n",
      "189/189 [==============================] - 2s 10ms/step - loss: 0.1172 - accuracy: 0.9530 - val_loss: 0.1173 - val_accuracy: 0.9522\n",
      "Epoch 9/20\n",
      "189/189 [==============================] - 2s 11ms/step - loss: 0.1181 - accuracy: 0.9534 - val_loss: 0.1080 - val_accuracy: 0.9537\n",
      "Epoch 10/20\n",
      "189/189 [==============================] - 2s 11ms/step - loss: 0.1166 - accuracy: 0.9532 - val_loss: 0.1046 - val_accuracy: 0.9545\n",
      "Epoch 11/20\n",
      "189/189 [==============================] - 2s 11ms/step - loss: 0.1187 - accuracy: 0.9534 - val_loss: 0.1020 - val_accuracy: 0.9549\n",
      "Epoch 12/20\n",
      "189/189 [==============================] - 2s 10ms/step - loss: 0.1172 - accuracy: 0.9512 - val_loss: 0.1011 - val_accuracy: 0.9572\n",
      "Epoch 13/20\n",
      "189/189 [==============================] - 2s 11ms/step - loss: 0.1165 - accuracy: 0.9530 - val_loss: 0.1076 - val_accuracy: 0.9537\n",
      "Epoch 14/20\n",
      "189/189 [==============================] - 2s 10ms/step - loss: 0.1193 - accuracy: 0.9530 - val_loss: 0.1099 - val_accuracy: 0.9552\n",
      "Epoch 15/20\n",
      "189/189 [==============================] - 2s 11ms/step - loss: 0.1170 - accuracy: 0.9537 - val_loss: 0.1061 - val_accuracy: 0.9549\n",
      "Epoch 16/20\n",
      "189/189 [==============================] - 2s 11ms/step - loss: 0.1151 - accuracy: 0.9548 - val_loss: 0.1138 - val_accuracy: 0.9537\n",
      "Epoch 17/20\n",
      "189/189 [==============================] - 2s 11ms/step - loss: 0.1148 - accuracy: 0.9543 - val_loss: 0.1031 - val_accuracy: 0.9576\n",
      "Epoch 18/20\n",
      "189/189 [==============================] - 2s 11ms/step - loss: 0.1184 - accuracy: 0.9548 - val_loss: 0.1090 - val_accuracy: 0.9522\n",
      "Epoch 19/20\n",
      "189/189 [==============================] - 2s 11ms/step - loss: 0.1171 - accuracy: 0.9530 - val_loss: 0.1048 - val_accuracy: 0.9541\n",
      "Epoch 20/20\n",
      "189/189 [==============================] - 2s 11ms/step - loss: 0.1139 - accuracy: 0.9548 - val_loss: 0.1114 - val_accuracy: 0.9525\n"
     ]
    },
    {
     "data": {
      "text/plain": [
       "<keras.src.callbacks.History at 0x158c63d3730>"
      ]
     },
     "execution_count": 18,
     "metadata": {},
     "output_type": "execute_result"
    }
   ],
   "source": [
    "model.fit(X_train, y_train, epochs=20, batch_size=32, validation_data=(X_test, y_test))\n"
   ]
  },
  {
   "cell_type": "code",
   "execution_count": null,
   "metadata": {},
   "outputs": [],
   "source": [
    "# model = tf.keras.models.load_model('../models/nn_with_2gap_2anomalies.h5')"
   ]
  },
  {
   "cell_type": "code",
   "execution_count": 19,
   "metadata": {},
   "outputs": [
    {
     "name": "stdout",
     "output_type": "stream",
     "text": [
      "1/1 [==============================] - 0s 91ms/step\n"
     ]
    }
   ],
   "source": [
    "predict = model.predict([\n",
    "  [0.123, 0.213, 0, 0.9324, 0], \n",
    "  [0.502, 0.123, 0, 0.213, 0], \n",
    "  [0.8432, 0.502, 0, 0.123, 0], \n",
    "  [0.943, 0.8432, 1, 0.502, 0], \n",
    "  [0.70, 0.943, 1, 0.8432, 1],\n",
    "  [1, 0.70, 0, 0.943, 1],\n",
    "])"
   ]
  },
  {
   "cell_type": "code",
   "execution_count": 20,
   "metadata": {},
   "outputs": [
    {
     "data": {
      "text/plain": [
       "array([[8.1404378e-06],\n",
       "       [4.6682647e-01],\n",
       "       [8.0815858e-01],\n",
       "       [9.3443632e-01],\n",
       "       [2.5216900e-02],\n",
       "       [8.7797117e-01]], dtype=float32)"
      ]
     },
     "execution_count": 20,
     "metadata": {},
     "output_type": "execute_result"
    }
   ],
   "source": [
    "predict"
   ]
  },
  {
   "cell_type": "code",
   "execution_count": 21,
   "metadata": {},
   "outputs": [
    {
     "data": {
      "text/plain": [
       "8.1404378e-06"
      ]
     },
     "execution_count": 21,
     "metadata": {},
     "output_type": "execute_result"
    }
   ],
   "source": [
    "8.1404378e-06"
   ]
  },
  {
   "cell_type": "code",
   "execution_count": null,
   "metadata": {},
   "outputs": [],
   "source": [
    "array([[4.6048585e-06],\n",
    "       [3.9161438e-01],\n",
    "       [7.6850414e-01],\n",
    "       [5.4467201e-01],\n",
    "       [2.9657671e-01],\n",
    "       [5.4232013e-01]], dtype=float32)"
   ]
  }
 ],
 "metadata": {
  "kernelspec": {
   "display_name": "Python 3",
   "language": "python",
   "name": "python3"
  },
  "language_info": {
   "codemirror_mode": {
    "name": "ipython",
    "version": 3
   },
   "file_extension": ".py",
   "mimetype": "text/x-python",
   "name": "python",
   "nbconvert_exporter": "python",
   "pygments_lexer": "ipython3",
   "version": "3.10.7"
  }
 },
 "nbformat": 4,
 "nbformat_minor": 2
}
