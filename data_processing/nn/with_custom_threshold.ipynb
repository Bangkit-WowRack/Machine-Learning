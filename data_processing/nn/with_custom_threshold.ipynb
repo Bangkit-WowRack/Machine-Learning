{
 "cells": [
  {
   "cell_type": "code",
   "execution_count": 1,
   "metadata": {},
   "outputs": [
    {
     "name": "stdout",
     "output_type": "stream",
     "text": [
      "WARNING:tensorflow:From c:\\Users\\HP\\AppData\\Local\\Programs\\Python\\Python310\\lib\\site-packages\\keras\\src\\losses.py:2976: The name tf.losses.sparse_softmax_cross_entropy is deprecated. Please use tf.compat.v1.losses.sparse_softmax_cross_entropy instead.\n",
      "\n"
     ]
    }
   ],
   "source": [
    "import pandas as pd\n",
    "import numpy as np\n",
    "import matplotlib.pyplot as plt\n",
    "import tensorflow as tf"
   ]
  },
  {
   "cell_type": "code",
   "execution_count": 2,
   "metadata": {},
   "outputs": [],
   "source": [
    "df = pd.read_csv('../generated_cpu_data_with_anomaly_v2_custom_threshold_v2.csv')\n",
    "df['date'] = pd.to_datetime(df['date'])"
   ]
  },
  {
   "cell_type": "code",
   "execution_count": 3,
   "metadata": {},
   "outputs": [
    {
     "data": {
      "text/html": [
       "<div>\n",
       "<style scoped>\n",
       "    .dataframe tbody tr th:only-of-type {\n",
       "        vertical-align: middle;\n",
       "    }\n",
       "\n",
       "    .dataframe tbody tr th {\n",
       "        vertical-align: top;\n",
       "    }\n",
       "\n",
       "    .dataframe thead th {\n",
       "        text-align: right;\n",
       "    }\n",
       "</style>\n",
       "<table border=\"1\" class=\"dataframe\">\n",
       "  <thead>\n",
       "    <tr style=\"text-align: right;\">\n",
       "      <th></th>\n",
       "      <th>cpu_util</th>\n",
       "      <th>date</th>\n",
       "      <th>anomaly</th>\n",
       "    </tr>\n",
       "  </thead>\n",
       "  <tbody>\n",
       "    <tr>\n",
       "      <th>0</th>\n",
       "      <td>89.447320</td>\n",
       "      <td>2023-06-25 00:03:05.640</td>\n",
       "      <td>1</td>\n",
       "    </tr>\n",
       "    <tr>\n",
       "      <th>1</th>\n",
       "      <td>57.320538</td>\n",
       "      <td>2023-06-25 00:08:05.640</td>\n",
       "      <td>0</td>\n",
       "    </tr>\n",
       "    <tr>\n",
       "      <th>2</th>\n",
       "      <td>87.058688</td>\n",
       "      <td>2023-06-25 00:13:05.640</td>\n",
       "      <td>1</td>\n",
       "    </tr>\n",
       "    <tr>\n",
       "      <th>3</th>\n",
       "      <td>87.409467</td>\n",
       "      <td>2023-06-25 00:18:05.640</td>\n",
       "      <td>1</td>\n",
       "    </tr>\n",
       "    <tr>\n",
       "      <th>4</th>\n",
       "      <td>78.111494</td>\n",
       "      <td>2023-06-25 00:23:05.640</td>\n",
       "      <td>0</td>\n",
       "    </tr>\n",
       "    <tr>\n",
       "      <th>...</th>\n",
       "      <td>...</td>\n",
       "      <td>...</td>\n",
       "      <td>...</td>\n",
       "    </tr>\n",
       "    <tr>\n",
       "      <th>8635</th>\n",
       "      <td>2.692620</td>\n",
       "      <td>2023-07-24 23:38:06.441</td>\n",
       "      <td>0</td>\n",
       "    </tr>\n",
       "    <tr>\n",
       "      <th>8636</th>\n",
       "      <td>30.604348</td>\n",
       "      <td>2023-07-24 23:43:06.441</td>\n",
       "      <td>0</td>\n",
       "    </tr>\n",
       "    <tr>\n",
       "      <th>8637</th>\n",
       "      <td>14.278655</td>\n",
       "      <td>2023-07-24 23:48:06.441</td>\n",
       "      <td>0</td>\n",
       "    </tr>\n",
       "    <tr>\n",
       "      <th>8638</th>\n",
       "      <td>35.247145</td>\n",
       "      <td>2023-07-24 23:53:06.441</td>\n",
       "      <td>0</td>\n",
       "    </tr>\n",
       "    <tr>\n",
       "      <th>8639</th>\n",
       "      <td>6.065125</td>\n",
       "      <td>2023-07-24 23:58:06.441</td>\n",
       "      <td>0</td>\n",
       "    </tr>\n",
       "  </tbody>\n",
       "</table>\n",
       "<p>8640 rows × 3 columns</p>\n",
       "</div>"
      ],
      "text/plain": [
       "       cpu_util                    date  anomaly\n",
       "0     89.447320 2023-06-25 00:03:05.640        1\n",
       "1     57.320538 2023-06-25 00:08:05.640        0\n",
       "2     87.058688 2023-06-25 00:13:05.640        1\n",
       "3     87.409467 2023-06-25 00:18:05.640        1\n",
       "4     78.111494 2023-06-25 00:23:05.640        0\n",
       "...         ...                     ...      ...\n",
       "8635   2.692620 2023-07-24 23:38:06.441        0\n",
       "8636  30.604348 2023-07-24 23:43:06.441        0\n",
       "8637  14.278655 2023-07-24 23:48:06.441        0\n",
       "8638  35.247145 2023-07-24 23:53:06.441        0\n",
       "8639   6.065125 2023-07-24 23:58:06.441        0\n",
       "\n",
       "[8640 rows x 3 columns]"
      ]
     },
     "execution_count": 3,
     "metadata": {},
     "output_type": "execute_result"
    }
   ],
   "source": [
    "df"
   ]
  },
  {
   "cell_type": "code",
   "execution_count": 4,
   "metadata": {},
   "outputs": [],
   "source": [
    "num_lags = 2\n",
    "\n",
    "#add lag\n",
    "for i in range(1, num_lags+1):\n",
    "    df['lag_{}'.format(i)] = df['cpu_util'].shift(i)\n",
    "  \n",
    "df = df.dropna()"
   ]
  },
  {
   "cell_type": "code",
   "execution_count": 5,
   "metadata": {},
   "outputs": [
    {
     "data": {
      "text/html": [
       "<div>\n",
       "<style scoped>\n",
       "    .dataframe tbody tr th:only-of-type {\n",
       "        vertical-align: middle;\n",
       "    }\n",
       "\n",
       "    .dataframe tbody tr th {\n",
       "        vertical-align: top;\n",
       "    }\n",
       "\n",
       "    .dataframe thead th {\n",
       "        text-align: right;\n",
       "    }\n",
       "</style>\n",
       "<table border=\"1\" class=\"dataframe\">\n",
       "  <thead>\n",
       "    <tr style=\"text-align: right;\">\n",
       "      <th></th>\n",
       "      <th>cpu_util</th>\n",
       "      <th>date</th>\n",
       "      <th>anomaly</th>\n",
       "      <th>lag_1</th>\n",
       "      <th>lag_2</th>\n",
       "    </tr>\n",
       "  </thead>\n",
       "  <tbody>\n",
       "    <tr>\n",
       "      <th>2</th>\n",
       "      <td>87.058688</td>\n",
       "      <td>2023-06-25 00:13:05.640</td>\n",
       "      <td>1</td>\n",
       "      <td>57.320538</td>\n",
       "      <td>89.447320</td>\n",
       "    </tr>\n",
       "    <tr>\n",
       "      <th>3</th>\n",
       "      <td>87.409467</td>\n",
       "      <td>2023-06-25 00:18:05.640</td>\n",
       "      <td>1</td>\n",
       "      <td>87.058688</td>\n",
       "      <td>57.320538</td>\n",
       "    </tr>\n",
       "    <tr>\n",
       "      <th>4</th>\n",
       "      <td>78.111494</td>\n",
       "      <td>2023-06-25 00:23:05.640</td>\n",
       "      <td>0</td>\n",
       "      <td>87.409467</td>\n",
       "      <td>87.058688</td>\n",
       "    </tr>\n",
       "    <tr>\n",
       "      <th>5</th>\n",
       "      <td>65.111306</td>\n",
       "      <td>2023-06-25 00:28:05.640</td>\n",
       "      <td>0</td>\n",
       "      <td>78.111494</td>\n",
       "      <td>87.409467</td>\n",
       "    </tr>\n",
       "    <tr>\n",
       "      <th>6</th>\n",
       "      <td>94.526610</td>\n",
       "      <td>2023-06-25 00:33:05.640</td>\n",
       "      <td>1</td>\n",
       "      <td>65.111306</td>\n",
       "      <td>78.111494</td>\n",
       "    </tr>\n",
       "    <tr>\n",
       "      <th>...</th>\n",
       "      <td>...</td>\n",
       "      <td>...</td>\n",
       "      <td>...</td>\n",
       "      <td>...</td>\n",
       "      <td>...</td>\n",
       "    </tr>\n",
       "    <tr>\n",
       "      <th>8635</th>\n",
       "      <td>2.692620</td>\n",
       "      <td>2023-07-24 23:38:06.441</td>\n",
       "      <td>0</td>\n",
       "      <td>16.306464</td>\n",
       "      <td>30.297529</td>\n",
       "    </tr>\n",
       "    <tr>\n",
       "      <th>8636</th>\n",
       "      <td>30.604348</td>\n",
       "      <td>2023-07-24 23:43:06.441</td>\n",
       "      <td>0</td>\n",
       "      <td>2.692620</td>\n",
       "      <td>16.306464</td>\n",
       "    </tr>\n",
       "    <tr>\n",
       "      <th>8637</th>\n",
       "      <td>14.278655</td>\n",
       "      <td>2023-07-24 23:48:06.441</td>\n",
       "      <td>0</td>\n",
       "      <td>30.604348</td>\n",
       "      <td>2.692620</td>\n",
       "    </tr>\n",
       "    <tr>\n",
       "      <th>8638</th>\n",
       "      <td>35.247145</td>\n",
       "      <td>2023-07-24 23:53:06.441</td>\n",
       "      <td>0</td>\n",
       "      <td>14.278655</td>\n",
       "      <td>30.604348</td>\n",
       "    </tr>\n",
       "    <tr>\n",
       "      <th>8639</th>\n",
       "      <td>6.065125</td>\n",
       "      <td>2023-07-24 23:58:06.441</td>\n",
       "      <td>0</td>\n",
       "      <td>35.247145</td>\n",
       "      <td>14.278655</td>\n",
       "    </tr>\n",
       "  </tbody>\n",
       "</table>\n",
       "<p>8638 rows × 5 columns</p>\n",
       "</div>"
      ],
      "text/plain": [
       "       cpu_util                    date  anomaly      lag_1      lag_2\n",
       "2     87.058688 2023-06-25 00:13:05.640        1  57.320538  89.447320\n",
       "3     87.409467 2023-06-25 00:18:05.640        1  87.058688  57.320538\n",
       "4     78.111494 2023-06-25 00:23:05.640        0  87.409467  87.058688\n",
       "5     65.111306 2023-06-25 00:28:05.640        0  78.111494  87.409467\n",
       "6     94.526610 2023-06-25 00:33:05.640        1  65.111306  78.111494\n",
       "...         ...                     ...      ...        ...        ...\n",
       "8635   2.692620 2023-07-24 23:38:06.441        0  16.306464  30.297529\n",
       "8636  30.604348 2023-07-24 23:43:06.441        0   2.692620  16.306464\n",
       "8637  14.278655 2023-07-24 23:48:06.441        0  30.604348   2.692620\n",
       "8638  35.247145 2023-07-24 23:53:06.441        0  14.278655  30.604348\n",
       "8639   6.065125 2023-07-24 23:58:06.441        0  35.247145  14.278655\n",
       "\n",
       "[8638 rows x 5 columns]"
      ]
     },
     "execution_count": 5,
     "metadata": {},
     "output_type": "execute_result"
    }
   ],
   "source": [
    "df"
   ]
  },
  {
   "cell_type": "code",
   "execution_count": 6,
   "metadata": {},
   "outputs": [],
   "source": [
    "X = df[['cpu_util', 'lag_1', 'lag_2']]\n",
    "y = df['anomaly']"
   ]
  },
  {
   "cell_type": "code",
   "execution_count": 7,
   "metadata": {},
   "outputs": [
    {
     "name": "stderr",
     "output_type": "stream",
     "text": [
      "C:\\Users\\HP\\AppData\\Local\\Temp\\ipykernel_11772\\3277832909.py:1: SettingWithCopyWarning: \n",
      "A value is trying to be set on a copy of a slice from a DataFrame.\n",
      "Try using .loc[row_indexer,col_indexer] = value instead\n",
      "\n",
      "See the caveats in the documentation: https://pandas.pydata.org/pandas-docs/stable/user_guide/indexing.html#returning-a-view-versus-a-copy\n",
      "  X['cpu_util'] = (X['cpu_util']/100).astype(float)\n",
      "C:\\Users\\HP\\AppData\\Local\\Temp\\ipykernel_11772\\3277832909.py:2: SettingWithCopyWarning: \n",
      "A value is trying to be set on a copy of a slice from a DataFrame.\n",
      "Try using .loc[row_indexer,col_indexer] = value instead\n",
      "\n",
      "See the caveats in the documentation: https://pandas.pydata.org/pandas-docs/stable/user_guide/indexing.html#returning-a-view-versus-a-copy\n",
      "  X['lag_1'] = (X['lag_1']/100).astype(float)\n",
      "C:\\Users\\HP\\AppData\\Local\\Temp\\ipykernel_11772\\3277832909.py:3: SettingWithCopyWarning: \n",
      "A value is trying to be set on a copy of a slice from a DataFrame.\n",
      "Try using .loc[row_indexer,col_indexer] = value instead\n",
      "\n",
      "See the caveats in the documentation: https://pandas.pydata.org/pandas-docs/stable/user_guide/indexing.html#returning-a-view-versus-a-copy\n",
      "  X['lag_2'] = (X['lag_2']/100).astype(float)\n"
     ]
    }
   ],
   "source": [
    "X['cpu_util'] = (X['cpu_util']/100).astype(float)\n",
    "X['lag_1'] = (X['lag_1']/100).astype(float)\n",
    "X['lag_2'] = (X['lag_2']/100).astype(float)"
   ]
  },
  {
   "cell_type": "code",
   "execution_count": 8,
   "metadata": {},
   "outputs": [
    {
     "name": "stderr",
     "output_type": "stream",
     "text": [
      "C:\\Users\\HP\\AppData\\Local\\Temp\\ipykernel_11772\\3789776307.py:3: FutureWarning: The behavior of `series[i:j]` with an integer-dtype index is deprecated. In a future version, this will be treated as *label-based* indexing, consistent with e.g. `series[i]` lookups. To retain the old behavior, use `series.iloc[i:j]`. To get the future behavior, use `series.loc[i:j]`.\n",
      "  y_train = y[:int(0.7*len(y))]\n",
      "C:\\Users\\HP\\AppData\\Local\\Temp\\ipykernel_11772\\3789776307.py:4: FutureWarning: The behavior of `series[i:j]` with an integer-dtype index is deprecated. In a future version, this will be treated as *label-based* indexing, consistent with e.g. `series[i]` lookups. To retain the old behavior, use `series.iloc[i:j]`. To get the future behavior, use `series.loc[i:j]`.\n",
      "  y_test = y[int(0.7*len(y)):]\n"
     ]
    }
   ],
   "source": [
    "X_train = X[:int(0.7*len(X))]\n",
    "X_test = X[int(0.7*len(X)):]\n",
    "y_train = y[:int(0.7*len(y))]\n",
    "y_test = y[int(0.7*len(y)):]\n",
    "\n",
    "X_train = np.array(X_train)\n",
    "X_test = np.array(X_test)\n",
    "y_train = np.array(y_train)\n",
    "y_test = np.array(y_test)"
   ]
  },
  {
   "cell_type": "code",
   "execution_count": 9,
   "metadata": {},
   "outputs": [
    {
     "name": "stdout",
     "output_type": "stream",
     "text": [
      "WARNING:tensorflow:From c:\\Users\\HP\\AppData\\Local\\Programs\\Python\\Python310\\lib\\site-packages\\keras\\src\\layers\\rnn\\lstm.py:148: The name tf.executing_eagerly_outside_functions is deprecated. Please use tf.compat.v1.executing_eagerly_outside_functions instead.\n",
      "\n"
     ]
    }
   ],
   "source": [
    "model = tf.keras.models.Sequential([\n",
    "    tf.keras.layers.LSTM(64, input_shape=(3, 1), return_sequences=True),\n",
    "    tf.keras.layers.LSTM(32),\n",
    "    tf.keras.layers.Dense(1, activation='sigmoid')\n",
    "])"
   ]
  },
  {
   "cell_type": "code",
   "execution_count": 10,
   "metadata": {},
   "outputs": [
    {
     "name": "stdout",
     "output_type": "stream",
     "text": [
      "WARNING:tensorflow:From c:\\Users\\HP\\AppData\\Local\\Programs\\Python\\Python310\\lib\\site-packages\\keras\\src\\optimizers\\__init__.py:309: The name tf.train.Optimizer is deprecated. Please use tf.compat.v1.train.Optimizer instead.\n",
      "\n"
     ]
    }
   ],
   "source": [
    "model.compile(optimizer='adam', loss='binary_crossentropy', metrics=['accuracy'])"
   ]
  },
  {
   "cell_type": "code",
   "execution_count": 11,
   "metadata": {},
   "outputs": [
    {
     "name": "stdout",
     "output_type": "stream",
     "text": [
      "Epoch 1/20\n",
      "WARNING:tensorflow:From c:\\Users\\HP\\AppData\\Local\\Programs\\Python\\Python310\\lib\\site-packages\\keras\\src\\utils\\tf_utils.py:492: The name tf.ragged.RaggedTensorValue is deprecated. Please use tf.compat.v1.ragged.RaggedTensorValue instead.\n",
      "\n",
      "WARNING:tensorflow:From c:\\Users\\HP\\AppData\\Local\\Programs\\Python\\Python310\\lib\\site-packages\\keras\\src\\engine\\base_layer_utils.py:384: The name tf.executing_eagerly_outside_functions is deprecated. Please use tf.compat.v1.executing_eagerly_outside_functions instead.\n",
      "\n",
      "189/189 [==============================] - 7s 13ms/step - loss: 0.4558 - accuracy: 0.8344 - val_loss: 0.2189 - val_accuracy: 0.9209\n",
      "Epoch 2/20\n",
      "189/189 [==============================] - 1s 8ms/step - loss: 0.2993 - accuracy: 0.8970 - val_loss: 0.2051 - val_accuracy: 0.9483\n",
      "Epoch 3/20\n",
      "189/189 [==============================] - 1s 8ms/step - loss: 0.2489 - accuracy: 0.9204 - val_loss: 0.1858 - val_accuracy: 0.9498\n",
      "Epoch 4/20\n",
      "189/189 [==============================] - 1s 8ms/step - loss: 0.2259 - accuracy: 0.9300 - val_loss: 0.1769 - val_accuracy: 0.9502\n",
      "Epoch 5/20\n",
      "189/189 [==============================] - 2s 8ms/step - loss: 0.2096 - accuracy: 0.9319 - val_loss: 0.1766 - val_accuracy: 0.9456\n",
      "Epoch 6/20\n",
      "189/189 [==============================] - 2s 9ms/step - loss: 0.2056 - accuracy: 0.9327 - val_loss: 0.1584 - val_accuracy: 0.9510\n",
      "Epoch 7/20\n",
      "189/189 [==============================] - 1s 8ms/step - loss: 0.1955 - accuracy: 0.9338 - val_loss: 0.1474 - val_accuracy: 0.9510\n",
      "Epoch 8/20\n",
      "189/189 [==============================] - 1s 8ms/step - loss: 0.1829 - accuracy: 0.9352 - val_loss: 0.1394 - val_accuracy: 0.9514\n",
      "Epoch 9/20\n",
      "189/189 [==============================] - 2s 8ms/step - loss: 0.1659 - accuracy: 0.9380 - val_loss: 0.1102 - val_accuracy: 0.9545\n",
      "Epoch 10/20\n",
      "189/189 [==============================] - 2s 9ms/step - loss: 0.1509 - accuracy: 0.9381 - val_loss: 0.1233 - val_accuracy: 0.9452\n",
      "Epoch 11/20\n",
      "189/189 [==============================] - 2s 8ms/step - loss: 0.1383 - accuracy: 0.9395 - val_loss: 0.0901 - val_accuracy: 0.9549\n",
      "Epoch 12/20\n",
      "189/189 [==============================] - 1s 8ms/step - loss: 0.1278 - accuracy: 0.9403 - val_loss: 0.0785 - val_accuracy: 0.9591\n",
      "Epoch 13/20\n",
      "189/189 [==============================] - 1s 8ms/step - loss: 0.1169 - accuracy: 0.9476 - val_loss: 0.0750 - val_accuracy: 0.9649\n",
      "Epoch 14/20\n",
      "189/189 [==============================] - 1s 8ms/step - loss: 0.1153 - accuracy: 0.9530 - val_loss: 0.0761 - val_accuracy: 0.9668\n",
      "Epoch 15/20\n",
      "189/189 [==============================] - 2s 8ms/step - loss: 0.1275 - accuracy: 0.9462 - val_loss: 0.0820 - val_accuracy: 0.9680\n",
      "Epoch 16/20\n",
      "189/189 [==============================] - 1s 8ms/step - loss: 0.1102 - accuracy: 0.9534 - val_loss: 0.0676 - val_accuracy: 0.9742\n",
      "Epoch 17/20\n",
      "189/189 [==============================] - 1s 8ms/step - loss: 0.1073 - accuracy: 0.9550 - val_loss: 0.0679 - val_accuracy: 0.9757\n",
      "Epoch 18/20\n",
      "189/189 [==============================] - 1s 8ms/step - loss: 0.1098 - accuracy: 0.9553 - val_loss: 0.0661 - val_accuracy: 0.9765\n",
      "Epoch 19/20\n",
      "189/189 [==============================] - 1s 8ms/step - loss: 0.1051 - accuracy: 0.9552 - val_loss: 0.0651 - val_accuracy: 0.9769\n",
      "Epoch 20/20\n",
      "189/189 [==============================] - 1s 7ms/step - loss: 0.0996 - accuracy: 0.9591 - val_loss: 0.0732 - val_accuracy: 0.9715\n"
     ]
    },
    {
     "data": {
      "text/plain": [
       "<keras.src.callbacks.History at 0x1e5567c77c0>"
      ]
     },
     "execution_count": 11,
     "metadata": {},
     "output_type": "execute_result"
    }
   ],
   "source": [
    "model.fit(X_train, y_train, epochs=20, batch_size=32, validation_data=(X_test, y_test))"
   ]
  },
  {
   "cell_type": "code",
   "execution_count": 12,
   "metadata": {},
   "outputs": [
    {
     "name": "stdout",
     "output_type": "stream",
     "text": [
      "81/81 [==============================] - 0s 3ms/step - loss: 0.0732 - accuracy: 0.9715\n"
     ]
    },
    {
     "data": {
      "text/plain": [
       "[0.0732063502073288, 0.9714506268501282]"
      ]
     },
     "execution_count": 12,
     "metadata": {},
     "output_type": "execute_result"
    }
   ],
   "source": [
    "model.evaluate(X_test, y_test)"
   ]
  },
  {
   "cell_type": "code",
   "execution_count": 48,
   "metadata": {},
   "outputs": [
    {
     "name": "stdout",
     "output_type": "stream",
     "text": [
      "1/1 [==============================] - 0s 91ms/step\n"
     ]
    },
    {
     "data": {
      "text/plain": [
       "array([[2.2410852e-01],\n",
       "       [3.6343855e-03],\n",
       "       [2.2277570e-01],\n",
       "       [1.1540730e-02],\n",
       "       [3.0495976e-05],\n",
       "       [6.0479754e-01],\n",
       "       [2.9320625e-05],\n",
       "       [1.6970201e-03],\n",
       "       [9.9961472e-01]], dtype=float32)"
      ]
     },
     "execution_count": 48,
     "metadata": {},
     "output_type": "execute_result"
    }
   ],
   "source": [
    "model.predict([\n",
    "  [0.53, 0.53, 0.20],\n",
    "  [0.48, 0.53, 0.53],\n",
    "  [0.60, 0.48, 0.53],\n",
    "  [0.53, 0.60, 0.48],\n",
    "  [0.24, 0.53, 0.60],\n",
    "  [0.83, 0.24, 0.53],\n",
    "  [0.24, 0.83, 0.24],\n",
    "  [0.45, 0.24, 0.83],\n",
    "  [1, 1, 1]\n",
    "])"
   ]
  },
  {
   "cell_type": "code",
   "execution_count": 23,
   "metadata": {},
   "outputs": [
    {
     "data": {
      "text/plain": [
       "[[0.22410852],\n",
       " [0.0036343855],\n",
       " [0.2227757],\n",
       " [0.01154073],\n",
       " [3.0495974e-05],\n",
       " [0.60479754],\n",
       " [2.9320625e-05]]"
      ]
     },
     "execution_count": 23,
     "metadata": {},
     "output_type": "execute_result"
    }
   ],
   "source": [
    "[[2.2410852e-01],\n",
    "       [3.6343855e-03],\n",
    "       [2.2277570e-01],\n",
    "       [1.1540730e-02],\n",
    "       [3.0495974e-05],\n",
    "       [6.0479754e-01],\n",
    "       [2.9320625e-05]]"
   ]
  },
  {
   "cell_type": "code",
   "execution_count": 26,
   "metadata": {},
   "outputs": [],
   "source": [
    "df_test = pd.read_csv('../generated_cpu_data_test_2.csv')\n",
    "df_test['date'] = pd.to_datetime(df_test['date'])"
   ]
  },
  {
   "cell_type": "code",
   "execution_count": 29,
   "metadata": {},
   "outputs": [],
   "source": [
    "num_lags = 2\n",
    "\n",
    "#add lag\n",
    "for i in range(1, num_lags+1):\n",
    "    df_test['lag_{}'.format(i)] = df_test['cpu_util'].shift(i)\n",
    "  \n",
    "df_test = df_test.dropna()"
   ]
  },
  {
   "cell_type": "code",
   "execution_count": 30,
   "metadata": {},
   "outputs": [
    {
     "data": {
      "text/html": [
       "<div>\n",
       "<style scoped>\n",
       "    .dataframe tbody tr th:only-of-type {\n",
       "        vertical-align: middle;\n",
       "    }\n",
       "\n",
       "    .dataframe tbody tr th {\n",
       "        vertical-align: top;\n",
       "    }\n",
       "\n",
       "    .dataframe thead th {\n",
       "        text-align: right;\n",
       "    }\n",
       "</style>\n",
       "<table border=\"1\" class=\"dataframe\">\n",
       "  <thead>\n",
       "    <tr style=\"text-align: right;\">\n",
       "      <th></th>\n",
       "      <th>cpu_util</th>\n",
       "      <th>date</th>\n",
       "      <th>lag_1</th>\n",
       "      <th>lag_2</th>\n",
       "    </tr>\n",
       "  </thead>\n",
       "  <tbody>\n",
       "    <tr>\n",
       "      <th>2</th>\n",
       "      <td>100.895190</td>\n",
       "      <td>2023-07-25 00:13:06.466</td>\n",
       "      <td>82.067813</td>\n",
       "      <td>66.834766</td>\n",
       "    </tr>\n",
       "    <tr>\n",
       "      <th>3</th>\n",
       "      <td>73.259342</td>\n",
       "      <td>2023-07-25 00:18:06.466</td>\n",
       "      <td>100.895190</td>\n",
       "      <td>82.067813</td>\n",
       "    </tr>\n",
       "    <tr>\n",
       "      <th>4</th>\n",
       "      <td>82.504274</td>\n",
       "      <td>2023-07-25 00:23:06.466</td>\n",
       "      <td>73.259342</td>\n",
       "      <td>100.895190</td>\n",
       "    </tr>\n",
       "    <tr>\n",
       "      <th>5</th>\n",
       "      <td>62.700953</td>\n",
       "      <td>2023-07-25 00:28:06.466</td>\n",
       "      <td>82.504274</td>\n",
       "      <td>73.259342</td>\n",
       "    </tr>\n",
       "    <tr>\n",
       "      <th>6</th>\n",
       "      <td>88.266038</td>\n",
       "      <td>2023-07-25 00:33:06.466</td>\n",
       "      <td>62.700953</td>\n",
       "      <td>82.504274</td>\n",
       "    </tr>\n",
       "    <tr>\n",
       "      <th>...</th>\n",
       "      <td>...</td>\n",
       "      <td>...</td>\n",
       "      <td>...</td>\n",
       "      <td>...</td>\n",
       "    </tr>\n",
       "    <tr>\n",
       "      <th>10363</th>\n",
       "      <td>28.858958</td>\n",
       "      <td>2023-08-29 23:38:07.394</td>\n",
       "      <td>31.093691</td>\n",
       "      <td>53.711871</td>\n",
       "    </tr>\n",
       "    <tr>\n",
       "      <th>10364</th>\n",
       "      <td>23.238560</td>\n",
       "      <td>2023-08-29 23:43:07.394</td>\n",
       "      <td>28.858958</td>\n",
       "      <td>31.093691</td>\n",
       "    </tr>\n",
       "    <tr>\n",
       "      <th>10365</th>\n",
       "      <td>53.869919</td>\n",
       "      <td>2023-08-29 23:48:07.394</td>\n",
       "      <td>23.238560</td>\n",
       "      <td>28.858958</td>\n",
       "    </tr>\n",
       "    <tr>\n",
       "      <th>10366</th>\n",
       "      <td>30.824553</td>\n",
       "      <td>2023-08-29 23:53:07.394</td>\n",
       "      <td>53.869919</td>\n",
       "      <td>23.238560</td>\n",
       "    </tr>\n",
       "    <tr>\n",
       "      <th>10367</th>\n",
       "      <td>37.018912</td>\n",
       "      <td>2023-08-29 23:58:07.394</td>\n",
       "      <td>30.824553</td>\n",
       "      <td>53.869919</td>\n",
       "    </tr>\n",
       "  </tbody>\n",
       "</table>\n",
       "<p>10366 rows × 4 columns</p>\n",
       "</div>"
      ],
      "text/plain": [
       "         cpu_util                    date       lag_1       lag_2\n",
       "2      100.895190 2023-07-25 00:13:06.466   82.067813   66.834766\n",
       "3       73.259342 2023-07-25 00:18:06.466  100.895190   82.067813\n",
       "4       82.504274 2023-07-25 00:23:06.466   73.259342  100.895190\n",
       "5       62.700953 2023-07-25 00:28:06.466   82.504274   73.259342\n",
       "6       88.266038 2023-07-25 00:33:06.466   62.700953   82.504274\n",
       "...           ...                     ...         ...         ...\n",
       "10363   28.858958 2023-08-29 23:38:07.394   31.093691   53.711871\n",
       "10364   23.238560 2023-08-29 23:43:07.394   28.858958   31.093691\n",
       "10365   53.869919 2023-08-29 23:48:07.394   23.238560   28.858958\n",
       "10366   30.824553 2023-08-29 23:53:07.394   53.869919   23.238560\n",
       "10367   37.018912 2023-08-29 23:58:07.394   30.824553   53.869919\n",
       "\n",
       "[10366 rows x 4 columns]"
      ]
     },
     "execution_count": 30,
     "metadata": {},
     "output_type": "execute_result"
    }
   ],
   "source": [
    "df_test"
   ]
  },
  {
   "cell_type": "code",
   "execution_count": 31,
   "metadata": {},
   "outputs": [],
   "source": [
    "X_test = df_test[['cpu_util', 'lag_1', 'lag_2']]"
   ]
  },
  {
   "cell_type": "code",
   "execution_count": 32,
   "metadata": {},
   "outputs": [
    {
     "name": "stderr",
     "output_type": "stream",
     "text": [
      "C:\\Users\\HP\\AppData\\Local\\Temp\\ipykernel_11772\\1668866457.py:1: SettingWithCopyWarning: \n",
      "A value is trying to be set on a copy of a slice from a DataFrame.\n",
      "Try using .loc[row_indexer,col_indexer] = value instead\n",
      "\n",
      "See the caveats in the documentation: https://pandas.pydata.org/pandas-docs/stable/user_guide/indexing.html#returning-a-view-versus-a-copy\n",
      "  X_test['cpu_util'] = (X_test['cpu_util']/100).astype(float)\n",
      "C:\\Users\\HP\\AppData\\Local\\Temp\\ipykernel_11772\\1668866457.py:2: SettingWithCopyWarning: \n",
      "A value is trying to be set on a copy of a slice from a DataFrame.\n",
      "Try using .loc[row_indexer,col_indexer] = value instead\n",
      "\n",
      "See the caveats in the documentation: https://pandas.pydata.org/pandas-docs/stable/user_guide/indexing.html#returning-a-view-versus-a-copy\n",
      "  X_test['lag_1'] = (X_test['lag_1']/100).astype(float)\n",
      "C:\\Users\\HP\\AppData\\Local\\Temp\\ipykernel_11772\\1668866457.py:3: SettingWithCopyWarning: \n",
      "A value is trying to be set on a copy of a slice from a DataFrame.\n",
      "Try using .loc[row_indexer,col_indexer] = value instead\n",
      "\n",
      "See the caveats in the documentation: https://pandas.pydata.org/pandas-docs/stable/user_guide/indexing.html#returning-a-view-versus-a-copy\n",
      "  X_test['lag_2'] = (X_test['lag_2']/100).astype(float)\n"
     ]
    }
   ],
   "source": [
    "X_test['cpu_util'] = (X_test['cpu_util']/100).astype(float)\n",
    "X_test['lag_1'] = (X_test['lag_1']/100).astype(float)\n",
    "X_test['lag_2'] = (X_test['lag_2']/100).astype(float)"
   ]
  },
  {
   "cell_type": "code",
   "execution_count": 35,
   "metadata": {},
   "outputs": [
    {
     "name": "stdout",
     "output_type": "stream",
     "text": [
      "324/324 [==============================] - 2s 4ms/step\n"
     ]
    }
   ],
   "source": [
    "predict = model.predict(X_test)"
   ]
  },
  {
   "cell_type": "code",
   "execution_count": 36,
   "metadata": {},
   "outputs": [
    {
     "data": {
      "text/plain": [
       "array([[9.9825251e-01],\n",
       "       [3.1287852e-04],\n",
       "       [6.1251987e-03],\n",
       "       ...,\n",
       "       [5.8365941e-01],\n",
       "       [6.2511201e-05],\n",
       "       [1.8151065e-04]], dtype=float32)"
      ]
     },
     "execution_count": 36,
     "metadata": {},
     "output_type": "execute_result"
    }
   ],
   "source": [
    "predict"
   ]
  },
  {
   "cell_type": "code",
   "execution_count": 37,
   "metadata": {},
   "outputs": [
    {
     "name": "stderr",
     "output_type": "stream",
     "text": [
      "C:\\Users\\HP\\AppData\\Local\\Temp\\ipykernel_11772\\3300978574.py:2: SettingWithCopyWarning: \n",
      "A value is trying to be set on a copy of a slice from a DataFrame.\n",
      "Try using .loc[row_indexer,col_indexer] = value instead\n",
      "\n",
      "See the caveats in the documentation: https://pandas.pydata.org/pandas-docs/stable/user_guide/indexing.html#returning-a-view-versus-a-copy\n",
      "  df_test['predict'] = predict\n"
     ]
    }
   ],
   "source": [
    "#add the prediction to the test data\n",
    "df_test['predict'] = predict\n"
   ]
  },
  {
   "cell_type": "code",
   "execution_count": 38,
   "metadata": {},
   "outputs": [
    {
     "name": "stderr",
     "output_type": "stream",
     "text": [
      "C:\\Users\\HP\\AppData\\Local\\Temp\\ipykernel_11772\\1053937000.py:1: SettingWithCopyWarning: \n",
      "A value is trying to be set on a copy of a slice from a DataFrame.\n",
      "Try using .loc[row_indexer,col_indexer] = value instead\n",
      "\n",
      "See the caveats in the documentation: https://pandas.pydata.org/pandas-docs/stable/user_guide/indexing.html#returning-a-view-versus-a-copy\n",
      "  df_test['predict'] = df_test['predict'].apply(lambda x: 1 if x > 0.5 else 0)\n"
     ]
    }
   ],
   "source": [
    "df_test['predict'] = df_test['predict'].apply(lambda x: 1 if x > 0.5 else 0)"
   ]
  },
  {
   "cell_type": "code",
   "execution_count": 46,
   "metadata": {},
   "outputs": [
    {
     "data": {
      "image/png": "[encoded data removed]",
      "text/plain": [
       "<Figure size 2000x1000 with 1 Axes>"
      ]
     },
     "metadata": {},
     "output_type": "display_data"
    }
   ],
   "source": [
    "#scatter plot the prediction 1\n",
    "anomaly = df_test.iloc[np.where(df_test['predict'] == 1)]\n",
    "\n",
    "plt.figure(figsize=(20,10))\n",
    "plt.plot(df_test['date'], df_test['cpu_util'], color='green')\n",
    "plt.scatter(anomaly['date'], anomaly['cpu_util'], color='red')\n",
    "plt.xlabel('Date')\n",
    "plt.ylabel('CPU Utilization')\n",
    "# plt.xlim(pd.Timestamp('2023-08-27'), pd.Timestamp('2023-08-28'))\n",
    "plt.title('CPU Utilization Prediction')\n",
    "plt.show()\n",
    "\n"
   ]
  },
  {
   "cell_type": "code",
   "execution_count": 47,
   "metadata": {},
   "outputs": [
    {
     "name": "stderr",
     "output_type": "stream",
     "text": [
      "c:\\Users\\HP\\AppData\\Local\\Programs\\Python\\Python310\\lib\\site-packages\\keras\\src\\engine\\training.py:3103: UserWarning: You are saving your model as an HDF5 file via `model.save()`. This file format is considered legacy. We recommend using instead the native Keras format, e.g. `model.save('my_model.keras')`.\n",
      "  saving_api.save_model(\n"
     ]
    }
   ],
   "source": [
    "model.save('model_custom_threshold.h5')"
   ]
  },
  {
   "cell_type": "code",
   "execution_count": null,
   "metadata": {},
   "outputs": [],
   "source": []
  }
 ],
 "metadata": {
  "kernelspec": {
   "display_name": "Python 3",
   "language": "python",
   "name": "python3"
  },
  "language_info": {
   "codemirror_mode": {
    "name": "ipython",
    "version": 3
   },
   "file_extension": ".py",
   "mimetype": "text/x-python",
   "name": "python",
   "nbconvert_exporter": "python",
   "pygments_lexer": "ipython3",
   "version": "3.10.7"
  }
 },
 "nbformat": 4,
 "nbformat_minor": 2
}
