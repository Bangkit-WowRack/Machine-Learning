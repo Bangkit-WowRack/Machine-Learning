{
 "cells": [
  {
   "cell_type": "code",
   "execution_count": 14,
   "metadata": {},
   "outputs": [],
   "source": [
    "import pandas as pd\n",
    "import numpy as np\n",
    "import tensorflow as tf\n",
    "from sklearn.metrics import classification_report"
   ]
  },
  {
   "cell_type": "code",
   "execution_count": 2,
   "metadata": {},
   "outputs": [],
   "source": [
    "cpu_data = pd.read_csv('./cpu_anomaly_data2.csv')\n",
    "cpu_data['timestamp'] = pd.to_datetime(cpu_data['timestamp'])"
   ]
  },
  {
   "cell_type": "code",
   "execution_count": 3,
   "metadata": {},
   "outputs": [
    {
     "data": {
      "text/html": [
       "<div>\n",
       "<style scoped>\n",
       "    .dataframe tbody tr th:only-of-type {\n",
       "        vertical-align: middle;\n",
       "    }\n",
       "\n",
       "    .dataframe tbody tr th {\n",
       "        vertical-align: top;\n",
       "    }\n",
       "\n",
       "    .dataframe thead th {\n",
       "        text-align: right;\n",
       "    }\n",
       "</style>\n",
       "<table border=\"1\" class=\"dataframe\">\n",
       "  <thead>\n",
       "    <tr style=\"text-align: right;\">\n",
       "      <th></th>\n",
       "      <th>cpu_usage</th>\n",
       "      <th>timestamp</th>\n",
       "      <th>anomaly</th>\n",
       "    </tr>\n",
       "  </thead>\n",
       "  <tbody>\n",
       "    <tr>\n",
       "      <th>0</th>\n",
       "      <td>21.756007</td>\n",
       "      <td>2023-12-04 22:20:00+00:00</td>\n",
       "      <td>0</td>\n",
       "    </tr>\n",
       "    <tr>\n",
       "      <th>1</th>\n",
       "      <td>22.302332</td>\n",
       "      <td>2023-12-04 22:25:00+00:00</td>\n",
       "      <td>0</td>\n",
       "    </tr>\n",
       "    <tr>\n",
       "      <th>2</th>\n",
       "      <td>34.959884</td>\n",
       "      <td>2023-12-04 22:30:00+00:00</td>\n",
       "      <td>0</td>\n",
       "    </tr>\n",
       "    <tr>\n",
       "      <th>3</th>\n",
       "      <td>29.625328</td>\n",
       "      <td>2023-12-04 22:35:00+00:00</td>\n",
       "      <td>0</td>\n",
       "    </tr>\n",
       "    <tr>\n",
       "      <th>4</th>\n",
       "      <td>21.144231</td>\n",
       "      <td>2023-12-04 22:40:00+00:00</td>\n",
       "      <td>0</td>\n",
       "    </tr>\n",
       "    <tr>\n",
       "      <th>...</th>\n",
       "      <td>...</td>\n",
       "      <td>...</td>\n",
       "      <td>...</td>\n",
       "    </tr>\n",
       "    <tr>\n",
       "      <th>9991</th>\n",
       "      <td>43.327759</td>\n",
       "      <td>2024-01-08 14:55:00+00:00</td>\n",
       "      <td>0</td>\n",
       "    </tr>\n",
       "    <tr>\n",
       "      <th>9992</th>\n",
       "      <td>36.268165</td>\n",
       "      <td>2024-01-08 15:00:00+00:00</td>\n",
       "      <td>0</td>\n",
       "    </tr>\n",
       "    <tr>\n",
       "      <th>9993</th>\n",
       "      <td>40.028437</td>\n",
       "      <td>2024-01-08 15:05:00+00:00</td>\n",
       "      <td>0</td>\n",
       "    </tr>\n",
       "    <tr>\n",
       "      <th>9994</th>\n",
       "      <td>44.154303</td>\n",
       "      <td>2024-01-08 15:10:00+00:00</td>\n",
       "      <td>1</td>\n",
       "    </tr>\n",
       "    <tr>\n",
       "      <th>9995</th>\n",
       "      <td>42.094822</td>\n",
       "      <td>2024-01-08 15:15:00+00:00</td>\n",
       "      <td>1</td>\n",
       "    </tr>\n",
       "  </tbody>\n",
       "</table>\n",
       "<p>9996 rows × 3 columns</p>\n",
       "</div>"
      ],
      "text/plain": [
       "      cpu_usage                 timestamp  anomaly\n",
       "0     21.756007 2023-12-04 22:20:00+00:00        0\n",
       "1     22.302332 2023-12-04 22:25:00+00:00        0\n",
       "2     34.959884 2023-12-04 22:30:00+00:00        0\n",
       "3     29.625328 2023-12-04 22:35:00+00:00        0\n",
       "4     21.144231 2023-12-04 22:40:00+00:00        0\n",
       "...         ...                       ...      ...\n",
       "9991  43.327759 2024-01-08 14:55:00+00:00        0\n",
       "9992  36.268165 2024-01-08 15:00:00+00:00        0\n",
       "9993  40.028437 2024-01-08 15:05:00+00:00        0\n",
       "9994  44.154303 2024-01-08 15:10:00+00:00        1\n",
       "9995  42.094822 2024-01-08 15:15:00+00:00        1\n",
       "\n",
       "[9996 rows x 3 columns]"
      ]
     },
     "execution_count": 3,
     "metadata": {},
     "output_type": "execute_result"
    }
   ],
   "source": [
    "cpu_data"
   ]
  },
  {
   "cell_type": "code",
   "execution_count": 4,
   "metadata": {},
   "outputs": [
    {
     "data": {
      "text/html": [
       "<div>\n",
       "<style scoped>\n",
       "    .dataframe tbody tr th:only-of-type {\n",
       "        vertical-align: middle;\n",
       "    }\n",
       "\n",
       "    .dataframe tbody tr th {\n",
       "        vertical-align: top;\n",
       "    }\n",
       "\n",
       "    .dataframe thead th {\n",
       "        text-align: right;\n",
       "    }\n",
       "</style>\n",
       "<table border=\"1\" class=\"dataframe\">\n",
       "  <thead>\n",
       "    <tr style=\"text-align: right;\">\n",
       "      <th></th>\n",
       "      <th>cpu_usage</th>\n",
       "      <th>timestamp</th>\n",
       "      <th>anomaly</th>\n",
       "    </tr>\n",
       "  </thead>\n",
       "  <tbody>\n",
       "    <tr>\n",
       "      <th>0</th>\n",
       "      <td>0.217560</td>\n",
       "      <td>2023-12-04 22:20:00+00:00</td>\n",
       "      <td>0</td>\n",
       "    </tr>\n",
       "    <tr>\n",
       "      <th>1</th>\n",
       "      <td>0.223023</td>\n",
       "      <td>2023-12-04 22:25:00+00:00</td>\n",
       "      <td>0</td>\n",
       "    </tr>\n",
       "    <tr>\n",
       "      <th>2</th>\n",
       "      <td>0.349599</td>\n",
       "      <td>2023-12-04 22:30:00+00:00</td>\n",
       "      <td>0</td>\n",
       "    </tr>\n",
       "    <tr>\n",
       "      <th>3</th>\n",
       "      <td>0.296253</td>\n",
       "      <td>2023-12-04 22:35:00+00:00</td>\n",
       "      <td>0</td>\n",
       "    </tr>\n",
       "    <tr>\n",
       "      <th>4</th>\n",
       "      <td>0.211442</td>\n",
       "      <td>2023-12-04 22:40:00+00:00</td>\n",
       "      <td>0</td>\n",
       "    </tr>\n",
       "    <tr>\n",
       "      <th>...</th>\n",
       "      <td>...</td>\n",
       "      <td>...</td>\n",
       "      <td>...</td>\n",
       "    </tr>\n",
       "    <tr>\n",
       "      <th>9991</th>\n",
       "      <td>0.433278</td>\n",
       "      <td>2024-01-08 14:55:00+00:00</td>\n",
       "      <td>0</td>\n",
       "    </tr>\n",
       "    <tr>\n",
       "      <th>9992</th>\n",
       "      <td>0.362682</td>\n",
       "      <td>2024-01-08 15:00:00+00:00</td>\n",
       "      <td>0</td>\n",
       "    </tr>\n",
       "    <tr>\n",
       "      <th>9993</th>\n",
       "      <td>0.400284</td>\n",
       "      <td>2024-01-08 15:05:00+00:00</td>\n",
       "      <td>0</td>\n",
       "    </tr>\n",
       "    <tr>\n",
       "      <th>9994</th>\n",
       "      <td>0.441543</td>\n",
       "      <td>2024-01-08 15:10:00+00:00</td>\n",
       "      <td>1</td>\n",
       "    </tr>\n",
       "    <tr>\n",
       "      <th>9995</th>\n",
       "      <td>0.420948</td>\n",
       "      <td>2024-01-08 15:15:00+00:00</td>\n",
       "      <td>1</td>\n",
       "    </tr>\n",
       "  </tbody>\n",
       "</table>\n",
       "<p>9996 rows × 3 columns</p>\n",
       "</div>"
      ],
      "text/plain": [
       "      cpu_usage                 timestamp  anomaly\n",
       "0      0.217560 2023-12-04 22:20:00+00:00        0\n",
       "1      0.223023 2023-12-04 22:25:00+00:00        0\n",
       "2      0.349599 2023-12-04 22:30:00+00:00        0\n",
       "3      0.296253 2023-12-04 22:35:00+00:00        0\n",
       "4      0.211442 2023-12-04 22:40:00+00:00        0\n",
       "...         ...                       ...      ...\n",
       "9991   0.433278 2024-01-08 14:55:00+00:00        0\n",
       "9992   0.362682 2024-01-08 15:00:00+00:00        0\n",
       "9993   0.400284 2024-01-08 15:05:00+00:00        0\n",
       "9994   0.441543 2024-01-08 15:10:00+00:00        1\n",
       "9995   0.420948 2024-01-08 15:15:00+00:00        1\n",
       "\n",
       "[9996 rows x 3 columns]"
      ]
     },
     "execution_count": 4,
     "metadata": {},
     "output_type": "execute_result"
    }
   ],
   "source": [
    "cpu_data['cpu_usage'] = cpu_data['cpu_usage']/100\n",
    "cpu_data"
   ]
  },
  {
   "cell_type": "code",
   "execution_count": 5,
   "metadata": {},
   "outputs": [],
   "source": [
    "num_lags = 2\n",
    "for i in range(1, num_lags+1):\n",
    "    cpu_data['lag_{}'.format(i)] = cpu_data['cpu_usage'].shift(i)\n",
    "  \n",
    "cpu_data = cpu_data.dropna()"
   ]
  },
  {
   "cell_type": "code",
   "execution_count": 6,
   "metadata": {},
   "outputs": [
    {
     "data": {
      "text/html": [
       "<div>\n",
       "<style scoped>\n",
       "    .dataframe tbody tr th:only-of-type {\n",
       "        vertical-align: middle;\n",
       "    }\n",
       "\n",
       "    .dataframe tbody tr th {\n",
       "        vertical-align: top;\n",
       "    }\n",
       "\n",
       "    .dataframe thead th {\n",
       "        text-align: right;\n",
       "    }\n",
       "</style>\n",
       "<table border=\"1\" class=\"dataframe\">\n",
       "  <thead>\n",
       "    <tr style=\"text-align: right;\">\n",
       "      <th></th>\n",
       "      <th>cpu_usage</th>\n",
       "      <th>timestamp</th>\n",
       "      <th>anomaly</th>\n",
       "      <th>lag_1</th>\n",
       "      <th>lag_2</th>\n",
       "    </tr>\n",
       "  </thead>\n",
       "  <tbody>\n",
       "    <tr>\n",
       "      <th>2</th>\n",
       "      <td>0.349599</td>\n",
       "      <td>2023-12-04 22:30:00+00:00</td>\n",
       "      <td>0</td>\n",
       "      <td>0.223023</td>\n",
       "      <td>0.217560</td>\n",
       "    </tr>\n",
       "    <tr>\n",
       "      <th>3</th>\n",
       "      <td>0.296253</td>\n",
       "      <td>2023-12-04 22:35:00+00:00</td>\n",
       "      <td>0</td>\n",
       "      <td>0.349599</td>\n",
       "      <td>0.223023</td>\n",
       "    </tr>\n",
       "    <tr>\n",
       "      <th>4</th>\n",
       "      <td>0.211442</td>\n",
       "      <td>2023-12-04 22:40:00+00:00</td>\n",
       "      <td>0</td>\n",
       "      <td>0.296253</td>\n",
       "      <td>0.349599</td>\n",
       "    </tr>\n",
       "    <tr>\n",
       "      <th>5</th>\n",
       "      <td>0.352088</td>\n",
       "      <td>2023-12-04 22:45:00+00:00</td>\n",
       "      <td>0</td>\n",
       "      <td>0.211442</td>\n",
       "      <td>0.296253</td>\n",
       "    </tr>\n",
       "    <tr>\n",
       "      <th>6</th>\n",
       "      <td>0.271253</td>\n",
       "      <td>2023-12-04 22:50:00+00:00</td>\n",
       "      <td>0</td>\n",
       "      <td>0.352088</td>\n",
       "      <td>0.211442</td>\n",
       "    </tr>\n",
       "    <tr>\n",
       "      <th>...</th>\n",
       "      <td>...</td>\n",
       "      <td>...</td>\n",
       "      <td>...</td>\n",
       "      <td>...</td>\n",
       "      <td>...</td>\n",
       "    </tr>\n",
       "    <tr>\n",
       "      <th>9991</th>\n",
       "      <td>0.433278</td>\n",
       "      <td>2024-01-08 14:55:00+00:00</td>\n",
       "      <td>0</td>\n",
       "      <td>0.424970</td>\n",
       "      <td>0.383699</td>\n",
       "    </tr>\n",
       "    <tr>\n",
       "      <th>9992</th>\n",
       "      <td>0.362682</td>\n",
       "      <td>2024-01-08 15:00:00+00:00</td>\n",
       "      <td>0</td>\n",
       "      <td>0.433278</td>\n",
       "      <td>0.424970</td>\n",
       "    </tr>\n",
       "    <tr>\n",
       "      <th>9993</th>\n",
       "      <td>0.400284</td>\n",
       "      <td>2024-01-08 15:05:00+00:00</td>\n",
       "      <td>0</td>\n",
       "      <td>0.362682</td>\n",
       "      <td>0.433278</td>\n",
       "    </tr>\n",
       "    <tr>\n",
       "      <th>9994</th>\n",
       "      <td>0.441543</td>\n",
       "      <td>2024-01-08 15:10:00+00:00</td>\n",
       "      <td>1</td>\n",
       "      <td>0.400284</td>\n",
       "      <td>0.362682</td>\n",
       "    </tr>\n",
       "    <tr>\n",
       "      <th>9995</th>\n",
       "      <td>0.420948</td>\n",
       "      <td>2024-01-08 15:15:00+00:00</td>\n",
       "      <td>1</td>\n",
       "      <td>0.441543</td>\n",
       "      <td>0.400284</td>\n",
       "    </tr>\n",
       "  </tbody>\n",
       "</table>\n",
       "<p>9994 rows × 5 columns</p>\n",
       "</div>"
      ],
      "text/plain": [
       "      cpu_usage                 timestamp  anomaly     lag_1     lag_2\n",
       "2      0.349599 2023-12-04 22:30:00+00:00        0  0.223023  0.217560\n",
       "3      0.296253 2023-12-04 22:35:00+00:00        0  0.349599  0.223023\n",
       "4      0.211442 2023-12-04 22:40:00+00:00        0  0.296253  0.349599\n",
       "5      0.352088 2023-12-04 22:45:00+00:00        0  0.211442  0.296253\n",
       "6      0.271253 2023-12-04 22:50:00+00:00        0  0.352088  0.211442\n",
       "...         ...                       ...      ...       ...       ...\n",
       "9991   0.433278 2024-01-08 14:55:00+00:00        0  0.424970  0.383699\n",
       "9992   0.362682 2024-01-08 15:00:00+00:00        0  0.433278  0.424970\n",
       "9993   0.400284 2024-01-08 15:05:00+00:00        0  0.362682  0.433278\n",
       "9994   0.441543 2024-01-08 15:10:00+00:00        1  0.400284  0.362682\n",
       "9995   0.420948 2024-01-08 15:15:00+00:00        1  0.441543  0.400284\n",
       "\n",
       "[9994 rows x 5 columns]"
      ]
     },
     "execution_count": 6,
     "metadata": {},
     "output_type": "execute_result"
    }
   ],
   "source": [
    "cpu_data"
   ]
  },
  {
   "cell_type": "code",
   "execution_count": 7,
   "metadata": {},
   "outputs": [],
   "source": [
    "X = cpu_data[['cpu_usage', 'lag_1', 'lag_2']]\n",
    "y = cpu_data['anomaly']"
   ]
  },
  {
   "cell_type": "code",
   "execution_count": 9,
   "metadata": {},
   "outputs": [
    {
     "name": "stderr",
     "output_type": "stream",
     "text": [
      "C:\\Users\\HP\\AppData\\Local\\Temp\\ipykernel_15180\\2535592905.py:3: FutureWarning: The behavior of `series[i:j]` with an integer-dtype index is deprecated. In a future version, this will be treated as *label-based* indexing, consistent with e.g. `series[i]` lookups. To retain the old behavior, use `series.iloc[i:j]`. To get the future behavior, use `series.loc[i:j]`.\n",
      "  y_train = y[:int(0.7*len(y))]\n",
      "C:\\Users\\HP\\AppData\\Local\\Temp\\ipykernel_15180\\2535592905.py:4: FutureWarning: The behavior of `series[i:j]` with an integer-dtype index is deprecated. In a future version, this will be treated as *label-based* indexing, consistent with e.g. `series[i]` lookups. To retain the old behavior, use `series.iloc[i:j]`. To get the future behavior, use `series.loc[i:j]`.\n",
      "  y_test = y[int(0.7*len(y)):]\n"
     ]
    },
    {
     "data": {
      "text/plain": [
       "(3,)"
      ]
     },
     "execution_count": 9,
     "metadata": {},
     "output_type": "execute_result"
    }
   ],
   "source": [
    "X_train = X[:int(0.7*len(X))]\n",
    "X_test = X[int(0.7*len(X)):]\n",
    "y_train = y[:int(0.7*len(y))]\n",
    "y_test = y[int(0.7*len(y)):]\n",
    "\n",
    "X_train = np.array(X_train)\n",
    "X_test = np.array(X_test)\n",
    "y_train = np.array(y_train)\n",
    "y_test = np.array(y_test)"
   ]
  },
  {
   "cell_type": "code",
   "execution_count": 10,
   "metadata": {},
   "outputs": [],
   "source": [
    "model = tf.keras.models.Sequential([\n",
    "    tf.keras.layers.Dense(64, input_shape=(3,), activation='relu'),\n",
    "    tf.keras.layers.Dense(32, activation='relu'),\n",
    "    tf.keras.layers.Dense(1, activation='sigmoid')\n",
    "])"
   ]
  },
  {
   "cell_type": "code",
   "execution_count": 11,
   "metadata": {},
   "outputs": [],
   "source": [
    "model.compile(optimizer='adam', loss='binary_crossentropy', metrics=['accuracy'])"
   ]
  },
  {
   "cell_type": "code",
   "execution_count": 12,
   "metadata": {},
   "outputs": [
    {
     "name": "stdout",
     "output_type": "stream",
     "text": [
      "Epoch 1/20\n",
      "219/219 [==============================] - 1s 3ms/step - loss: 0.2054 - accuracy: 0.9648 - val_loss: 0.0637 - val_accuracy: 0.9890\n",
      "Epoch 2/20\n",
      "219/219 [==============================] - 0s 2ms/step - loss: 0.0707 - accuracy: 0.9871 - val_loss: 0.0594 - val_accuracy: 0.9890\n",
      "Epoch 3/20\n",
      "219/219 [==============================] - 0s 2ms/step - loss: 0.0641 - accuracy: 0.9871 - val_loss: 0.0519 - val_accuracy: 0.9890\n",
      "Epoch 4/20\n",
      "219/219 [==============================] - 0s 2ms/step - loss: 0.0549 - accuracy: 0.9871 - val_loss: 0.0416 - val_accuracy: 0.9890\n",
      "Epoch 5/20\n",
      "219/219 [==============================] - 0s 2ms/step - loss: 0.0423 - accuracy: 0.9874 - val_loss: 0.0299 - val_accuracy: 0.9900\n",
      "Epoch 6/20\n",
      "219/219 [==============================] - 0s 2ms/step - loss: 0.0303 - accuracy: 0.9898 - val_loss: 0.0208 - val_accuracy: 0.9937\n",
      "Epoch 7/20\n",
      "219/219 [==============================] - 0s 2ms/step - loss: 0.0228 - accuracy: 0.9929 - val_loss: 0.0182 - val_accuracy: 0.9970\n",
      "Epoch 8/20\n",
      "219/219 [==============================] - 0s 2ms/step - loss: 0.0194 - accuracy: 0.9943 - val_loss: 0.0161 - val_accuracy: 0.9983\n",
      "Epoch 9/20\n",
      "219/219 [==============================] - 0s 2ms/step - loss: 0.0163 - accuracy: 0.9953 - val_loss: 0.0116 - val_accuracy: 0.9973\n",
      "Epoch 10/20\n",
      "219/219 [==============================] - 0s 2ms/step - loss: 0.0148 - accuracy: 0.9957 - val_loss: 0.0107 - val_accuracy: 0.9983\n",
      "Epoch 11/20\n",
      "219/219 [==============================] - 0s 2ms/step - loss: 0.0144 - accuracy: 0.9957 - val_loss: 0.0128 - val_accuracy: 0.9987\n",
      "Epoch 12/20\n",
      "219/219 [==============================] - 0s 2ms/step - loss: 0.0130 - accuracy: 0.9963 - val_loss: 0.0095 - val_accuracy: 0.9987\n",
      "Epoch 13/20\n",
      "219/219 [==============================] - 0s 2ms/step - loss: 0.0126 - accuracy: 0.9964 - val_loss: 0.0144 - val_accuracy: 0.9990\n",
      "Epoch 14/20\n",
      "219/219 [==============================] - 0s 2ms/step - loss: 0.0123 - accuracy: 0.9966 - val_loss: 0.0087 - val_accuracy: 0.9987\n",
      "Epoch 15/20\n",
      "219/219 [==============================] - 0s 2ms/step - loss: 0.0124 - accuracy: 0.9963 - val_loss: 0.0086 - val_accuracy: 0.9987\n",
      "Epoch 16/20\n",
      "219/219 [==============================] - 0s 2ms/step - loss: 0.0118 - accuracy: 0.9969 - val_loss: 0.0085 - val_accuracy: 0.9987\n",
      "Epoch 17/20\n",
      "219/219 [==============================] - 0s 2ms/step - loss: 0.0119 - accuracy: 0.9969 - val_loss: 0.0089 - val_accuracy: 0.9987\n",
      "Epoch 18/20\n",
      "219/219 [==============================] - 0s 2ms/step - loss: 0.0119 - accuracy: 0.9961 - val_loss: 0.0097 - val_accuracy: 0.9990\n",
      "Epoch 19/20\n",
      "219/219 [==============================] - 0s 2ms/step - loss: 0.0114 - accuracy: 0.9964 - val_loss: 0.0085 - val_accuracy: 0.9987\n",
      "Epoch 20/20\n",
      "219/219 [==============================] - 0s 2ms/step - loss: 0.0114 - accuracy: 0.9969 - val_loss: 0.0089 - val_accuracy: 0.9987\n"
     ]
    },
    {
     "data": {
      "text/plain": [
       "<keras.callbacks.History at 0x1e2efd20460>"
      ]
     },
     "execution_count": 12,
     "metadata": {},
     "output_type": "execute_result"
    }
   ],
   "source": [
    "model.fit(X_train, y_train, epochs=20, validation_data=(X_test, y_test))"
   ]
  },
  {
   "cell_type": "code",
   "execution_count": 13,
   "metadata": {},
   "outputs": [
    {
     "name": "stdout",
     "output_type": "stream",
     "text": [
      "94/94 [==============================] - 0s 1ms/step\n"
     ]
    }
   ],
   "source": [
    "predict = model.predict(X_test)\n",
    "predict = np.where(predict > 0.5, 1, 0)"
   ]
  },
  {
   "cell_type": "code",
   "execution_count": 15,
   "metadata": {},
   "outputs": [
    {
     "name": "stdout",
     "output_type": "stream",
     "text": [
      "              precision    recall  f1-score   support\n",
      "\n",
      "           0       1.00      1.00      1.00      2966\n",
      "           1       1.00      0.88      0.94        33\n",
      "\n",
      "    accuracy                           1.00      2999\n",
      "   macro avg       1.00      0.94      0.97      2999\n",
      "weighted avg       1.00      1.00      1.00      2999\n",
      "\n"
     ]
    }
   ],
   "source": [
    "print(classification_report(y_test, predict))"
   ]
  },
  {
   "cell_type": "code",
   "execution_count": 16,
   "metadata": {},
   "outputs": [],
   "source": [
    "model.save('cpu_model_2_3.h5')"
   ]
  },
  {
   "cell_type": "code",
   "execution_count": null,
   "metadata": {},
   "outputs": [],
   "source": []
  }
 ],
 "metadata": {
  "kernelspec": {
   "display_name": "Python 3",
   "language": "python",
   "name": "python3"
  },
  "language_info": {
   "codemirror_mode": {
    "name": "ipython",
    "version": 3
   },
   "file_extension": ".py",
   "mimetype": "text/x-python",
   "name": "python",
   "nbconvert_exporter": "python",
   "pygments_lexer": "ipython3",
   "version": "3.10.7"
  }
 },
 "nbformat": 4,
 "nbformat_minor": 2
}
