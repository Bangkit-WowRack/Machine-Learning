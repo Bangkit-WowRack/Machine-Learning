{
 "cells": [
  {
   "cell_type": "code",
   "execution_count": 1,
   "metadata": {},
   "outputs": [],
   "source": [
    "import pandas as pd\n",
    "import numpy as np\n",
    "import tensorflow as tf\n",
    "import matplotlib.pyplot as plt"
   ]
  },
  {
   "cell_type": "code",
   "execution_count": 2,
   "metadata": {},
   "outputs": [],
   "source": [
    "df = pd.read_csv('m16_cpu_usage_clean.csv')\n",
    "df['time'] = pd.to_datetime(df['time'])"
   ]
  },
  {
   "cell_type": "code",
   "execution_count": 3,
   "metadata": {},
   "outputs": [
    {
     "data": {
      "text/html": [
       "<div>\n",
       "<style scoped>\n",
       "    .dataframe tbody tr th:only-of-type {\n",
       "        vertical-align: middle;\n",
       "    }\n",
       "\n",
       "    .dataframe tbody tr th {\n",
       "        vertical-align: top;\n",
       "    }\n",
       "\n",
       "    .dataframe thead th {\n",
       "        text-align: right;\n",
       "    }\n",
       "</style>\n",
       "<table border=\"1\" class=\"dataframe\">\n",
       "  <thead>\n",
       "    <tr style=\"text-align: right;\">\n",
       "      <th></th>\n",
       "      <th>time</th>\n",
       "      <th>cpu_util</th>\n",
       "    </tr>\n",
       "  </thead>\n",
       "  <tbody>\n",
       "    <tr>\n",
       "      <th>0</th>\n",
       "      <td>2017-11-05 02:00:00+00:00</td>\n",
       "      <td>0.279063</td>\n",
       "    </tr>\n",
       "    <tr>\n",
       "      <th>1</th>\n",
       "      <td>2017-11-05 02:05:00+00:00</td>\n",
       "      <td>0.274687</td>\n",
       "    </tr>\n",
       "    <tr>\n",
       "      <th>2</th>\n",
       "      <td>2017-11-05 02:10:00+00:00</td>\n",
       "      <td>0.293007</td>\n",
       "    </tr>\n",
       "    <tr>\n",
       "      <th>3</th>\n",
       "      <td>2017-11-05 02:15:00+00:00</td>\n",
       "      <td>0.290867</td>\n",
       "    </tr>\n",
       "    <tr>\n",
       "      <th>4</th>\n",
       "      <td>2017-11-05 02:20:00+00:00</td>\n",
       "      <td>0.288103</td>\n",
       "    </tr>\n",
       "    <tr>\n",
       "      <th>...</th>\n",
       "      <td>...</td>\n",
       "      <td>...</td>\n",
       "    </tr>\n",
       "    <tr>\n",
       "      <th>11716</th>\n",
       "      <td>2017-12-15 18:20:00+00:00</td>\n",
       "      <td>0.178717</td>\n",
       "    </tr>\n",
       "    <tr>\n",
       "      <th>11717</th>\n",
       "      <td>2017-12-15 18:25:00+00:00</td>\n",
       "      <td>0.174243</td>\n",
       "    </tr>\n",
       "    <tr>\n",
       "      <th>11718</th>\n",
       "      <td>2017-12-15 18:30:00+00:00</td>\n",
       "      <td>0.182830</td>\n",
       "    </tr>\n",
       "    <tr>\n",
       "      <th>11719</th>\n",
       "      <td>2017-12-15 18:35:00+00:00</td>\n",
       "      <td>0.175027</td>\n",
       "    </tr>\n",
       "    <tr>\n",
       "      <th>11720</th>\n",
       "      <td>2017-12-15 18:40:00+00:00</td>\n",
       "      <td>0.177178</td>\n",
       "    </tr>\n",
       "  </tbody>\n",
       "</table>\n",
       "<p>11721 rows × 2 columns</p>\n",
       "</div>"
      ],
      "text/plain": [
       "                           time  cpu_util\n",
       "0     2017-11-05 02:00:00+00:00  0.279063\n",
       "1     2017-11-05 02:05:00+00:00  0.274687\n",
       "2     2017-11-05 02:10:00+00:00  0.293007\n",
       "3     2017-11-05 02:15:00+00:00  0.290867\n",
       "4     2017-11-05 02:20:00+00:00  0.288103\n",
       "...                         ...       ...\n",
       "11716 2017-12-15 18:20:00+00:00  0.178717\n",
       "11717 2017-12-15 18:25:00+00:00  0.174243\n",
       "11718 2017-12-15 18:30:00+00:00  0.182830\n",
       "11719 2017-12-15 18:35:00+00:00  0.175027\n",
       "11720 2017-12-15 18:40:00+00:00  0.177178\n",
       "\n",
       "[11721 rows x 2 columns]"
      ]
     },
     "execution_count": 3,
     "metadata": {},
     "output_type": "execute_result"
    }
   ],
   "source": [
    "df = df.dropna()\n",
    "df"
   ]
  },
  {
   "cell_type": "code",
   "execution_count": 4,
   "metadata": {},
   "outputs": [
    {
     "data": {
      "text/html": [
       "<div>\n",
       "<style scoped>\n",
       "    .dataframe tbody tr th:only-of-type {\n",
       "        vertical-align: middle;\n",
       "    }\n",
       "\n",
       "    .dataframe tbody tr th {\n",
       "        vertical-align: top;\n",
       "    }\n",
       "\n",
       "    .dataframe thead th {\n",
       "        text-align: right;\n",
       "    }\n",
       "</style>\n",
       "<table border=\"1\" class=\"dataframe\">\n",
       "  <thead>\n",
       "    <tr style=\"text-align: right;\">\n",
       "      <th></th>\n",
       "      <th>time</th>\n",
       "      <th>cpu_util</th>\n",
       "      <th>lag_1</th>\n",
       "      <th>lag_2</th>\n",
       "    </tr>\n",
       "  </thead>\n",
       "  <tbody>\n",
       "    <tr>\n",
       "      <th>2</th>\n",
       "      <td>2017-11-05 02:10:00+00:00</td>\n",
       "      <td>0.293007</td>\n",
       "      <td>0.274687</td>\n",
       "      <td>0.279063</td>\n",
       "    </tr>\n",
       "    <tr>\n",
       "      <th>3</th>\n",
       "      <td>2017-11-05 02:15:00+00:00</td>\n",
       "      <td>0.290867</td>\n",
       "      <td>0.293007</td>\n",
       "      <td>0.274687</td>\n",
       "    </tr>\n",
       "    <tr>\n",
       "      <th>4</th>\n",
       "      <td>2017-11-05 02:20:00+00:00</td>\n",
       "      <td>0.288103</td>\n",
       "      <td>0.290867</td>\n",
       "      <td>0.293007</td>\n",
       "    </tr>\n",
       "    <tr>\n",
       "      <th>5</th>\n",
       "      <td>2017-11-05 02:25:00+00:00</td>\n",
       "      <td>0.292210</td>\n",
       "      <td>0.288103</td>\n",
       "      <td>0.290867</td>\n",
       "    </tr>\n",
       "    <tr>\n",
       "      <th>6</th>\n",
       "      <td>2017-11-05 02:30:00+00:00</td>\n",
       "      <td>0.298967</td>\n",
       "      <td>0.292210</td>\n",
       "      <td>0.288103</td>\n",
       "    </tr>\n",
       "    <tr>\n",
       "      <th>...</th>\n",
       "      <td>...</td>\n",
       "      <td>...</td>\n",
       "      <td>...</td>\n",
       "      <td>...</td>\n",
       "    </tr>\n",
       "    <tr>\n",
       "      <th>11716</th>\n",
       "      <td>2017-12-15 18:20:00+00:00</td>\n",
       "      <td>0.178717</td>\n",
       "      <td>0.179103</td>\n",
       "      <td>0.175800</td>\n",
       "    </tr>\n",
       "    <tr>\n",
       "      <th>11717</th>\n",
       "      <td>2017-12-15 18:25:00+00:00</td>\n",
       "      <td>0.174243</td>\n",
       "      <td>0.178717</td>\n",
       "      <td>0.179103</td>\n",
       "    </tr>\n",
       "    <tr>\n",
       "      <th>11718</th>\n",
       "      <td>2017-12-15 18:30:00+00:00</td>\n",
       "      <td>0.182830</td>\n",
       "      <td>0.174243</td>\n",
       "      <td>0.178717</td>\n",
       "    </tr>\n",
       "    <tr>\n",
       "      <th>11719</th>\n",
       "      <td>2017-12-15 18:35:00+00:00</td>\n",
       "      <td>0.175027</td>\n",
       "      <td>0.182830</td>\n",
       "      <td>0.174243</td>\n",
       "    </tr>\n",
       "    <tr>\n",
       "      <th>11720</th>\n",
       "      <td>2017-12-15 18:40:00+00:00</td>\n",
       "      <td>0.177178</td>\n",
       "      <td>0.175027</td>\n",
       "      <td>0.182830</td>\n",
       "    </tr>\n",
       "  </tbody>\n",
       "</table>\n",
       "<p>11719 rows × 4 columns</p>\n",
       "</div>"
      ],
      "text/plain": [
       "                           time  cpu_util     lag_1     lag_2\n",
       "2     2017-11-05 02:10:00+00:00  0.293007  0.274687  0.279063\n",
       "3     2017-11-05 02:15:00+00:00  0.290867  0.293007  0.274687\n",
       "4     2017-11-05 02:20:00+00:00  0.288103  0.290867  0.293007\n",
       "5     2017-11-05 02:25:00+00:00  0.292210  0.288103  0.290867\n",
       "6     2017-11-05 02:30:00+00:00  0.298967  0.292210  0.288103\n",
       "...                         ...       ...       ...       ...\n",
       "11716 2017-12-15 18:20:00+00:00  0.178717  0.179103  0.175800\n",
       "11717 2017-12-15 18:25:00+00:00  0.174243  0.178717  0.179103\n",
       "11718 2017-12-15 18:30:00+00:00  0.182830  0.174243  0.178717\n",
       "11719 2017-12-15 18:35:00+00:00  0.175027  0.182830  0.174243\n",
       "11720 2017-12-15 18:40:00+00:00  0.177178  0.175027  0.182830\n",
       "\n",
       "[11719 rows x 4 columns]"
      ]
     },
     "execution_count": 4,
     "metadata": {},
     "output_type": "execute_result"
    }
   ],
   "source": [
    "df['lag_1'] = df['cpu_util'].shift(1)\n",
    "df['lag_2'] = df['cpu_util'].shift(2)\n",
    "df = df.dropna()\n",
    "df"
   ]
  },
  {
   "cell_type": "code",
   "execution_count": 5,
   "metadata": {},
   "outputs": [
    {
     "data": {
      "text/plain": [
       "array([[0.29300667, 0.27468667, 0.27906333],\n",
       "       [0.29086667, 0.29300667, 0.27468667],\n",
       "       [0.28810333, 0.29086667, 0.29300667],\n",
       "       ...,\n",
       "       [0.18283   , 0.17424333, 0.17871667],\n",
       "       [0.17502667, 0.18283   , 0.17424333],\n",
       "       [0.17717778, 0.17502667, 0.18283   ]])"
      ]
     },
     "execution_count": 5,
     "metadata": {},
     "output_type": "execute_result"
    }
   ],
   "source": [
    "X_cpu = df[['cpu_util', 'lag_1', 'lag_2']].to_numpy()\n",
    "X_cpu"
   ]
  },
  {
   "cell_type": "code",
   "execution_count": 6,
   "metadata": {},
   "outputs": [],
   "source": [
    "cpu_model = tf.keras.models.load_model('./cpu_model_2_3.h5')"
   ]
  },
  {
   "cell_type": "code",
   "execution_count": 7,
   "metadata": {},
   "outputs": [
    {
     "name": "stdout",
     "output_type": "stream",
     "text": [
      "367/367 [==============================] - 1s 1ms/step\n"
     ]
    }
   ],
   "source": [
    "cpu_predict = cpu_model.predict(X_cpu)"
   ]
  },
  {
   "cell_type": "code",
   "execution_count": 8,
   "metadata": {},
   "outputs": [],
   "source": [
    "cpu_data = df.copy()"
   ]
  },
  {
   "cell_type": "code",
   "execution_count": 9,
   "metadata": {},
   "outputs": [
    {
     "data": {
      "text/html": [
       "<div>\n",
       "<style scoped>\n",
       "    .dataframe tbody tr th:only-of-type {\n",
       "        vertical-align: middle;\n",
       "    }\n",
       "\n",
       "    .dataframe tbody tr th {\n",
       "        vertical-align: top;\n",
       "    }\n",
       "\n",
       "    .dataframe thead th {\n",
       "        text-align: right;\n",
       "    }\n",
       "</style>\n",
       "<table border=\"1\" class=\"dataframe\">\n",
       "  <thead>\n",
       "    <tr style=\"text-align: right;\">\n",
       "      <th></th>\n",
       "      <th>time</th>\n",
       "      <th>cpu_util</th>\n",
       "      <th>lag_1</th>\n",
       "      <th>lag_2</th>\n",
       "      <th>anomaly</th>\n",
       "    </tr>\n",
       "  </thead>\n",
       "  <tbody>\n",
       "    <tr>\n",
       "      <th>2</th>\n",
       "      <td>2017-11-05 02:10:00+00:00</td>\n",
       "      <td>0.293007</td>\n",
       "      <td>0.274687</td>\n",
       "      <td>0.279063</td>\n",
       "      <td>0</td>\n",
       "    </tr>\n",
       "    <tr>\n",
       "      <th>3</th>\n",
       "      <td>2017-11-05 02:15:00+00:00</td>\n",
       "      <td>0.290867</td>\n",
       "      <td>0.293007</td>\n",
       "      <td>0.274687</td>\n",
       "      <td>0</td>\n",
       "    </tr>\n",
       "    <tr>\n",
       "      <th>4</th>\n",
       "      <td>2017-11-05 02:20:00+00:00</td>\n",
       "      <td>0.288103</td>\n",
       "      <td>0.290867</td>\n",
       "      <td>0.293007</td>\n",
       "      <td>0</td>\n",
       "    </tr>\n",
       "    <tr>\n",
       "      <th>5</th>\n",
       "      <td>2017-11-05 02:25:00+00:00</td>\n",
       "      <td>0.292210</td>\n",
       "      <td>0.288103</td>\n",
       "      <td>0.290867</td>\n",
       "      <td>0</td>\n",
       "    </tr>\n",
       "    <tr>\n",
       "      <th>6</th>\n",
       "      <td>2017-11-05 02:30:00+00:00</td>\n",
       "      <td>0.298967</td>\n",
       "      <td>0.292210</td>\n",
       "      <td>0.288103</td>\n",
       "      <td>0</td>\n",
       "    </tr>\n",
       "    <tr>\n",
       "      <th>...</th>\n",
       "      <td>...</td>\n",
       "      <td>...</td>\n",
       "      <td>...</td>\n",
       "      <td>...</td>\n",
       "      <td>...</td>\n",
       "    </tr>\n",
       "    <tr>\n",
       "      <th>11716</th>\n",
       "      <td>2017-12-15 18:20:00+00:00</td>\n",
       "      <td>0.178717</td>\n",
       "      <td>0.179103</td>\n",
       "      <td>0.175800</td>\n",
       "      <td>0</td>\n",
       "    </tr>\n",
       "    <tr>\n",
       "      <th>11717</th>\n",
       "      <td>2017-12-15 18:25:00+00:00</td>\n",
       "      <td>0.174243</td>\n",
       "      <td>0.178717</td>\n",
       "      <td>0.179103</td>\n",
       "      <td>0</td>\n",
       "    </tr>\n",
       "    <tr>\n",
       "      <th>11718</th>\n",
       "      <td>2017-12-15 18:30:00+00:00</td>\n",
       "      <td>0.182830</td>\n",
       "      <td>0.174243</td>\n",
       "      <td>0.178717</td>\n",
       "      <td>0</td>\n",
       "    </tr>\n",
       "    <tr>\n",
       "      <th>11719</th>\n",
       "      <td>2017-12-15 18:35:00+00:00</td>\n",
       "      <td>0.175027</td>\n",
       "      <td>0.182830</td>\n",
       "      <td>0.174243</td>\n",
       "      <td>0</td>\n",
       "    </tr>\n",
       "    <tr>\n",
       "      <th>11720</th>\n",
       "      <td>2017-12-15 18:40:00+00:00</td>\n",
       "      <td>0.177178</td>\n",
       "      <td>0.175027</td>\n",
       "      <td>0.182830</td>\n",
       "      <td>0</td>\n",
       "    </tr>\n",
       "  </tbody>\n",
       "</table>\n",
       "<p>11719 rows × 5 columns</p>\n",
       "</div>"
      ],
      "text/plain": [
       "                           time  cpu_util     lag_1     lag_2  anomaly\n",
       "2     2017-11-05 02:10:00+00:00  0.293007  0.274687  0.279063        0\n",
       "3     2017-11-05 02:15:00+00:00  0.290867  0.293007  0.274687        0\n",
       "4     2017-11-05 02:20:00+00:00  0.288103  0.290867  0.293007        0\n",
       "5     2017-11-05 02:25:00+00:00  0.292210  0.288103  0.290867        0\n",
       "6     2017-11-05 02:30:00+00:00  0.298967  0.292210  0.288103        0\n",
       "...                         ...       ...       ...       ...      ...\n",
       "11716 2017-12-15 18:20:00+00:00  0.178717  0.179103  0.175800        0\n",
       "11717 2017-12-15 18:25:00+00:00  0.174243  0.178717  0.179103        0\n",
       "11718 2017-12-15 18:30:00+00:00  0.182830  0.174243  0.178717        0\n",
       "11719 2017-12-15 18:35:00+00:00  0.175027  0.182830  0.174243        0\n",
       "11720 2017-12-15 18:40:00+00:00  0.177178  0.175027  0.182830        0\n",
       "\n",
       "[11719 rows x 5 columns]"
      ]
     },
     "execution_count": 9,
     "metadata": {},
     "output_type": "execute_result"
    }
   ],
   "source": [
    "cpu_data['anomaly'] = np.where(cpu_predict > 0.5, 1, 0)\n",
    "cpu_data"
   ]
  },
  {
   "cell_type": "code",
   "execution_count": 10,
   "metadata": {},
   "outputs": [
    {
     "data": {
      "image/png": "[encoded data removed]",
      "text/plain": [
       "<Figure size 2000x1000 with 1 Axes>"
      ]
     },
     "metadata": {},
     "output_type": "display_data"
    },
    {
     "name": "stdout",
     "output_type": "stream",
     "text": [
      "Total data = 11719 \n",
      "Anomaly found: 86 \n",
      "Anomaly percentage: 0.7338510111784282 %\n"
     ]
    }
   ],
   "source": [
    "plt.figure(figsize=(20,10))\n",
    "plt.plot(cpu_data['time'], cpu_data['cpu_util'], label='cpu_util')\n",
    "plt.scatter(cpu_data[cpu_data['anomaly'] == 1]['time'], cpu_data[cpu_data['anomaly'] == 1]['cpu_util'], color='red', label='anomaly')\n",
    "plt.legend()\n",
    "# plt.xlim(pd.Timestamp('2023-12-22'), pd.Timestamp('2023-12-24'))\n",
    "# plt.xlim(pd.Timestamp('2023-12-12'), pd.Timestamp('2023-12-18'))\n",
    "plt.title('CPU Usage with anomaly')\n",
    "plt.show()\n",
    "print('Total data =', len(cpu_data), '\\nAnomaly found:', len(cpu_data.where(cpu_data['anomaly'] == 1).dropna()), '\\nAnomaly percentage:', len(cpu_data.where(cpu_data['anomaly'] == 1).dropna())/len(cpu_data)*100, '%')\n"
   ]
  },
  {
   "cell_type": "code",
   "execution_count": 11,
   "metadata": {},
   "outputs": [
    {
     "name": "stdout",
     "output_type": "stream",
     "text": [
      "1/1 [==============================] - 0s 60ms/step\n"
     ]
    },
    {
     "data": {
      "text/plain": [
       "array([[1.0083573e-06],\n",
       "       [3.6981062e-05],\n",
       "       [1.4945315e-01],\n",
       "       [6.3852046e-04],\n",
       "       [9.9982083e-01],\n",
       "       [9.3757687e-04],\n",
       "       [9.9424589e-01],\n",
       "       [4.8092786e-02],\n",
       "       [8.8775650e-02]], dtype=float32)"
      ]
     },
     "execution_count": 11,
     "metadata": {},
     "output_type": "execute_result"
    }
   ],
   "source": [
    "cpu_model.predict([\n",
    "  [0.23982, 0.13298, 0.54698],\n",
    "  [0.15362, 0.23982, 0.13298],\n",
    "  [0.38353, 0.24362, 0.23982],\n",
    "  [0.35437, 0.38353, 0.24362],\n",
    "  [0.713252, 0.35437, 0.38353],\n",
    "  [0.5543, 0.713252, 0.35437,],\n",
    "  [0.8543, 0.5543, 0.713252],\n",
    "  [0.77433, 0.85435, 0.5543],\n",
    "  [0.89524, 0.77433, 0.85435,]\n",
    "])"
   ]
  },
  {
   "cell_type": "code",
   "execution_count": null,
   "metadata": {},
   "outputs": [],
   "source": []
  }
 ],
 "metadata": {
  "kernelspec": {
   "display_name": "Python 3",
   "language": "python",
   "name": "python3"
  },
  "language_info": {
   "codemirror_mode": {
    "name": "ipython",
    "version": 3
   },
   "file_extension": ".py",
   "mimetype": "text/x-python",
   "name": "python",
   "nbconvert_exporter": "python",
   "pygments_lexer": "ipython3",
   "version": "3.10.7"
  }
 },
 "nbformat": 4,
 "nbformat_minor": 2
}
