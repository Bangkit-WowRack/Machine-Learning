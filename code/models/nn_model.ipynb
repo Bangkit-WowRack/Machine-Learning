{
 "cells": [
  {
   "cell_type": "code",
   "execution_count": 1,
   "metadata": {},
   "outputs": [],
   "source": [
    "import tensorflow as tf\n",
    "import numpy as np\n",
    "import pandas as pd"
   ]
  },
  {
   "cell_type": "code",
   "execution_count": 3,
   "metadata": {},
   "outputs": [
    {
     "data": {
      "text/html": [
       "<div>\n",
       "<style scoped>\n",
       "    .dataframe tbody tr th:only-of-type {\n",
       "        vertical-align: middle;\n",
       "    }\n",
       "\n",
       "    .dataframe tbody tr th {\n",
       "        vertical-align: top;\n",
       "    }\n",
       "\n",
       "    .dataframe thead th {\n",
       "        text-align: right;\n",
       "    }\n",
       "</style>\n",
       "<table border=\"1\" class=\"dataframe\">\n",
       "  <thead>\n",
       "    <tr style=\"text-align: right;\">\n",
       "      <th></th>\n",
       "      <th>cpu_util</th>\n",
       "      <th>anomaly</th>\n",
       "    </tr>\n",
       "    <tr>\n",
       "      <th>time</th>\n",
       "      <th></th>\n",
       "      <th></th>\n",
       "    </tr>\n",
       "  </thead>\n",
       "  <tbody>\n",
       "    <tr>\n",
       "      <th>2017-11-05 02:00:00+00:00</th>\n",
       "      <td>0.279063</td>\n",
       "      <td>0</td>\n",
       "    </tr>\n",
       "    <tr>\n",
       "      <th>2017-11-05 02:05:00+00:00</th>\n",
       "      <td>0.274687</td>\n",
       "      <td>0</td>\n",
       "    </tr>\n",
       "    <tr>\n",
       "      <th>2017-11-05 02:10:00+00:00</th>\n",
       "      <td>0.293007</td>\n",
       "      <td>0</td>\n",
       "    </tr>\n",
       "    <tr>\n",
       "      <th>2017-11-05 02:15:00+00:00</th>\n",
       "      <td>0.290867</td>\n",
       "      <td>0</td>\n",
       "    </tr>\n",
       "    <tr>\n",
       "      <th>2017-11-05 02:20:00+00:00</th>\n",
       "      <td>0.288103</td>\n",
       "      <td>0</td>\n",
       "    </tr>\n",
       "  </tbody>\n",
       "</table>\n",
       "</div>"
      ],
      "text/plain": [
       "                           cpu_util  anomaly\n",
       "time                                        \n",
       "2017-11-05 02:00:00+00:00  0.279063        0\n",
       "2017-11-05 02:05:00+00:00  0.274687        0\n",
       "2017-11-05 02:10:00+00:00  0.293007        0\n",
       "2017-11-05 02:15:00+00:00  0.290867        0\n",
       "2017-11-05 02:20:00+00:00  0.288103        0"
      ]
     },
     "execution_count": 3,
     "metadata": {},
     "output_type": "execute_result"
    }
   ],
   "source": [
    "# Load data\n",
    "data = pd.read_csv('data/m16_cpu_usage_detect.csv')\n",
    "data['time'] = pd.to_datetime(data['time'])\n",
    "data = data.set_index('time')\n",
    "data.head()"
   ]
  },
  {
   "cell_type": "code",
   "execution_count": 9,
   "metadata": {},
   "outputs": [],
   "source": [
    "# Split data\n",
    "split_size = int(len(data) * 0.8)\n",
    "train_data = data[:split_size]\n",
    "test_data = data[split_size:]"
   ]
  },
  {
   "cell_type": "code",
   "execution_count": 14,
   "metadata": {},
   "outputs": [
    {
     "data": {
      "text/plain": [
       "(array([0.27906333, 0.27468667, 0.29300667, ..., 0.17406   , 0.17583667,\n",
       "        0.17389333]),\n",
       " array([0, 0, 0, ..., 0, 0, 0], dtype=int64))"
      ]
     },
     "execution_count": 14,
     "metadata": {},
     "output_type": "execute_result"
    }
   ],
   "source": [
    "X = train_data['cpu_util'].values\n",
    "y = train_data['anomaly'].values\n",
    "\n",
    "X, y"
   ]
  },
  {
   "cell_type": "code",
   "execution_count": 18,
   "metadata": {},
   "outputs": [],
   "source": [
    "# Build model\n",
    "model = tf.keras.Sequential([\n",
    "    tf.keras.layers.Dense(32, activation='relu', input_shape=(1,)),\n",
    "    tf.keras.layers.Dense(1, activation='sigmoid')\n",
    "])"
   ]
  },
  {
   "cell_type": "code",
   "execution_count": 19,
   "metadata": {},
   "outputs": [],
   "source": [
    "model.compile(optimizer='adam', loss='binary_crossentropy', metrics=['accuracy'])"
   ]
  },
  {
   "cell_type": "code",
   "execution_count": 20,
   "metadata": {},
   "outputs": [
    {
     "name": "stdout",
     "output_type": "stream",
     "text": [
      "Epoch 1/100\n"
     ]
    },
    {
     "name": "stdout",
     "output_type": "stream",
     "text": [
      "293/293 [==============================] - 1s 2ms/step - loss: 0.4482 - accuracy: 0.9627\n",
      "Epoch 2/100\n",
      "293/293 [==============================] - 0s 1ms/step - loss: 0.1528 - accuracy: 0.9842\n",
      "Epoch 3/100\n",
      "293/293 [==============================] - 0s 1ms/step - loss: 0.1030 - accuracy: 0.9842\n",
      "Epoch 4/100\n",
      "293/293 [==============================] - 0s 1ms/step - loss: 0.0822 - accuracy: 0.9842\n",
      "Epoch 5/100\n",
      "293/293 [==============================] - 0s 1ms/step - loss: 0.0639 - accuracy: 0.9842\n",
      "Epoch 6/100\n",
      "293/293 [==============================] - 0s 1ms/step - loss: 0.0516 - accuracy: 0.9842\n",
      "Epoch 7/100\n",
      "293/293 [==============================] - 0s 1ms/step - loss: 0.0454 - accuracy: 0.9842\n",
      "Epoch 8/100\n",
      "293/293 [==============================] - 0s 1ms/step - loss: 0.0420 - accuracy: 0.9842\n",
      "Epoch 9/100\n",
      "293/293 [==============================] - 0s 1ms/step - loss: 0.0401 - accuracy: 0.9842\n",
      "Epoch 10/100\n",
      "293/293 [==============================] - 0s 1ms/step - loss: 0.0391 - accuracy: 0.9842\n",
      "Epoch 11/100\n",
      "293/293 [==============================] - 0s 1ms/step - loss: 0.0383 - accuracy: 0.9842\n",
      "Epoch 12/100\n",
      "293/293 [==============================] - 0s 1ms/step - loss: 0.0377 - accuracy: 0.9844\n",
      "Epoch 13/100\n",
      "293/293 [==============================] - 0s 2ms/step - loss: 0.0374 - accuracy: 0.9842\n",
      "Epoch 14/100\n",
      "293/293 [==============================] - 0s 2ms/step - loss: 0.0372 - accuracy: 0.9859\n",
      "Epoch 15/100\n",
      "293/293 [==============================] - 0s 2ms/step - loss: 0.0370 - accuracy: 0.9852\n",
      "Epoch 16/100\n",
      "293/293 [==============================] - 0s 2ms/step - loss: 0.0368 - accuracy: 0.9846\n",
      "Epoch 17/100\n",
      "293/293 [==============================] - 0s 2ms/step - loss: 0.0366 - accuracy: 0.9851\n",
      "Epoch 18/100\n",
      "293/293 [==============================] - 0s 2ms/step - loss: 0.0367 - accuracy: 0.9860\n",
      "Epoch 19/100\n",
      "293/293 [==============================] - 0s 2ms/step - loss: 0.0365 - accuracy: 0.9866\n",
      "Epoch 20/100\n",
      "293/293 [==============================] - 0s 2ms/step - loss: 0.0365 - accuracy: 0.9875\n",
      "Epoch 21/100\n",
      "293/293 [==============================] - 0s 1ms/step - loss: 0.0365 - accuracy: 0.9877\n",
      "Epoch 22/100\n",
      "293/293 [==============================] - 0s 1ms/step - loss: 0.0364 - accuracy: 0.9862\n",
      "Epoch 23/100\n",
      "293/293 [==============================] - 0s 1ms/step - loss: 0.0364 - accuracy: 0.9877\n",
      "Epoch 24/100\n",
      "293/293 [==============================] - 0s 2ms/step - loss: 0.0364 - accuracy: 0.9878\n",
      "Epoch 25/100\n",
      "293/293 [==============================] - 0s 2ms/step - loss: 0.0364 - accuracy: 0.9871\n",
      "Epoch 26/100\n",
      "293/293 [==============================] - 0s 1ms/step - loss: 0.0363 - accuracy: 0.9884\n",
      "Epoch 27/100\n",
      "293/293 [==============================] - 0s 1ms/step - loss: 0.0364 - accuracy: 0.9873\n",
      "Epoch 28/100\n",
      "293/293 [==============================] - 0s 1ms/step - loss: 0.0363 - accuracy: 0.9877\n",
      "Epoch 29/100\n",
      "293/293 [==============================] - 0s 1ms/step - loss: 0.0363 - accuracy: 0.9878\n",
      "Epoch 30/100\n",
      "293/293 [==============================] - 0s 1ms/step - loss: 0.0363 - accuracy: 0.9869\n",
      "Epoch 31/100\n",
      "293/293 [==============================] - 0s 1ms/step - loss: 0.0363 - accuracy: 0.9886\n",
      "Epoch 32/100\n",
      "293/293 [==============================] - 0s 1ms/step - loss: 0.0362 - accuracy: 0.9878\n",
      "Epoch 33/100\n",
      "293/293 [==============================] - 0s 2ms/step - loss: 0.0362 - accuracy: 0.9878\n",
      "Epoch 34/100\n",
      "293/293 [==============================] - 0s 2ms/step - loss: 0.0364 - accuracy: 0.9887\n",
      "Epoch 35/100\n",
      "293/293 [==============================] - 0s 2ms/step - loss: 0.0365 - accuracy: 0.9873\n",
      "Epoch 36/100\n",
      "293/293 [==============================] - 0s 1ms/step - loss: 0.0363 - accuracy: 0.9899\n",
      "Epoch 37/100\n",
      "293/293 [==============================] - 0s 2ms/step - loss: 0.0363 - accuracy: 0.9877\n",
      "Epoch 38/100\n",
      "293/293 [==============================] - 0s 2ms/step - loss: 0.0362 - accuracy: 0.9903\n",
      "Epoch 39/100\n",
      "293/293 [==============================] - 0s 2ms/step - loss: 0.0362 - accuracy: 0.9883\n",
      "Epoch 40/100\n",
      "293/293 [==============================] - 0s 1ms/step - loss: 0.0362 - accuracy: 0.9895\n",
      "Epoch 41/100\n",
      "293/293 [==============================] - 0s 1ms/step - loss: 0.0364 - accuracy: 0.9876\n",
      "Epoch 42/100\n",
      "293/293 [==============================] - 0s 2ms/step - loss: 0.0363 - accuracy: 0.9893\n",
      "Epoch 43/100\n",
      "293/293 [==============================] - 0s 1ms/step - loss: 0.0363 - accuracy: 0.9891\n",
      "Epoch 44/100\n",
      "293/293 [==============================] - 0s 1ms/step - loss: 0.0362 - accuracy: 0.9888\n",
      "Epoch 45/100\n",
      "293/293 [==============================] - 0s 1ms/step - loss: 0.0362 - accuracy: 0.9902\n",
      "Epoch 46/100\n",
      "293/293 [==============================] - 0s 1ms/step - loss: 0.0362 - accuracy: 0.9884\n",
      "Epoch 47/100\n",
      "293/293 [==============================] - 0s 1ms/step - loss: 0.0363 - accuracy: 0.9903\n",
      "Epoch 48/100\n",
      "293/293 [==============================] - 0s 1ms/step - loss: 0.0363 - accuracy: 0.9897\n",
      "Epoch 49/100\n",
      "293/293 [==============================] - 0s 1ms/step - loss: 0.0363 - accuracy: 0.9888\n",
      "Epoch 50/100\n",
      "293/293 [==============================] - 0s 2ms/step - loss: 0.0363 - accuracy: 0.9891\n",
      "Epoch 51/100\n",
      "293/293 [==============================] - 0s 2ms/step - loss: 0.0361 - accuracy: 0.9895\n",
      "Epoch 52/100\n",
      "293/293 [==============================] - 0s 2ms/step - loss: 0.0362 - accuracy: 0.9895\n",
      "Epoch 53/100\n",
      "293/293 [==============================] - 0s 2ms/step - loss: 0.0362 - accuracy: 0.9908\n",
      "Epoch 54/100\n",
      "293/293 [==============================] - 0s 1ms/step - loss: 0.0361 - accuracy: 0.9900\n",
      "Epoch 55/100\n",
      "293/293 [==============================] - 0s 1ms/step - loss: 0.0363 - accuracy: 0.9892\n",
      "Epoch 56/100\n",
      "293/293 [==============================] - 0s 2ms/step - loss: 0.0363 - accuracy: 0.9879\n",
      "Epoch 57/100\n",
      "293/293 [==============================] - 0s 1ms/step - loss: 0.0362 - accuracy: 0.9915\n",
      "Epoch 58/100\n",
      "293/293 [==============================] - 0s 1ms/step - loss: 0.0363 - accuracy: 0.9887\n",
      "Epoch 59/100\n",
      "293/293 [==============================] - 0s 1ms/step - loss: 0.0362 - accuracy: 0.9894\n",
      "Epoch 60/100\n",
      "293/293 [==============================] - 0s 1ms/step - loss: 0.0362 - accuracy: 0.9911\n",
      "Epoch 61/100\n",
      "293/293 [==============================] - 0s 1ms/step - loss: 0.0361 - accuracy: 0.9889\n",
      "Epoch 62/100\n",
      "293/293 [==============================] - 0s 1ms/step - loss: 0.0363 - accuracy: 0.9892\n",
      "Epoch 63/100\n",
      "293/293 [==============================] - 0s 2ms/step - loss: 0.0362 - accuracy: 0.9879\n",
      "Epoch 64/100\n",
      "293/293 [==============================] - 0s 1ms/step - loss: 0.0363 - accuracy: 0.9891\n",
      "Epoch 65/100\n",
      "293/293 [==============================] - 0s 1ms/step - loss: 0.0363 - accuracy: 0.9897\n",
      "Epoch 66/100\n",
      "293/293 [==============================] - 0s 1ms/step - loss: 0.0362 - accuracy: 0.9901\n",
      "Epoch 67/100\n",
      "293/293 [==============================] - 0s 1ms/step - loss: 0.0363 - accuracy: 0.9892\n",
      "Epoch 68/100\n",
      "293/293 [==============================] - 0s 1ms/step - loss: 0.0362 - accuracy: 0.9904\n",
      "Epoch 69/100\n",
      "293/293 [==============================] - 0s 1ms/step - loss: 0.0363 - accuracy: 0.9888\n",
      "Epoch 70/100\n",
      "293/293 [==============================] - 0s 1ms/step - loss: 0.0362 - accuracy: 0.9895\n",
      "Epoch 71/100\n",
      "293/293 [==============================] - 1s 2ms/step - loss: 0.0364 - accuracy: 0.9890\n",
      "Epoch 72/100\n",
      "293/293 [==============================] - 0s 2ms/step - loss: 0.0364 - accuracy: 0.9885\n",
      "Epoch 73/100\n",
      "293/293 [==============================] - 0s 1ms/step - loss: 0.0361 - accuracy: 0.9893\n",
      "Epoch 74/100\n",
      "293/293 [==============================] - 0s 2ms/step - loss: 0.0362 - accuracy: 0.9881\n",
      "Epoch 75/100\n",
      "293/293 [==============================] - 0s 2ms/step - loss: 0.0362 - accuracy: 0.9898\n",
      "Epoch 76/100\n",
      "293/293 [==============================] - 0s 2ms/step - loss: 0.0363 - accuracy: 0.9902\n",
      "Epoch 77/100\n",
      "293/293 [==============================] - 0s 1ms/step - loss: 0.0362 - accuracy: 0.9893\n",
      "Epoch 78/100\n",
      "293/293 [==============================] - 0s 1ms/step - loss: 0.0363 - accuracy: 0.9907\n",
      "Epoch 79/100\n",
      "293/293 [==============================] - 0s 1ms/step - loss: 0.0363 - accuracy: 0.9884\n",
      "Epoch 80/100\n",
      "293/293 [==============================] - 0s 2ms/step - loss: 0.0364 - accuracy: 0.9892\n",
      "Epoch 81/100\n",
      "293/293 [==============================] - 0s 1ms/step - loss: 0.0362 - accuracy: 0.9901\n",
      "Epoch 82/100\n",
      "293/293 [==============================] - 0s 1ms/step - loss: 0.0363 - accuracy: 0.9901\n",
      "Epoch 83/100\n",
      "293/293 [==============================] - 0s 1ms/step - loss: 0.0362 - accuracy: 0.9899\n",
      "Epoch 84/100\n",
      "293/293 [==============================] - 0s 1ms/step - loss: 0.0364 - accuracy: 0.9882\n",
      "Epoch 85/100\n",
      "293/293 [==============================] - 0s 1ms/step - loss: 0.0362 - accuracy: 0.9889\n",
      "Epoch 86/100\n",
      "293/293 [==============================] - 0s 2ms/step - loss: 0.0363 - accuracy: 0.9882\n",
      "Epoch 87/100\n",
      "293/293 [==============================] - 0s 1ms/step - loss: 0.0363 - accuracy: 0.9904\n",
      "Epoch 88/100\n",
      "293/293 [==============================] - 0s 2ms/step - loss: 0.0362 - accuracy: 0.9889\n",
      "Epoch 89/100\n",
      "293/293 [==============================] - 1s 2ms/step - loss: 0.0363 - accuracy: 0.9901\n",
      "Epoch 90/100\n",
      "293/293 [==============================] - 0s 1ms/step - loss: 0.0362 - accuracy: 0.9883\n",
      "Epoch 91/100\n",
      "293/293 [==============================] - 0s 1ms/step - loss: 0.0364 - accuracy: 0.9893\n",
      "Epoch 92/100\n",
      "293/293 [==============================] - 0s 1ms/step - loss: 0.0363 - accuracy: 0.9879\n",
      "Epoch 93/100\n",
      "293/293 [==============================] - 0s 1ms/step - loss: 0.0363 - accuracy: 0.9888\n",
      "Epoch 94/100\n",
      "293/293 [==============================] - 0s 1ms/step - loss: 0.0362 - accuracy: 0.9899\n",
      "Epoch 95/100\n",
      "293/293 [==============================] - 0s 2ms/step - loss: 0.0361 - accuracy: 0.9905\n",
      "Epoch 96/100\n",
      "293/293 [==============================] - 0s 1ms/step - loss: 0.0363 - accuracy: 0.9894\n",
      "Epoch 97/100\n",
      "293/293 [==============================] - 0s 1ms/step - loss: 0.0363 - accuracy: 0.9886\n",
      "Epoch 98/100\n",
      "293/293 [==============================] - 0s 1ms/step - loss: 0.0361 - accuracy: 0.9899\n",
      "Epoch 99/100\n",
      "293/293 [==============================] - 0s 1ms/step - loss: 0.0362 - accuracy: 0.9900\n",
      "Epoch 100/100\n",
      "293/293 [==============================] - 1s 2ms/step - loss: 0.0362 - accuracy: 0.9895\n"
     ]
    },
    {
     "data": {
      "text/plain": [
       "<keras.callbacks.History at 0x126398efa60>"
      ]
     },
     "execution_count": 20,
     "metadata": {},
     "output_type": "execute_result"
    }
   ],
   "source": [
    "# Train model\n",
    "model.fit(X, y, epochs=100)"
   ]
  },
  {
   "cell_type": "code",
   "execution_count": 21,
   "metadata": {},
   "outputs": [],
   "source": [
    "# Predict\n",
    "X_test = test_data['cpu_util'].values\n",
    "y_test = test_data['anomaly'].values\n"
   ]
  },
  {
   "cell_type": "code",
   "execution_count": 22,
   "metadata": {},
   "outputs": [],
   "source": [
    "def predict(x):\n",
    "    return model.predict(x)"
   ]
  },
  {
   "cell_type": "code",
   "execution_count": 44,
   "metadata": {},
   "outputs": [
    {
     "name": "stdout",
     "output_type": "stream",
     "text": [
      "1/1 [==============================] - 0s 52ms/step\n"
     ]
    },
    {
     "data": {
      "text/plain": [
       "array([[4.8252579e-04],\n",
       "       [5.1040399e-01],\n",
       "       [2.1941572e-02],\n",
       "       [7.4634694e-02],\n",
       "       [2.2478762e-01],\n",
       "       [5.1040399e-01],\n",
       "       [6.9197810e-01],\n",
       "       [6.9197810e-01],\n",
       "       [6.9197810e-01],\n",
       "       [6.9197810e-01],\n",
       "       [6.9197810e-01],\n",
       "       [6.2012188e-03],\n",
       "       [2.1941572e-02]], dtype=float32)"
      ]
     },
     "execution_count": 44,
     "metadata": {},
     "output_type": "execute_result"
    }
   ],
   "source": [
    "predict([0.2, 0.8, 0.5, 0.6, 0.7, 0.8, 0.86, 0.86, 0.86, 0.86, 0.86, 0.4, 0.5])"
   ]
  },
  {
   "cell_type": "code",
   "execution_count": 42,
   "metadata": {},
   "outputs": [
    {
     "data": {
      "text/plain": [
       "0.6919781"
      ]
     },
     "execution_count": 42,
     "metadata": {},
     "output_type": "execute_result"
    }
   ],
   "source": [
    "6.9197810e-01"
   ]
  },
  {
   "cell_type": "code",
   "execution_count": null,
   "metadata": {},
   "outputs": [],
   "source": []
  }
 ],
 "metadata": {
  "kernelspec": {
   "display_name": "Python 3",
   "language": "python",
   "name": "python3"
  },
  "language_info": {
   "codemirror_mode": {
    "name": "ipython",
    "version": 3
   },
   "file_extension": ".py",
   "mimetype": "text/x-python",
   "name": "python",
   "nbconvert_exporter": "python",
   "pygments_lexer": "ipython3",
   "version": "3.10.7"
  }
 },
 "nbformat": 4,
 "nbformat_minor": 2
}
