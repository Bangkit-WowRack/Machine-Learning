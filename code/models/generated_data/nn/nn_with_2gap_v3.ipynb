{
 "cells": [
  {
   "cell_type": "code",
   "execution_count": 1,
   "metadata": {},
   "outputs": [
    {
     "name": "stdout",
     "output_type": "stream",
     "text": [
      "WARNING:tensorflow:From c:\\Users\\HP\\AppData\\Local\\Programs\\Python\\Python310\\lib\\site-packages\\keras\\src\\losses.py:2976: The name tf.losses.sparse_softmax_cross_entropy is deprecated. Please use tf.compat.v1.losses.sparse_softmax_cross_entropy instead.\n",
      "\n"
     ]
    }
   ],
   "source": [
    "#neural network model\n",
    "\n",
    "import numpy as np\n",
    "import pandas as pd\n",
    "import matplotlib.pyplot as plt\n",
    "import seaborn as sns\n",
    "import tensorflow as tf\n",
    "from sklearn.preprocessing import StandardScaler\n"
   ]
  },
  {
   "cell_type": "code",
   "execution_count": 2,
   "metadata": {},
   "outputs": [],
   "source": [
    "df = pd.read_csv('../generated_cpu_data_with_anomaly_v2_custom_threshold.csv')\n",
    "df['date'] = pd.to_datetime(df['date'])"
   ]
  },
  {
   "cell_type": "code",
   "execution_count": 3,
   "metadata": {},
   "outputs": [
    {
     "data": {
      "text/html": [
       "<div>\n",
       "<style scoped>\n",
       "    .dataframe tbody tr th:only-of-type {\n",
       "        vertical-align: middle;\n",
       "    }\n",
       "\n",
       "    .dataframe tbody tr th {\n",
       "        vertical-align: top;\n",
       "    }\n",
       "\n",
       "    .dataframe thead th {\n",
       "        text-align: right;\n",
       "    }\n",
       "</style>\n",
       "<table border=\"1\" class=\"dataframe\">\n",
       "  <thead>\n",
       "    <tr style=\"text-align: right;\">\n",
       "      <th></th>\n",
       "      <th>cpu_util</th>\n",
       "      <th>date</th>\n",
       "      <th>anomaly</th>\n",
       "    </tr>\n",
       "  </thead>\n",
       "  <tbody>\n",
       "    <tr>\n",
       "      <th>0</th>\n",
       "      <td>89.447320</td>\n",
       "      <td>2023-06-25 00:03:05.640</td>\n",
       "      <td>1</td>\n",
       "    </tr>\n",
       "    <tr>\n",
       "      <th>1</th>\n",
       "      <td>57.320538</td>\n",
       "      <td>2023-06-25 00:08:05.640</td>\n",
       "      <td>0</td>\n",
       "    </tr>\n",
       "    <tr>\n",
       "      <th>2</th>\n",
       "      <td>87.058688</td>\n",
       "      <td>2023-06-25 00:13:05.640</td>\n",
       "      <td>1</td>\n",
       "    </tr>\n",
       "    <tr>\n",
       "      <th>3</th>\n",
       "      <td>87.409467</td>\n",
       "      <td>2023-06-25 00:18:05.640</td>\n",
       "      <td>1</td>\n",
       "    </tr>\n",
       "    <tr>\n",
       "      <th>4</th>\n",
       "      <td>78.111494</td>\n",
       "      <td>2023-06-25 00:23:05.640</td>\n",
       "      <td>0</td>\n",
       "    </tr>\n",
       "    <tr>\n",
       "      <th>...</th>\n",
       "      <td>...</td>\n",
       "      <td>...</td>\n",
       "      <td>...</td>\n",
       "    </tr>\n",
       "    <tr>\n",
       "      <th>8635</th>\n",
       "      <td>2.692620</td>\n",
       "      <td>2023-07-24 23:38:06.441</td>\n",
       "      <td>0</td>\n",
       "    </tr>\n",
       "    <tr>\n",
       "      <th>8636</th>\n",
       "      <td>30.604348</td>\n",
       "      <td>2023-07-24 23:43:06.441</td>\n",
       "      <td>1</td>\n",
       "    </tr>\n",
       "    <tr>\n",
       "      <th>8637</th>\n",
       "      <td>14.278655</td>\n",
       "      <td>2023-07-24 23:48:06.441</td>\n",
       "      <td>0</td>\n",
       "    </tr>\n",
       "    <tr>\n",
       "      <th>8638</th>\n",
       "      <td>35.247145</td>\n",
       "      <td>2023-07-24 23:53:06.441</td>\n",
       "      <td>1</td>\n",
       "    </tr>\n",
       "    <tr>\n",
       "      <th>8639</th>\n",
       "      <td>6.065125</td>\n",
       "      <td>2023-07-24 23:58:06.441</td>\n",
       "      <td>0</td>\n",
       "    </tr>\n",
       "  </tbody>\n",
       "</table>\n",
       "<p>8640 rows × 3 columns</p>\n",
       "</div>"
      ],
      "text/plain": [
       "       cpu_util                    date  anomaly\n",
       "0     89.447320 2023-06-25 00:03:05.640        1\n",
       "1     57.320538 2023-06-25 00:08:05.640        0\n",
       "2     87.058688 2023-06-25 00:13:05.640        1\n",
       "3     87.409467 2023-06-25 00:18:05.640        1\n",
       "4     78.111494 2023-06-25 00:23:05.640        0\n",
       "...         ...                     ...      ...\n",
       "8635   2.692620 2023-07-24 23:38:06.441        0\n",
       "8636  30.604348 2023-07-24 23:43:06.441        1\n",
       "8637  14.278655 2023-07-24 23:48:06.441        0\n",
       "8638  35.247145 2023-07-24 23:53:06.441        1\n",
       "8639   6.065125 2023-07-24 23:58:06.441        0\n",
       "\n",
       "[8640 rows x 3 columns]"
      ]
     },
     "execution_count": 3,
     "metadata": {},
     "output_type": "execute_result"
    }
   ],
   "source": [
    "df"
   ]
  },
  {
   "cell_type": "code",
   "execution_count": 4,
   "metadata": {},
   "outputs": [],
   "source": [
    "num_lags = 2\n",
    "\n",
    "#add lag\n",
    "for i in range(1, num_lags+1):\n",
    "    df['lag_{}'.format(i)] = df['cpu_util'].shift(i)\n",
    "  \n",
    "df = df.dropna()"
   ]
  },
  {
   "cell_type": "code",
   "execution_count": 5,
   "metadata": {},
   "outputs": [
    {
     "data": {
      "text/html": [
       "<div>\n",
       "<style scoped>\n",
       "    .dataframe tbody tr th:only-of-type {\n",
       "        vertical-align: middle;\n",
       "    }\n",
       "\n",
       "    .dataframe tbody tr th {\n",
       "        vertical-align: top;\n",
       "    }\n",
       "\n",
       "    .dataframe thead th {\n",
       "        text-align: right;\n",
       "    }\n",
       "</style>\n",
       "<table border=\"1\" class=\"dataframe\">\n",
       "  <thead>\n",
       "    <tr style=\"text-align: right;\">\n",
       "      <th></th>\n",
       "      <th>cpu_util</th>\n",
       "      <th>date</th>\n",
       "      <th>anomaly</th>\n",
       "      <th>lag_1</th>\n",
       "      <th>lag_2</th>\n",
       "    </tr>\n",
       "  </thead>\n",
       "  <tbody>\n",
       "    <tr>\n",
       "      <th>2</th>\n",
       "      <td>87.058688</td>\n",
       "      <td>2023-06-25 00:13:05.640</td>\n",
       "      <td>1</td>\n",
       "      <td>57.320538</td>\n",
       "      <td>89.447320</td>\n",
       "    </tr>\n",
       "    <tr>\n",
       "      <th>3</th>\n",
       "      <td>87.409467</td>\n",
       "      <td>2023-06-25 00:18:05.640</td>\n",
       "      <td>1</td>\n",
       "      <td>87.058688</td>\n",
       "      <td>57.320538</td>\n",
       "    </tr>\n",
       "    <tr>\n",
       "      <th>4</th>\n",
       "      <td>78.111494</td>\n",
       "      <td>2023-06-25 00:23:05.640</td>\n",
       "      <td>0</td>\n",
       "      <td>87.409467</td>\n",
       "      <td>87.058688</td>\n",
       "    </tr>\n",
       "    <tr>\n",
       "      <th>5</th>\n",
       "      <td>65.111306</td>\n",
       "      <td>2023-06-25 00:28:05.640</td>\n",
       "      <td>0</td>\n",
       "      <td>78.111494</td>\n",
       "      <td>87.409467</td>\n",
       "    </tr>\n",
       "    <tr>\n",
       "      <th>6</th>\n",
       "      <td>94.526610</td>\n",
       "      <td>2023-06-25 00:33:05.640</td>\n",
       "      <td>1</td>\n",
       "      <td>65.111306</td>\n",
       "      <td>78.111494</td>\n",
       "    </tr>\n",
       "    <tr>\n",
       "      <th>...</th>\n",
       "      <td>...</td>\n",
       "      <td>...</td>\n",
       "      <td>...</td>\n",
       "      <td>...</td>\n",
       "      <td>...</td>\n",
       "    </tr>\n",
       "    <tr>\n",
       "      <th>8635</th>\n",
       "      <td>2.692620</td>\n",
       "      <td>2023-07-24 23:38:06.441</td>\n",
       "      <td>0</td>\n",
       "      <td>16.306464</td>\n",
       "      <td>30.297529</td>\n",
       "    </tr>\n",
       "    <tr>\n",
       "      <th>8636</th>\n",
       "      <td>30.604348</td>\n",
       "      <td>2023-07-24 23:43:06.441</td>\n",
       "      <td>1</td>\n",
       "      <td>2.692620</td>\n",
       "      <td>16.306464</td>\n",
       "    </tr>\n",
       "    <tr>\n",
       "      <th>8637</th>\n",
       "      <td>14.278655</td>\n",
       "      <td>2023-07-24 23:48:06.441</td>\n",
       "      <td>0</td>\n",
       "      <td>30.604348</td>\n",
       "      <td>2.692620</td>\n",
       "    </tr>\n",
       "    <tr>\n",
       "      <th>8638</th>\n",
       "      <td>35.247145</td>\n",
       "      <td>2023-07-24 23:53:06.441</td>\n",
       "      <td>1</td>\n",
       "      <td>14.278655</td>\n",
       "      <td>30.604348</td>\n",
       "    </tr>\n",
       "    <tr>\n",
       "      <th>8639</th>\n",
       "      <td>6.065125</td>\n",
       "      <td>2023-07-24 23:58:06.441</td>\n",
       "      <td>0</td>\n",
       "      <td>35.247145</td>\n",
       "      <td>14.278655</td>\n",
       "    </tr>\n",
       "  </tbody>\n",
       "</table>\n",
       "<p>8638 rows × 5 columns</p>\n",
       "</div>"
      ],
      "text/plain": [
       "       cpu_util                    date  anomaly      lag_1      lag_2\n",
       "2     87.058688 2023-06-25 00:13:05.640        1  57.320538  89.447320\n",
       "3     87.409467 2023-06-25 00:18:05.640        1  87.058688  57.320538\n",
       "4     78.111494 2023-06-25 00:23:05.640        0  87.409467  87.058688\n",
       "5     65.111306 2023-06-25 00:28:05.640        0  78.111494  87.409467\n",
       "6     94.526610 2023-06-25 00:33:05.640        1  65.111306  78.111494\n",
       "...         ...                     ...      ...        ...        ...\n",
       "8635   2.692620 2023-07-24 23:38:06.441        0  16.306464  30.297529\n",
       "8636  30.604348 2023-07-24 23:43:06.441        1   2.692620  16.306464\n",
       "8637  14.278655 2023-07-24 23:48:06.441        0  30.604348   2.692620\n",
       "8638  35.247145 2023-07-24 23:53:06.441        1  14.278655  30.604348\n",
       "8639   6.065125 2023-07-24 23:58:06.441        0  35.247145  14.278655\n",
       "\n",
       "[8638 rows x 5 columns]"
      ]
     },
     "execution_count": 5,
     "metadata": {},
     "output_type": "execute_result"
    }
   ],
   "source": [
    "df"
   ]
  },
  {
   "cell_type": "code",
   "execution_count": 6,
   "metadata": {},
   "outputs": [
    {
     "name": "stderr",
     "output_type": "stream",
     "text": [
      "C:\\Users\\HP\\AppData\\Local\\Temp\\ipykernel_4724\\1686240108.py:4: SettingWithCopyWarning: \n",
      "A value is trying to be set on a copy of a slice from a DataFrame.\n",
      "Try using .loc[row_indexer,col_indexer] = value instead\n",
      "\n",
      "See the caveats in the documentation: https://pandas.pydata.org/pandas-docs/stable/user_guide/indexing.html#returning-a-view-versus-a-copy\n",
      "  X['cpu_util'] = (X['cpu_util']/100).astype(float)\n",
      "C:\\Users\\HP\\AppData\\Local\\Temp\\ipykernel_4724\\1686240108.py:5: SettingWithCopyWarning: \n",
      "A value is trying to be set on a copy of a slice from a DataFrame.\n",
      "Try using .loc[row_indexer,col_indexer] = value instead\n",
      "\n",
      "See the caveats in the documentation: https://pandas.pydata.org/pandas-docs/stable/user_guide/indexing.html#returning-a-view-versus-a-copy\n",
      "  X['lag_1'] = (X['lag_1']/100).astype(float)\n",
      "C:\\Users\\HP\\AppData\\Local\\Temp\\ipykernel_4724\\1686240108.py:6: SettingWithCopyWarning: \n",
      "A value is trying to be set on a copy of a slice from a DataFrame.\n",
      "Try using .loc[row_indexer,col_indexer] = value instead\n",
      "\n",
      "See the caveats in the documentation: https://pandas.pydata.org/pandas-docs/stable/user_guide/indexing.html#returning-a-view-versus-a-copy\n",
      "  X['lag_2'] = (X['lag_2']/100).astype(float)\n"
     ]
    }
   ],
   "source": [
    "X = df[['cpu_util', 'lag_1', 'lag_2']]\n",
    "y = df['anomaly']\n",
    "\n",
    "X['cpu_util'] = (X['cpu_util']/100).astype(float)\n",
    "X['lag_1'] = (X['lag_1']/100).astype(float)\n",
    "X['lag_2'] = (X['lag_2']/100).astype(float)"
   ]
  },
  {
   "cell_type": "code",
   "execution_count": 7,
   "metadata": {},
   "outputs": [
    {
     "name": "stderr",
     "output_type": "stream",
     "text": [
      "C:\\Users\\HP\\AppData\\Local\\Temp\\ipykernel_4724\\3789776307.py:3: FutureWarning: The behavior of `series[i:j]` with an integer-dtype index is deprecated. In a future version, this will be treated as *label-based* indexing, consistent with e.g. `series[i]` lookups. To retain the old behavior, use `series.iloc[i:j]`. To get the future behavior, use `series.loc[i:j]`.\n",
      "  y_train = y[:int(0.7*len(y))]\n",
      "C:\\Users\\HP\\AppData\\Local\\Temp\\ipykernel_4724\\3789776307.py:4: FutureWarning: The behavior of `series[i:j]` with an integer-dtype index is deprecated. In a future version, this will be treated as *label-based* indexing, consistent with e.g. `series[i]` lookups. To retain the old behavior, use `series.iloc[i:j]`. To get the future behavior, use `series.loc[i:j]`.\n",
      "  y_test = y[int(0.7*len(y)):]\n"
     ]
    }
   ],
   "source": [
    "X_train = X[:int(0.7*len(X))]\n",
    "X_test = X[int(0.7*len(X)):]\n",
    "y_train = y[:int(0.7*len(y))]\n",
    "y_test = y[int(0.7*len(y)):]\n",
    "\n",
    "X_train = np.array(X_train)\n",
    "X_test = np.array(X_test)\n",
    "y_train = np.array(y_train)\n",
    "y_test = np.array(y_test)"
   ]
  },
  {
   "cell_type": "code",
   "execution_count": 8,
   "metadata": {},
   "outputs": [
    {
     "name": "stdout",
     "output_type": "stream",
     "text": [
      "WARNING:tensorflow:From c:\\Users\\HP\\AppData\\Local\\Programs\\Python\\Python310\\lib\\site-packages\\keras\\src\\backend.py:873: The name tf.get_default_graph is deprecated. Please use tf.compat.v1.get_default_graph instead.\n",
      "\n"
     ]
    }
   ],
   "source": [
    "model = tf.keras.models.Sequential([\n",
    "    tf.keras.layers.Dense(64, activation='relu'),\n",
    "    tf.keras.layers.Dense(32, activation='relu'),\n",
    "    tf.keras.layers.Dense(1, activation='sigmoid')\n",
    "])"
   ]
  },
  {
   "cell_type": "code",
   "execution_count": 9,
   "metadata": {},
   "outputs": [
    {
     "name": "stdout",
     "output_type": "stream",
     "text": [
      "WARNING:tensorflow:From c:\\Users\\HP\\AppData\\Local\\Programs\\Python\\Python310\\lib\\site-packages\\keras\\src\\optimizers\\__init__.py:309: The name tf.train.Optimizer is deprecated. Please use tf.compat.v1.train.Optimizer instead.\n",
      "\n"
     ]
    }
   ],
   "source": [
    "model.compile(optimizer='adam', loss='binary_crossentropy', metrics=['accuracy'])"
   ]
  },
  {
   "cell_type": "code",
   "execution_count": 10,
   "metadata": {},
   "outputs": [
    {
     "name": "stdout",
     "output_type": "stream",
     "text": [
      "Epoch 1/100\n",
      "WARNING:tensorflow:From c:\\Users\\HP\\AppData\\Local\\Programs\\Python\\Python310\\lib\\site-packages\\keras\\src\\utils\\tf_utils.py:492: The name tf.ragged.RaggedTensorValue is deprecated. Please use tf.compat.v1.ragged.RaggedTensorValue instead.\n",
      "\n",
      "WARNING:tensorflow:From c:\\Users\\HP\\AppData\\Local\\Programs\\Python\\Python310\\lib\\site-packages\\keras\\src\\engine\\base_layer_utils.py:384: The name tf.executing_eagerly_outside_functions is deprecated. Please use tf.compat.v1.executing_eagerly_outside_functions instead.\n",
      "\n",
      "189/189 [==============================] - 2s 3ms/step - loss: 0.4885 - accuracy: 0.7894 - val_loss: 0.2928 - val_accuracy: 0.8978\n",
      "Epoch 2/100\n",
      "189/189 [==============================] - 0s 2ms/step - loss: 0.3048 - accuracy: 0.8803 - val_loss: 0.2302 - val_accuracy: 0.8924\n",
      "Epoch 3/100\n",
      "189/189 [==============================] - 0s 2ms/step - loss: 0.2680 - accuracy: 0.8809 - val_loss: 0.2121 - val_accuracy: 0.8985\n",
      "Epoch 4/100\n",
      "189/189 [==============================] - 0s 2ms/step - loss: 0.2561 - accuracy: 0.8799 - val_loss: 0.2034 - val_accuracy: 0.9055\n",
      "Epoch 5/100\n",
      "189/189 [==============================] - 0s 2ms/step - loss: 0.2497 - accuracy: 0.8826 - val_loss: 0.2031 - val_accuracy: 0.9074\n",
      "Epoch 6/100\n",
      "189/189 [==============================] - 0s 2ms/step - loss: 0.2460 - accuracy: 0.8890 - val_loss: 0.2003 - val_accuracy: 0.9070\n",
      "Epoch 7/100\n",
      "189/189 [==============================] - 0s 2ms/step - loss: 0.2406 - accuracy: 0.8910 - val_loss: 0.2041 - val_accuracy: 0.9070\n",
      "Epoch 8/100\n",
      "189/189 [==============================] - 0s 2ms/step - loss: 0.2383 - accuracy: 0.8923 - val_loss: 0.1989 - val_accuracy: 0.9074\n",
      "Epoch 9/100\n",
      "189/189 [==============================] - 0s 2ms/step - loss: 0.2359 - accuracy: 0.8950 - val_loss: 0.1896 - val_accuracy: 0.9151\n",
      "Epoch 10/100\n",
      "189/189 [==============================] - 0s 2ms/step - loss: 0.2334 - accuracy: 0.8973 - val_loss: 0.2076 - val_accuracy: 0.9051\n",
      "Epoch 11/100\n",
      "189/189 [==============================] - 0s 2ms/step - loss: 0.2317 - accuracy: 0.8986 - val_loss: 0.1985 - val_accuracy: 0.9097\n",
      "Epoch 12/100\n",
      "189/189 [==============================] - 0s 2ms/step - loss: 0.2265 - accuracy: 0.9001 - val_loss: 0.1881 - val_accuracy: 0.9182\n",
      "Epoch 13/100\n",
      "189/189 [==============================] - 0s 2ms/step - loss: 0.2249 - accuracy: 0.9059 - val_loss: 0.1933 - val_accuracy: 0.9117\n",
      "Epoch 14/100\n",
      "189/189 [==============================] - 0s 2ms/step - loss: 0.2206 - accuracy: 0.9089 - val_loss: 0.1892 - val_accuracy: 0.9163\n",
      "Epoch 15/100\n",
      "189/189 [==============================] - 0s 2ms/step - loss: 0.2207 - accuracy: 0.9089 - val_loss: 0.1884 - val_accuracy: 0.9190\n",
      "Epoch 16/100\n",
      "189/189 [==============================] - 0s 2ms/step - loss: 0.2183 - accuracy: 0.9082 - val_loss: 0.1819 - val_accuracy: 0.9252\n",
      "Epoch 17/100\n",
      "189/189 [==============================] - 0s 2ms/step - loss: 0.2163 - accuracy: 0.9107 - val_loss: 0.1861 - val_accuracy: 0.9225\n",
      "Epoch 18/100\n",
      "189/189 [==============================] - 0s 2ms/step - loss: 0.2147 - accuracy: 0.9120 - val_loss: 0.1842 - val_accuracy: 0.9198\n",
      "Epoch 19/100\n",
      "189/189 [==============================] - 0s 2ms/step - loss: 0.2118 - accuracy: 0.9147 - val_loss: 0.1806 - val_accuracy: 0.9213\n",
      "Epoch 20/100\n",
      "189/189 [==============================] - 0s 2ms/step - loss: 0.2096 - accuracy: 0.9145 - val_loss: 0.1824 - val_accuracy: 0.9232\n",
      "Epoch 21/100\n",
      "189/189 [==============================] - 0s 2ms/step - loss: 0.2075 - accuracy: 0.9190 - val_loss: 0.1838 - val_accuracy: 0.9198\n",
      "Epoch 22/100\n",
      "189/189 [==============================] - 0s 2ms/step - loss: 0.2061 - accuracy: 0.9150 - val_loss: 0.1775 - val_accuracy: 0.9259\n",
      "Epoch 23/100\n",
      "189/189 [==============================] - 0s 2ms/step - loss: 0.2032 - accuracy: 0.9183 - val_loss: 0.1757 - val_accuracy: 0.9271\n",
      "Epoch 24/100\n",
      "189/189 [==============================] - 0s 2ms/step - loss: 0.2019 - accuracy: 0.9221 - val_loss: 0.1780 - val_accuracy: 0.9255\n",
      "Epoch 25/100\n",
      "189/189 [==============================] - 0s 2ms/step - loss: 0.1992 - accuracy: 0.9224 - val_loss: 0.1809 - val_accuracy: 0.9213\n",
      "Epoch 26/100\n",
      "189/189 [==============================] - 0s 2ms/step - loss: 0.1968 - accuracy: 0.9213 - val_loss: 0.1823 - val_accuracy: 0.9205\n",
      "Epoch 27/100\n",
      "189/189 [==============================] - 0s 2ms/step - loss: 0.1968 - accuracy: 0.9231 - val_loss: 0.1799 - val_accuracy: 0.9236\n",
      "Epoch 28/100\n",
      "189/189 [==============================] - 0s 2ms/step - loss: 0.1958 - accuracy: 0.9242 - val_loss: 0.1810 - val_accuracy: 0.9198\n",
      "Epoch 29/100\n",
      "189/189 [==============================] - 0s 2ms/step - loss: 0.1969 - accuracy: 0.9208 - val_loss: 0.1711 - val_accuracy: 0.9298\n",
      "Epoch 30/100\n",
      "189/189 [==============================] - 0s 2ms/step - loss: 0.1935 - accuracy: 0.9239 - val_loss: 0.1719 - val_accuracy: 0.9282\n",
      "Epoch 31/100\n",
      "189/189 [==============================] - 0s 2ms/step - loss: 0.1916 - accuracy: 0.9223 - val_loss: 0.1733 - val_accuracy: 0.9263\n",
      "Epoch 32/100\n",
      "189/189 [==============================] - 0s 2ms/step - loss: 0.1908 - accuracy: 0.9262 - val_loss: 0.1793 - val_accuracy: 0.9205\n",
      "Epoch 33/100\n",
      "189/189 [==============================] - 0s 2ms/step - loss: 0.1876 - accuracy: 0.9271 - val_loss: 0.1708 - val_accuracy: 0.9275\n",
      "Epoch 34/100\n",
      "189/189 [==============================] - 0s 2ms/step - loss: 0.1881 - accuracy: 0.9274 - val_loss: 0.1761 - val_accuracy: 0.9240\n",
      "Epoch 35/100\n",
      "189/189 [==============================] - 0s 2ms/step - loss: 0.1864 - accuracy: 0.9254 - val_loss: 0.1702 - val_accuracy: 0.9336\n",
      "Epoch 36/100\n",
      "189/189 [==============================] - 0s 2ms/step - loss: 0.1863 - accuracy: 0.9233 - val_loss: 0.1681 - val_accuracy: 0.9290\n",
      "Epoch 37/100\n",
      "189/189 [==============================] - 0s 2ms/step - loss: 0.1834 - accuracy: 0.9281 - val_loss: 0.1707 - val_accuracy: 0.9294\n",
      "Epoch 38/100\n",
      "189/189 [==============================] - 0s 2ms/step - loss: 0.1826 - accuracy: 0.9282 - val_loss: 0.1674 - val_accuracy: 0.9271\n",
      "Epoch 39/100\n",
      "189/189 [==============================] - 0s 2ms/step - loss: 0.1830 - accuracy: 0.9272 - val_loss: 0.1698 - val_accuracy: 0.9279\n",
      "Epoch 40/100\n",
      "189/189 [==============================] - 0s 2ms/step - loss: 0.1793 - accuracy: 0.9325 - val_loss: 0.1688 - val_accuracy: 0.9329\n",
      "Epoch 41/100\n",
      "189/189 [==============================] - 0s 2ms/step - loss: 0.1808 - accuracy: 0.9295 - val_loss: 0.1636 - val_accuracy: 0.9309\n",
      "Epoch 42/100\n",
      "189/189 [==============================] - 0s 2ms/step - loss: 0.1803 - accuracy: 0.9290 - val_loss: 0.1596 - val_accuracy: 0.9371\n",
      "Epoch 43/100\n",
      "189/189 [==============================] - 0s 2ms/step - loss: 0.1806 - accuracy: 0.9292 - val_loss: 0.1600 - val_accuracy: 0.9356\n",
      "Epoch 44/100\n",
      "189/189 [==============================] - 0s 2ms/step - loss: 0.1807 - accuracy: 0.9282 - val_loss: 0.1653 - val_accuracy: 0.9302\n",
      "Epoch 45/100\n",
      "189/189 [==============================] - 0s 2ms/step - loss: 0.1776 - accuracy: 0.9299 - val_loss: 0.1645 - val_accuracy: 0.9279\n",
      "Epoch 46/100\n",
      "189/189 [==============================] - 0s 2ms/step - loss: 0.1778 - accuracy: 0.9284 - val_loss: 0.1589 - val_accuracy: 0.9360\n",
      "Epoch 47/100\n",
      "189/189 [==============================] - 0s 2ms/step - loss: 0.1770 - accuracy: 0.9300 - val_loss: 0.1624 - val_accuracy: 0.9356\n",
      "Epoch 48/100\n",
      "189/189 [==============================] - 0s 2ms/step - loss: 0.1792 - accuracy: 0.9284 - val_loss: 0.1561 - val_accuracy: 0.9379\n",
      "Epoch 49/100\n",
      "189/189 [==============================] - 0s 2ms/step - loss: 0.1750 - accuracy: 0.9295 - val_loss: 0.1606 - val_accuracy: 0.9306\n",
      "Epoch 50/100\n",
      "189/189 [==============================] - 0s 2ms/step - loss: 0.1764 - accuracy: 0.9295 - val_loss: 0.1622 - val_accuracy: 0.9282\n",
      "Epoch 51/100\n",
      "189/189 [==============================] - 0s 2ms/step - loss: 0.1760 - accuracy: 0.9287 - val_loss: 0.1633 - val_accuracy: 0.9267\n",
      "Epoch 52/100\n",
      "189/189 [==============================] - 0s 2ms/step - loss: 0.1730 - accuracy: 0.9327 - val_loss: 0.1650 - val_accuracy: 0.9329\n",
      "Epoch 53/100\n",
      "189/189 [==============================] - 0s 2ms/step - loss: 0.1736 - accuracy: 0.9309 - val_loss: 0.1574 - val_accuracy: 0.9333\n",
      "Epoch 54/100\n",
      "189/189 [==============================] - 0s 2ms/step - loss: 0.1713 - accuracy: 0.9315 - val_loss: 0.1548 - val_accuracy: 0.9344\n",
      "Epoch 55/100\n",
      "189/189 [==============================] - 0s 2ms/step - loss: 0.1734 - accuracy: 0.9307 - val_loss: 0.1564 - val_accuracy: 0.9375\n",
      "Epoch 56/100\n",
      "189/189 [==============================] - 0s 2ms/step - loss: 0.1702 - accuracy: 0.9320 - val_loss: 0.1638 - val_accuracy: 0.9290\n",
      "Epoch 57/100\n",
      "189/189 [==============================] - 0s 2ms/step - loss: 0.1723 - accuracy: 0.9309 - val_loss: 0.1533 - val_accuracy: 0.9387\n",
      "Epoch 58/100\n",
      "189/189 [==============================] - 0s 2ms/step - loss: 0.1688 - accuracy: 0.9312 - val_loss: 0.1557 - val_accuracy: 0.9321\n",
      "Epoch 59/100\n",
      "189/189 [==============================] - 0s 2ms/step - loss: 0.1694 - accuracy: 0.9297 - val_loss: 0.1505 - val_accuracy: 0.9387\n",
      "Epoch 60/100\n",
      "189/189 [==============================] - 0s 2ms/step - loss: 0.1700 - accuracy: 0.9327 - val_loss: 0.1529 - val_accuracy: 0.9363\n",
      "Epoch 61/100\n",
      "189/189 [==============================] - 0s 2ms/step - loss: 0.1674 - accuracy: 0.9340 - val_loss: 0.1557 - val_accuracy: 0.9298\n",
      "Epoch 62/100\n",
      "189/189 [==============================] - 0s 2ms/step - loss: 0.1675 - accuracy: 0.9307 - val_loss: 0.1509 - val_accuracy: 0.9387\n",
      "Epoch 63/100\n",
      "189/189 [==============================] - 0s 2ms/step - loss: 0.1673 - accuracy: 0.9320 - val_loss: 0.1526 - val_accuracy: 0.9387\n",
      "Epoch 64/100\n",
      "189/189 [==============================] - 0s 2ms/step - loss: 0.1675 - accuracy: 0.9319 - val_loss: 0.1532 - val_accuracy: 0.9371\n",
      "Epoch 65/100\n",
      "189/189 [==============================] - 0s 2ms/step - loss: 0.1704 - accuracy: 0.9325 - val_loss: 0.1521 - val_accuracy: 0.9390\n",
      "Epoch 66/100\n",
      "189/189 [==============================] - 0s 2ms/step - loss: 0.1676 - accuracy: 0.9320 - val_loss: 0.1534 - val_accuracy: 0.9348\n",
      "Epoch 67/100\n",
      "189/189 [==============================] - 0s 2ms/step - loss: 0.1674 - accuracy: 0.9305 - val_loss: 0.1480 - val_accuracy: 0.9414\n",
      "Epoch 68/100\n",
      "189/189 [==============================] - 0s 2ms/step - loss: 0.1701 - accuracy: 0.9310 - val_loss: 0.1543 - val_accuracy: 0.9356\n",
      "Epoch 69/100\n",
      "189/189 [==============================] - 0s 2ms/step - loss: 0.1660 - accuracy: 0.9320 - val_loss: 0.1478 - val_accuracy: 0.9398\n",
      "Epoch 70/100\n",
      "189/189 [==============================] - 0s 2ms/step - loss: 0.1673 - accuracy: 0.9324 - val_loss: 0.1551 - val_accuracy: 0.9325\n",
      "Epoch 71/100\n",
      "189/189 [==============================] - 0s 2ms/step - loss: 0.1657 - accuracy: 0.9319 - val_loss: 0.1572 - val_accuracy: 0.9333\n",
      "Epoch 72/100\n",
      "189/189 [==============================] - 0s 2ms/step - loss: 0.1641 - accuracy: 0.9312 - val_loss: 0.1657 - val_accuracy: 0.9271\n",
      "Epoch 73/100\n",
      "189/189 [==============================] - 0s 2ms/step - loss: 0.1679 - accuracy: 0.9320 - val_loss: 0.1522 - val_accuracy: 0.9367\n",
      "Epoch 74/100\n",
      "189/189 [==============================] - 0s 2ms/step - loss: 0.1673 - accuracy: 0.9310 - val_loss: 0.1538 - val_accuracy: 0.9352\n",
      "Epoch 75/100\n",
      "189/189 [==============================] - 0s 2ms/step - loss: 0.1642 - accuracy: 0.9315 - val_loss: 0.1555 - val_accuracy: 0.9313\n",
      "Epoch 76/100\n",
      "189/189 [==============================] - 0s 2ms/step - loss: 0.1656 - accuracy: 0.9343 - val_loss: 0.1519 - val_accuracy: 0.9344\n",
      "Epoch 77/100\n",
      "189/189 [==============================] - 0s 2ms/step - loss: 0.1665 - accuracy: 0.9320 - val_loss: 0.1603 - val_accuracy: 0.9371\n",
      "Epoch 78/100\n",
      "189/189 [==============================] - 0s 2ms/step - loss: 0.1662 - accuracy: 0.9307 - val_loss: 0.1585 - val_accuracy: 0.9294\n",
      "Epoch 79/100\n",
      "189/189 [==============================] - 0s 2ms/step - loss: 0.1675 - accuracy: 0.9310 - val_loss: 0.1600 - val_accuracy: 0.9348\n",
      "Epoch 80/100\n",
      "189/189 [==============================] - 0s 2ms/step - loss: 0.1673 - accuracy: 0.9305 - val_loss: 0.1470 - val_accuracy: 0.9417\n",
      "Epoch 81/100\n",
      "189/189 [==============================] - 0s 2ms/step - loss: 0.1642 - accuracy: 0.9324 - val_loss: 0.1556 - val_accuracy: 0.9309\n",
      "Epoch 82/100\n",
      "189/189 [==============================] - 0s 2ms/step - loss: 0.1644 - accuracy: 0.9340 - val_loss: 0.1575 - val_accuracy: 0.9306\n",
      "Epoch 83/100\n",
      "189/189 [==============================] - 0s 2ms/step - loss: 0.1622 - accuracy: 0.9310 - val_loss: 0.1471 - val_accuracy: 0.9417\n",
      "Epoch 84/100\n",
      "189/189 [==============================] - 0s 2ms/step - loss: 0.1642 - accuracy: 0.9338 - val_loss: 0.1562 - val_accuracy: 0.9298\n",
      "Epoch 85/100\n",
      "189/189 [==============================] - 0s 3ms/step - loss: 0.1640 - accuracy: 0.9362 - val_loss: 0.1500 - val_accuracy: 0.9394\n",
      "Epoch 86/100\n",
      "189/189 [==============================] - 0s 2ms/step - loss: 0.1627 - accuracy: 0.9332 - val_loss: 0.1552 - val_accuracy: 0.9360\n",
      "Epoch 87/100\n",
      "189/189 [==============================] - 0s 2ms/step - loss: 0.1633 - accuracy: 0.9330 - val_loss: 0.1476 - val_accuracy: 0.9417\n",
      "Epoch 88/100\n",
      "189/189 [==============================] - 0s 2ms/step - loss: 0.1611 - accuracy: 0.9333 - val_loss: 0.1654 - val_accuracy: 0.9333\n",
      "Epoch 89/100\n",
      "189/189 [==============================] - 0s 2ms/step - loss: 0.1638 - accuracy: 0.9345 - val_loss: 0.1464 - val_accuracy: 0.9417\n",
      "Epoch 90/100\n",
      "189/189 [==============================] - 0s 2ms/step - loss: 0.1634 - accuracy: 0.9333 - val_loss: 0.1528 - val_accuracy: 0.9340\n",
      "Epoch 91/100\n",
      "189/189 [==============================] - 0s 2ms/step - loss: 0.1615 - accuracy: 0.9327 - val_loss: 0.1502 - val_accuracy: 0.9356\n",
      "Epoch 92/100\n",
      "189/189 [==============================] - 0s 2ms/step - loss: 0.1644 - accuracy: 0.9312 - val_loss: 0.1615 - val_accuracy: 0.9279\n",
      "Epoch 93/100\n",
      "189/189 [==============================] - 0s 2ms/step - loss: 0.1632 - accuracy: 0.9314 - val_loss: 0.1459 - val_accuracy: 0.9406\n",
      "Epoch 94/100\n",
      "189/189 [==============================] - 0s 2ms/step - loss: 0.1630 - accuracy: 0.9325 - val_loss: 0.1543 - val_accuracy: 0.9375\n",
      "Epoch 95/100\n",
      "189/189 [==============================] - 0s 2ms/step - loss: 0.1639 - accuracy: 0.9295 - val_loss: 0.1478 - val_accuracy: 0.9387\n",
      "Epoch 96/100\n",
      "189/189 [==============================] - 0s 2ms/step - loss: 0.1613 - accuracy: 0.9343 - val_loss: 0.1513 - val_accuracy: 0.9352\n",
      "Epoch 97/100\n",
      "189/189 [==============================] - 0s 2ms/step - loss: 0.1597 - accuracy: 0.9340 - val_loss: 0.1461 - val_accuracy: 0.9429\n",
      "Epoch 98/100\n",
      "189/189 [==============================] - 0s 2ms/step - loss: 0.1607 - accuracy: 0.9324 - val_loss: 0.1460 - val_accuracy: 0.9410\n",
      "Epoch 99/100\n",
      "189/189 [==============================] - 0s 2ms/step - loss: 0.1616 - accuracy: 0.9327 - val_loss: 0.1537 - val_accuracy: 0.9329\n",
      "Epoch 100/100\n",
      "189/189 [==============================] - 0s 2ms/step - loss: 0.1618 - accuracy: 0.9314 - val_loss: 0.1574 - val_accuracy: 0.9309\n"
     ]
    },
    {
     "data": {
      "text/plain": [
       "<keras.src.callbacks.History at 0x1a9ab922d70>"
      ]
     },
     "execution_count": 10,
     "metadata": {},
     "output_type": "execute_result"
    }
   ],
   "source": [
    "model.fit(X_train, y_train, epochs=100, batch_size=32, validation_data=(X_test, y_test))"
   ]
  },
  {
   "cell_type": "code",
   "execution_count": 11,
   "metadata": {},
   "outputs": [
    {
     "name": "stdout",
     "output_type": "stream",
     "text": [
      "1/1 [==============================] - 0s 110ms/step\n"
     ]
    },
    {
     "data": {
      "text/plain": [
       "array([[0.89363915]], dtype=float32)"
      ]
     },
     "execution_count": 11,
     "metadata": {},
     "output_type": "execute_result"
    }
   ],
   "source": [
    "model.predict([[0.95, 0.8, 0.9]])"
   ]
  },
  {
   "cell_type": "code",
   "execution_count": 12,
   "metadata": {},
   "outputs": [],
   "source": [
    "#get the test data\n",
    "df_test = pd.read_csv('../generated_cpu_data_test_2.csv')"
   ]
  },
  {
   "cell_type": "code",
   "execution_count": 13,
   "metadata": {},
   "outputs": [],
   "source": [
    "df_test['date'] = pd.to_datetime(df_test['date'])"
   ]
  },
  {
   "cell_type": "code",
   "execution_count": 14,
   "metadata": {},
   "outputs": [
    {
     "data": {
      "text/html": [
       "<div>\n",
       "<style scoped>\n",
       "    .dataframe tbody tr th:only-of-type {\n",
       "        vertical-align: middle;\n",
       "    }\n",
       "\n",
       "    .dataframe tbody tr th {\n",
       "        vertical-align: top;\n",
       "    }\n",
       "\n",
       "    .dataframe thead th {\n",
       "        text-align: right;\n",
       "    }\n",
       "</style>\n",
       "<table border=\"1\" class=\"dataframe\">\n",
       "  <thead>\n",
       "    <tr style=\"text-align: right;\">\n",
       "      <th></th>\n",
       "      <th>cpu_util</th>\n",
       "      <th>date</th>\n",
       "    </tr>\n",
       "  </thead>\n",
       "  <tbody>\n",
       "    <tr>\n",
       "      <th>0</th>\n",
       "      <td>66.834766</td>\n",
       "      <td>2023-07-25 00:03:06.466</td>\n",
       "    </tr>\n",
       "    <tr>\n",
       "      <th>1</th>\n",
       "      <td>82.067813</td>\n",
       "      <td>2023-07-25 00:08:06.466</td>\n",
       "    </tr>\n",
       "    <tr>\n",
       "      <th>2</th>\n",
       "      <td>100.895190</td>\n",
       "      <td>2023-07-25 00:13:06.466</td>\n",
       "    </tr>\n",
       "    <tr>\n",
       "      <th>3</th>\n",
       "      <td>73.259342</td>\n",
       "      <td>2023-07-25 00:18:06.466</td>\n",
       "    </tr>\n",
       "    <tr>\n",
       "      <th>4</th>\n",
       "      <td>82.504274</td>\n",
       "      <td>2023-07-25 00:23:06.466</td>\n",
       "    </tr>\n",
       "    <tr>\n",
       "      <th>...</th>\n",
       "      <td>...</td>\n",
       "      <td>...</td>\n",
       "    </tr>\n",
       "    <tr>\n",
       "      <th>10363</th>\n",
       "      <td>28.858958</td>\n",
       "      <td>2023-08-29 23:38:07.394</td>\n",
       "    </tr>\n",
       "    <tr>\n",
       "      <th>10364</th>\n",
       "      <td>23.238560</td>\n",
       "      <td>2023-08-29 23:43:07.394</td>\n",
       "    </tr>\n",
       "    <tr>\n",
       "      <th>10365</th>\n",
       "      <td>53.869919</td>\n",
       "      <td>2023-08-29 23:48:07.394</td>\n",
       "    </tr>\n",
       "    <tr>\n",
       "      <th>10366</th>\n",
       "      <td>30.824553</td>\n",
       "      <td>2023-08-29 23:53:07.394</td>\n",
       "    </tr>\n",
       "    <tr>\n",
       "      <th>10367</th>\n",
       "      <td>37.018912</td>\n",
       "      <td>2023-08-29 23:58:07.394</td>\n",
       "    </tr>\n",
       "  </tbody>\n",
       "</table>\n",
       "<p>10368 rows × 2 columns</p>\n",
       "</div>"
      ],
      "text/plain": [
       "         cpu_util                    date\n",
       "0       66.834766 2023-07-25 00:03:06.466\n",
       "1       82.067813 2023-07-25 00:08:06.466\n",
       "2      100.895190 2023-07-25 00:13:06.466\n",
       "3       73.259342 2023-07-25 00:18:06.466\n",
       "4       82.504274 2023-07-25 00:23:06.466\n",
       "...           ...                     ...\n",
       "10363   28.858958 2023-08-29 23:38:07.394\n",
       "10364   23.238560 2023-08-29 23:43:07.394\n",
       "10365   53.869919 2023-08-29 23:48:07.394\n",
       "10366   30.824553 2023-08-29 23:53:07.394\n",
       "10367   37.018912 2023-08-29 23:58:07.394\n",
       "\n",
       "[10368 rows x 2 columns]"
      ]
     },
     "execution_count": 14,
     "metadata": {},
     "output_type": "execute_result"
    }
   ],
   "source": [
    "df_test"
   ]
  },
  {
   "cell_type": "code",
   "execution_count": 15,
   "metadata": {},
   "outputs": [],
   "source": [
    "#add lag\n",
    "for i in range(1, num_lags+1):\n",
    "    df_test['lag_{}'.format(i)] = df_test['cpu_util'].shift(i)\n",
    "    \n",
    "df_test = df_test.dropna()"
   ]
  },
  {
   "cell_type": "code",
   "execution_count": 16,
   "metadata": {},
   "outputs": [
    {
     "name": "stderr",
     "output_type": "stream",
     "text": [
      "C:\\Users\\HP\\AppData\\Local\\Temp\\ipykernel_4724\\1139415797.py:3: SettingWithCopyWarning: \n",
      "A value is trying to be set on a copy of a slice from a DataFrame.\n",
      "Try using .loc[row_indexer,col_indexer] = value instead\n",
      "\n",
      "See the caveats in the documentation: https://pandas.pydata.org/pandas-docs/stable/user_guide/indexing.html#returning-a-view-versus-a-copy\n",
      "  X_test['cpu_util'] = (X_test['cpu_util']/100).astype(float)\n",
      "C:\\Users\\HP\\AppData\\Local\\Temp\\ipykernel_4724\\1139415797.py:4: SettingWithCopyWarning: \n",
      "A value is trying to be set on a copy of a slice from a DataFrame.\n",
      "Try using .loc[row_indexer,col_indexer] = value instead\n",
      "\n",
      "See the caveats in the documentation: https://pandas.pydata.org/pandas-docs/stable/user_guide/indexing.html#returning-a-view-versus-a-copy\n",
      "  X_test['lag_1'] = (X_test['lag_1']/100).astype(float)\n",
      "C:\\Users\\HP\\AppData\\Local\\Temp\\ipykernel_4724\\1139415797.py:5: SettingWithCopyWarning: \n",
      "A value is trying to be set on a copy of a slice from a DataFrame.\n",
      "Try using .loc[row_indexer,col_indexer] = value instead\n",
      "\n",
      "See the caveats in the documentation: https://pandas.pydata.org/pandas-docs/stable/user_guide/indexing.html#returning-a-view-versus-a-copy\n",
      "  X_test['lag_2'] = (X_test['lag_2']/100).astype(float)\n"
     ]
    }
   ],
   "source": [
    "X_test = df_test[['cpu_util', 'lag_1', 'lag_2']]\n",
    "\n",
    "X_test['cpu_util'] = (X_test['cpu_util']/100).astype(float)\n",
    "X_test['lag_1'] = (X_test['lag_1']/100).astype(float)\n",
    "X_test['lag_2'] = (X_test['lag_2']/100).astype(float)\n",
    "\n",
    "X_test = np.array(X_test)"
   ]
  },
  {
   "cell_type": "code",
   "execution_count": 17,
   "metadata": {},
   "outputs": [
    {
     "name": "stdout",
     "output_type": "stream",
     "text": [
      "324/324 [==============================] - 0s 1ms/step\n"
     ]
    }
   ],
   "source": [
    "predict = model.predict(X_test)"
   ]
  },
  {
   "cell_type": "code",
   "execution_count": 18,
   "metadata": {},
   "outputs": [
    {
     "name": "stdout",
     "output_type": "stream",
     "text": [
      "[[9.7639060e-01]\n",
      " [9.2721704e-05]\n",
      " [7.1488786e-03]\n",
      " ...\n",
      " [9.1422385e-01]\n",
      " [1.4361446e-03]\n",
      " [1.2674793e-03]]\n",
      "10366\n"
     ]
    }
   ],
   "source": [
    "print(predict)\n",
    "print(len(predict))"
   ]
  },
  {
   "cell_type": "code",
   "execution_count": 19,
   "metadata": {},
   "outputs": [
    {
     "name": "stderr",
     "output_type": "stream",
     "text": [
      "C:\\Users\\HP\\AppData\\Local\\Temp\\ipykernel_4724\\3300978574.py:2: SettingWithCopyWarning: \n",
      "A value is trying to be set on a copy of a slice from a DataFrame.\n",
      "Try using .loc[row_indexer,col_indexer] = value instead\n",
      "\n",
      "See the caveats in the documentation: https://pandas.pydata.org/pandas-docs/stable/user_guide/indexing.html#returning-a-view-versus-a-copy\n",
      "  df_test['predict'] = predict\n"
     ]
    }
   ],
   "source": [
    "#add the prediction to the test data\n",
    "df_test['predict'] = predict\n"
   ]
  },
  {
   "cell_type": "code",
   "execution_count": 20,
   "metadata": {},
   "outputs": [
    {
     "name": "stderr",
     "output_type": "stream",
     "text": [
      "C:\\Users\\HP\\AppData\\Local\\Temp\\ipykernel_4724\\1053937000.py:1: SettingWithCopyWarning: \n",
      "A value is trying to be set on a copy of a slice from a DataFrame.\n",
      "Try using .loc[row_indexer,col_indexer] = value instead\n",
      "\n",
      "See the caveats in the documentation: https://pandas.pydata.org/pandas-docs/stable/user_guide/indexing.html#returning-a-view-versus-a-copy\n",
      "  df_test['predict'] = df_test['predict'].apply(lambda x: 1 if x > 0.5 else 0)\n"
     ]
    }
   ],
   "source": [
    "df_test['predict'] = df_test['predict'].apply(lambda x: 1 if x > 0.5 else 0)"
   ]
  },
  {
   "cell_type": "code",
   "execution_count": 21,
   "metadata": {},
   "outputs": [
    {
     "data": {
      "text/html": [
       "<div>\n",
       "<style scoped>\n",
       "    .dataframe tbody tr th:only-of-type {\n",
       "        vertical-align: middle;\n",
       "    }\n",
       "\n",
       "    .dataframe tbody tr th {\n",
       "        vertical-align: top;\n",
       "    }\n",
       "\n",
       "    .dataframe thead th {\n",
       "        text-align: right;\n",
       "    }\n",
       "</style>\n",
       "<table border=\"1\" class=\"dataframe\">\n",
       "  <thead>\n",
       "    <tr style=\"text-align: right;\">\n",
       "      <th></th>\n",
       "      <th>cpu_util</th>\n",
       "      <th>date</th>\n",
       "      <th>lag_1</th>\n",
       "      <th>lag_2</th>\n",
       "      <th>predict</th>\n",
       "    </tr>\n",
       "  </thead>\n",
       "  <tbody>\n",
       "    <tr>\n",
       "      <th>2</th>\n",
       "      <td>100.895190</td>\n",
       "      <td>2023-07-25 00:13:06.466</td>\n",
       "      <td>82.067813</td>\n",
       "      <td>66.834766</td>\n",
       "      <td>1</td>\n",
       "    </tr>\n",
       "    <tr>\n",
       "      <th>3</th>\n",
       "      <td>73.259342</td>\n",
       "      <td>2023-07-25 00:18:06.466</td>\n",
       "      <td>100.895190</td>\n",
       "      <td>82.067813</td>\n",
       "      <td>0</td>\n",
       "    </tr>\n",
       "    <tr>\n",
       "      <th>4</th>\n",
       "      <td>82.504274</td>\n",
       "      <td>2023-07-25 00:23:06.466</td>\n",
       "      <td>73.259342</td>\n",
       "      <td>100.895190</td>\n",
       "      <td>0</td>\n",
       "    </tr>\n",
       "    <tr>\n",
       "      <th>5</th>\n",
       "      <td>62.700953</td>\n",
       "      <td>2023-07-25 00:28:06.466</td>\n",
       "      <td>82.504274</td>\n",
       "      <td>73.259342</td>\n",
       "      <td>0</td>\n",
       "    </tr>\n",
       "    <tr>\n",
       "      <th>6</th>\n",
       "      <td>88.266038</td>\n",
       "      <td>2023-07-25 00:33:06.466</td>\n",
       "      <td>62.700953</td>\n",
       "      <td>82.504274</td>\n",
       "      <td>0</td>\n",
       "    </tr>\n",
       "    <tr>\n",
       "      <th>...</th>\n",
       "      <td>...</td>\n",
       "      <td>...</td>\n",
       "      <td>...</td>\n",
       "      <td>...</td>\n",
       "      <td>...</td>\n",
       "    </tr>\n",
       "    <tr>\n",
       "      <th>10363</th>\n",
       "      <td>28.858958</td>\n",
       "      <td>2023-08-29 23:38:07.394</td>\n",
       "      <td>31.093691</td>\n",
       "      <td>53.711871</td>\n",
       "      <td>0</td>\n",
       "    </tr>\n",
       "    <tr>\n",
       "      <th>10364</th>\n",
       "      <td>23.238560</td>\n",
       "      <td>2023-08-29 23:43:07.394</td>\n",
       "      <td>28.858958</td>\n",
       "      <td>31.093691</td>\n",
       "      <td>0</td>\n",
       "    </tr>\n",
       "    <tr>\n",
       "      <th>10365</th>\n",
       "      <td>53.869919</td>\n",
       "      <td>2023-08-29 23:48:07.394</td>\n",
       "      <td>23.238560</td>\n",
       "      <td>28.858958</td>\n",
       "      <td>1</td>\n",
       "    </tr>\n",
       "    <tr>\n",
       "      <th>10366</th>\n",
       "      <td>30.824553</td>\n",
       "      <td>2023-08-29 23:53:07.394</td>\n",
       "      <td>53.869919</td>\n",
       "      <td>23.238560</td>\n",
       "      <td>0</td>\n",
       "    </tr>\n",
       "    <tr>\n",
       "      <th>10367</th>\n",
       "      <td>37.018912</td>\n",
       "      <td>2023-08-29 23:58:07.394</td>\n",
       "      <td>30.824553</td>\n",
       "      <td>53.869919</td>\n",
       "      <td>0</td>\n",
       "    </tr>\n",
       "  </tbody>\n",
       "</table>\n",
       "<p>10366 rows × 5 columns</p>\n",
       "</div>"
      ],
      "text/plain": [
       "         cpu_util                    date       lag_1       lag_2  predict\n",
       "2      100.895190 2023-07-25 00:13:06.466   82.067813   66.834766        1\n",
       "3       73.259342 2023-07-25 00:18:06.466  100.895190   82.067813        0\n",
       "4       82.504274 2023-07-25 00:23:06.466   73.259342  100.895190        0\n",
       "5       62.700953 2023-07-25 00:28:06.466   82.504274   73.259342        0\n",
       "6       88.266038 2023-07-25 00:33:06.466   62.700953   82.504274        0\n",
       "...           ...                     ...         ...         ...      ...\n",
       "10363   28.858958 2023-08-29 23:38:07.394   31.093691   53.711871        0\n",
       "10364   23.238560 2023-08-29 23:43:07.394   28.858958   31.093691        0\n",
       "10365   53.869919 2023-08-29 23:48:07.394   23.238560   28.858958        1\n",
       "10366   30.824553 2023-08-29 23:53:07.394   53.869919   23.238560        0\n",
       "10367   37.018912 2023-08-29 23:58:07.394   30.824553   53.869919        0\n",
       "\n",
       "[10366 rows x 5 columns]"
      ]
     },
     "execution_count": 21,
     "metadata": {},
     "output_type": "execute_result"
    }
   ],
   "source": [
    "df_test"
   ]
  },
  {
   "cell_type": "code",
   "execution_count": 23,
   "metadata": {},
   "outputs": [
    {
     "data": {
      "image/png": "[encoded data removed]",
      "text/plain": [
       "<Figure size 2000x1000 with 1 Axes>"
      ]
     },
     "metadata": {},
     "output_type": "display_data"
    }
   ],
   "source": [
    "#scatter plot the prediction 1\n",
    "anomaly = df_test.iloc[np.where(df_test['predict'] == 1)]\n",
    "\n",
    "plt.figure(figsize=(20,10))\n",
    "plt.plot(df_test['date'], df_test['cpu_util'], color='green')\n",
    "plt.scatter(anomaly['date'], anomaly['cpu_util'], color='red')\n",
    "plt.xlabel('Date')\n",
    "plt.ylabel('CPU Utilization')\n",
    "plt.title('CPU Utilization Prediction')\n",
    "plt.show()\n",
    "\n"
   ]
  },
  {
   "cell_type": "code",
   "execution_count": 24,
   "metadata": {},
   "outputs": [
    {
     "name": "stderr",
     "output_type": "stream",
     "text": [
      "c:\\Users\\HP\\AppData\\Local\\Programs\\Python\\Python310\\lib\\site-packages\\keras\\src\\engine\\training.py:3103: UserWarning: You are saving your model as an HDF5 file via `model.save()`. This file format is considered legacy. We recommend using instead the native Keras format, e.g. `model.save('my_model.keras')`.\n",
      "  saving_api.save_model(\n"
     ]
    }
   ],
   "source": [
    "model.save('nn_with_2gap_v3.h5')"
   ]
  },
  {
   "cell_type": "code",
   "execution_count": null,
   "metadata": {},
   "outputs": [],
   "source": []
  }
 ],
 "metadata": {
  "kernelspec": {
   "display_name": "Python 3",
   "language": "python",
   "name": "python3"
  },
  "language_info": {
   "codemirror_mode": {
    "name": "ipython",
    "version": 3
   },
   "file_extension": ".py",
   "mimetype": "text/x-python",
   "name": "python",
   "nbconvert_exporter": "python",
   "pygments_lexer": "ipython3",
   "version": "3.10.7"
  }
 },
 "nbformat": 4,
 "nbformat_minor": 2
}
