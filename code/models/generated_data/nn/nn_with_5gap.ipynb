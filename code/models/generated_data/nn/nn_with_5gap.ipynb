{
 "cells": [
  {
   "cell_type": "code",
   "execution_count": 1,
   "metadata": {},
   "outputs": [
    {
     "name": "stdout",
     "output_type": "stream",
     "text": [
      "WARNING:tensorflow:From c:\\Users\\HP\\AppData\\Local\\Programs\\Python\\Python310\\lib\\site-packages\\keras\\src\\losses.py:2976: The name tf.losses.sparse_softmax_cross_entropy is deprecated. Please use tf.compat.v1.losses.sparse_softmax_cross_entropy instead.\n",
      "\n"
     ]
    }
   ],
   "source": [
    "#neural network model\n",
    "\n",
    "import numpy as np\n",
    "import pandas as pd\n",
    "import matplotlib.pyplot as plt\n",
    "import seaborn as sns\n",
    "import tensorflow as tf\n",
    "from sklearn.preprocessing import StandardScaler\n"
   ]
  },
  {
   "cell_type": "code",
   "execution_count": 2,
   "metadata": {},
   "outputs": [],
   "source": [
    "df = pd.read_csv('../generated_cpu_data_with_anomaly.csv')\n",
    "df['date'] = pd.to_datetime(df['date'])"
   ]
  },
  {
   "cell_type": "code",
   "execution_count": 3,
   "metadata": {},
   "outputs": [
    {
     "data": {
      "text/html": [
       "<div>\n",
       "<style scoped>\n",
       "    .dataframe tbody tr th:only-of-type {\n",
       "        vertical-align: middle;\n",
       "    }\n",
       "\n",
       "    .dataframe tbody tr th {\n",
       "        vertical-align: top;\n",
       "    }\n",
       "\n",
       "    .dataframe thead th {\n",
       "        text-align: right;\n",
       "    }\n",
       "</style>\n",
       "<table border=\"1\" class=\"dataframe\">\n",
       "  <thead>\n",
       "    <tr style=\"text-align: right;\">\n",
       "      <th></th>\n",
       "      <th>cpu_util</th>\n",
       "      <th>date</th>\n",
       "      <th>anomaly</th>\n",
       "    </tr>\n",
       "  </thead>\n",
       "  <tbody>\n",
       "    <tr>\n",
       "      <th>0</th>\n",
       "      <td>89.447320</td>\n",
       "      <td>2023-06-25 00:03:05.640</td>\n",
       "      <td>1</td>\n",
       "    </tr>\n",
       "    <tr>\n",
       "      <th>1</th>\n",
       "      <td>57.320538</td>\n",
       "      <td>2023-06-25 00:08:05.640</td>\n",
       "      <td>0</td>\n",
       "    </tr>\n",
       "    <tr>\n",
       "      <th>2</th>\n",
       "      <td>87.058688</td>\n",
       "      <td>2023-06-25 00:13:05.640</td>\n",
       "      <td>1</td>\n",
       "    </tr>\n",
       "    <tr>\n",
       "      <th>3</th>\n",
       "      <td>87.409467</td>\n",
       "      <td>2023-06-25 00:18:05.640</td>\n",
       "      <td>1</td>\n",
       "    </tr>\n",
       "    <tr>\n",
       "      <th>4</th>\n",
       "      <td>78.111494</td>\n",
       "      <td>2023-06-25 00:23:05.640</td>\n",
       "      <td>1</td>\n",
       "    </tr>\n",
       "    <tr>\n",
       "      <th>...</th>\n",
       "      <td>...</td>\n",
       "      <td>...</td>\n",
       "      <td>...</td>\n",
       "    </tr>\n",
       "    <tr>\n",
       "      <th>8635</th>\n",
       "      <td>2.692620</td>\n",
       "      <td>2023-07-24 23:38:06.441</td>\n",
       "      <td>0</td>\n",
       "    </tr>\n",
       "    <tr>\n",
       "      <th>8636</th>\n",
       "      <td>30.604348</td>\n",
       "      <td>2023-07-24 23:43:06.441</td>\n",
       "      <td>1</td>\n",
       "    </tr>\n",
       "    <tr>\n",
       "      <th>8637</th>\n",
       "      <td>14.278655</td>\n",
       "      <td>2023-07-24 23:48:06.441</td>\n",
       "      <td>0</td>\n",
       "    </tr>\n",
       "    <tr>\n",
       "      <th>8638</th>\n",
       "      <td>35.247145</td>\n",
       "      <td>2023-07-24 23:53:06.441</td>\n",
       "      <td>1</td>\n",
       "    </tr>\n",
       "    <tr>\n",
       "      <th>8639</th>\n",
       "      <td>6.065125</td>\n",
       "      <td>2023-07-24 23:58:06.441</td>\n",
       "      <td>0</td>\n",
       "    </tr>\n",
       "  </tbody>\n",
       "</table>\n",
       "<p>8640 rows × 3 columns</p>\n",
       "</div>"
      ],
      "text/plain": [
       "       cpu_util                    date  anomaly\n",
       "0     89.447320 2023-06-25 00:03:05.640        1\n",
       "1     57.320538 2023-06-25 00:08:05.640        0\n",
       "2     87.058688 2023-06-25 00:13:05.640        1\n",
       "3     87.409467 2023-06-25 00:18:05.640        1\n",
       "4     78.111494 2023-06-25 00:23:05.640        1\n",
       "...         ...                     ...      ...\n",
       "8635   2.692620 2023-07-24 23:38:06.441        0\n",
       "8636  30.604348 2023-07-24 23:43:06.441        1\n",
       "8637  14.278655 2023-07-24 23:48:06.441        0\n",
       "8638  35.247145 2023-07-24 23:53:06.441        1\n",
       "8639   6.065125 2023-07-24 23:58:06.441        0\n",
       "\n",
       "[8640 rows x 3 columns]"
      ]
     },
     "execution_count": 3,
     "metadata": {},
     "output_type": "execute_result"
    }
   ],
   "source": [
    "df"
   ]
  },
  {
   "cell_type": "code",
   "execution_count": 4,
   "metadata": {},
   "outputs": [],
   "source": [
    "num_lags = 5\n",
    "\n",
    "#add lag\n",
    "for i in range(1, num_lags+1):\n",
    "    df['lag_{}'.format(i)] = df['cpu_util'].shift(i)\n",
    "  \n",
    "df = df.dropna()"
   ]
  },
  {
   "cell_type": "code",
   "execution_count": 5,
   "metadata": {},
   "outputs": [
    {
     "data": {
      "text/html": [
       "<div>\n",
       "<style scoped>\n",
       "    .dataframe tbody tr th:only-of-type {\n",
       "        vertical-align: middle;\n",
       "    }\n",
       "\n",
       "    .dataframe tbody tr th {\n",
       "        vertical-align: top;\n",
       "    }\n",
       "\n",
       "    .dataframe thead th {\n",
       "        text-align: right;\n",
       "    }\n",
       "</style>\n",
       "<table border=\"1\" class=\"dataframe\">\n",
       "  <thead>\n",
       "    <tr style=\"text-align: right;\">\n",
       "      <th></th>\n",
       "      <th>cpu_util</th>\n",
       "      <th>date</th>\n",
       "      <th>anomaly</th>\n",
       "      <th>lag_1</th>\n",
       "      <th>lag_2</th>\n",
       "      <th>lag_3</th>\n",
       "      <th>lag_4</th>\n",
       "      <th>lag_5</th>\n",
       "    </tr>\n",
       "  </thead>\n",
       "  <tbody>\n",
       "    <tr>\n",
       "      <th>5</th>\n",
       "      <td>65.111306</td>\n",
       "      <td>2023-06-25 00:28:05.640</td>\n",
       "      <td>0</td>\n",
       "      <td>78.111494</td>\n",
       "      <td>87.409467</td>\n",
       "      <td>87.058688</td>\n",
       "      <td>57.320538</td>\n",
       "      <td>89.447320</td>\n",
       "    </tr>\n",
       "    <tr>\n",
       "      <th>6</th>\n",
       "      <td>94.526610</td>\n",
       "      <td>2023-06-25 00:33:05.640</td>\n",
       "      <td>1</td>\n",
       "      <td>65.111306</td>\n",
       "      <td>78.111494</td>\n",
       "      <td>87.409467</td>\n",
       "      <td>87.058688</td>\n",
       "      <td>57.320538</td>\n",
       "    </tr>\n",
       "    <tr>\n",
       "      <th>7</th>\n",
       "      <td>82.007848</td>\n",
       "      <td>2023-06-25 00:38:05.640</td>\n",
       "      <td>1</td>\n",
       "      <td>94.526610</td>\n",
       "      <td>65.111306</td>\n",
       "      <td>78.111494</td>\n",
       "      <td>87.409467</td>\n",
       "      <td>87.058688</td>\n",
       "    </tr>\n",
       "    <tr>\n",
       "      <th>8</th>\n",
       "      <td>79.773427</td>\n",
       "      <td>2023-06-25 00:43:05.640</td>\n",
       "      <td>1</td>\n",
       "      <td>82.007848</td>\n",
       "      <td>94.526610</td>\n",
       "      <td>65.111306</td>\n",
       "      <td>78.111494</td>\n",
       "      <td>87.409467</td>\n",
       "    </tr>\n",
       "    <tr>\n",
       "      <th>9</th>\n",
       "      <td>74.058017</td>\n",
       "      <td>2023-06-25 00:48:05.640</td>\n",
       "      <td>1</td>\n",
       "      <td>79.773427</td>\n",
       "      <td>82.007848</td>\n",
       "      <td>94.526610</td>\n",
       "      <td>65.111306</td>\n",
       "      <td>78.111494</td>\n",
       "    </tr>\n",
       "    <tr>\n",
       "      <th>...</th>\n",
       "      <td>...</td>\n",
       "      <td>...</td>\n",
       "      <td>...</td>\n",
       "      <td>...</td>\n",
       "      <td>...</td>\n",
       "      <td>...</td>\n",
       "      <td>...</td>\n",
       "      <td>...</td>\n",
       "    </tr>\n",
       "    <tr>\n",
       "      <th>8635</th>\n",
       "      <td>2.692620</td>\n",
       "      <td>2023-07-24 23:38:06.441</td>\n",
       "      <td>0</td>\n",
       "      <td>16.306464</td>\n",
       "      <td>30.297529</td>\n",
       "      <td>8.752093</td>\n",
       "      <td>6.537829</td>\n",
       "      <td>28.162398</td>\n",
       "    </tr>\n",
       "    <tr>\n",
       "      <th>8636</th>\n",
       "      <td>30.604348</td>\n",
       "      <td>2023-07-24 23:43:06.441</td>\n",
       "      <td>1</td>\n",
       "      <td>2.692620</td>\n",
       "      <td>16.306464</td>\n",
       "      <td>30.297529</td>\n",
       "      <td>8.752093</td>\n",
       "      <td>6.537829</td>\n",
       "    </tr>\n",
       "    <tr>\n",
       "      <th>8637</th>\n",
       "      <td>14.278655</td>\n",
       "      <td>2023-07-24 23:48:06.441</td>\n",
       "      <td>0</td>\n",
       "      <td>30.604348</td>\n",
       "      <td>2.692620</td>\n",
       "      <td>16.306464</td>\n",
       "      <td>30.297529</td>\n",
       "      <td>8.752093</td>\n",
       "    </tr>\n",
       "    <tr>\n",
       "      <th>8638</th>\n",
       "      <td>35.247145</td>\n",
       "      <td>2023-07-24 23:53:06.441</td>\n",
       "      <td>1</td>\n",
       "      <td>14.278655</td>\n",
       "      <td>30.604348</td>\n",
       "      <td>2.692620</td>\n",
       "      <td>16.306464</td>\n",
       "      <td>30.297529</td>\n",
       "    </tr>\n",
       "    <tr>\n",
       "      <th>8639</th>\n",
       "      <td>6.065125</td>\n",
       "      <td>2023-07-24 23:58:06.441</td>\n",
       "      <td>0</td>\n",
       "      <td>35.247145</td>\n",
       "      <td>14.278655</td>\n",
       "      <td>30.604348</td>\n",
       "      <td>2.692620</td>\n",
       "      <td>16.306464</td>\n",
       "    </tr>\n",
       "  </tbody>\n",
       "</table>\n",
       "<p>8635 rows × 8 columns</p>\n",
       "</div>"
      ],
      "text/plain": [
       "       cpu_util                    date  anomaly      lag_1      lag_2  \\\n",
       "5     65.111306 2023-06-25 00:28:05.640        0  78.111494  87.409467   \n",
       "6     94.526610 2023-06-25 00:33:05.640        1  65.111306  78.111494   \n",
       "7     82.007848 2023-06-25 00:38:05.640        1  94.526610  65.111306   \n",
       "8     79.773427 2023-06-25 00:43:05.640        1  82.007848  94.526610   \n",
       "9     74.058017 2023-06-25 00:48:05.640        1  79.773427  82.007848   \n",
       "...         ...                     ...      ...        ...        ...   \n",
       "8635   2.692620 2023-07-24 23:38:06.441        0  16.306464  30.297529   \n",
       "8636  30.604348 2023-07-24 23:43:06.441        1   2.692620  16.306464   \n",
       "8637  14.278655 2023-07-24 23:48:06.441        0  30.604348   2.692620   \n",
       "8638  35.247145 2023-07-24 23:53:06.441        1  14.278655  30.604348   \n",
       "8639   6.065125 2023-07-24 23:58:06.441        0  35.247145  14.278655   \n",
       "\n",
       "          lag_3      lag_4      lag_5  \n",
       "5     87.058688  57.320538  89.447320  \n",
       "6     87.409467  87.058688  57.320538  \n",
       "7     78.111494  87.409467  87.058688  \n",
       "8     65.111306  78.111494  87.409467  \n",
       "9     94.526610  65.111306  78.111494  \n",
       "...         ...        ...        ...  \n",
       "8635   8.752093   6.537829  28.162398  \n",
       "8636  30.297529   8.752093   6.537829  \n",
       "8637  16.306464  30.297529   8.752093  \n",
       "8638   2.692620  16.306464  30.297529  \n",
       "8639  30.604348   2.692620  16.306464  \n",
       "\n",
       "[8635 rows x 8 columns]"
      ]
     },
     "execution_count": 5,
     "metadata": {},
     "output_type": "execute_result"
    }
   ],
   "source": [
    "df"
   ]
  },
  {
   "cell_type": "code",
   "execution_count": 8,
   "metadata": {},
   "outputs": [],
   "source": [
    "X = df[['cpu_util', 'lag_1', 'lag_2', 'lag_3', 'lag_4', 'lag_5']]\n",
    "y = df['anomaly']"
   ]
  },
  {
   "cell_type": "code",
   "execution_count": 9,
   "metadata": {},
   "outputs": [
    {
     "name": "stderr",
     "output_type": "stream",
     "text": [
      "C:\\Users\\HP\\AppData\\Local\\Temp\\ipykernel_5588\\2458381296.py:1: SettingWithCopyWarning: \n",
      "A value is trying to be set on a copy of a slice from a DataFrame.\n",
      "Try using .loc[row_indexer,col_indexer] = value instead\n",
      "\n",
      "See the caveats in the documentation: https://pandas.pydata.org/pandas-docs/stable/user_guide/indexing.html#returning-a-view-versus-a-copy\n",
      "  X['cpu_util'] = (X['cpu_util']/100).astype(float)\n",
      "C:\\Users\\HP\\AppData\\Local\\Temp\\ipykernel_5588\\2458381296.py:2: SettingWithCopyWarning: \n",
      "A value is trying to be set on a copy of a slice from a DataFrame.\n",
      "Try using .loc[row_indexer,col_indexer] = value instead\n",
      "\n",
      "See the caveats in the documentation: https://pandas.pydata.org/pandas-docs/stable/user_guide/indexing.html#returning-a-view-versus-a-copy\n",
      "  X['lag_1'] = (X['lag_1']/100).astype(float)\n",
      "C:\\Users\\HP\\AppData\\Local\\Temp\\ipykernel_5588\\2458381296.py:3: SettingWithCopyWarning: \n",
      "A value is trying to be set on a copy of a slice from a DataFrame.\n",
      "Try using .loc[row_indexer,col_indexer] = value instead\n",
      "\n",
      "See the caveats in the documentation: https://pandas.pydata.org/pandas-docs/stable/user_guide/indexing.html#returning-a-view-versus-a-copy\n",
      "  X['lag_2'] = (X['lag_2']/100).astype(float)\n",
      "C:\\Users\\HP\\AppData\\Local\\Temp\\ipykernel_5588\\2458381296.py:4: SettingWithCopyWarning: \n",
      "A value is trying to be set on a copy of a slice from a DataFrame.\n",
      "Try using .loc[row_indexer,col_indexer] = value instead\n",
      "\n",
      "See the caveats in the documentation: https://pandas.pydata.org/pandas-docs/stable/user_guide/indexing.html#returning-a-view-versus-a-copy\n",
      "  X['lag_3'] = (X['lag_3']/100).astype(float)\n",
      "C:\\Users\\HP\\AppData\\Local\\Temp\\ipykernel_5588\\2458381296.py:5: SettingWithCopyWarning: \n",
      "A value is trying to be set on a copy of a slice from a DataFrame.\n",
      "Try using .loc[row_indexer,col_indexer] = value instead\n",
      "\n",
      "See the caveats in the documentation: https://pandas.pydata.org/pandas-docs/stable/user_guide/indexing.html#returning-a-view-versus-a-copy\n",
      "  X['lag_4'] = (X['lag_4']/100).astype(float)\n",
      "C:\\Users\\HP\\AppData\\Local\\Temp\\ipykernel_5588\\2458381296.py:6: SettingWithCopyWarning: \n",
      "A value is trying to be set on a copy of a slice from a DataFrame.\n",
      "Try using .loc[row_indexer,col_indexer] = value instead\n",
      "\n",
      "See the caveats in the documentation: https://pandas.pydata.org/pandas-docs/stable/user_guide/indexing.html#returning-a-view-versus-a-copy\n",
      "  X['lag_5'] = (X['lag_5']/100).astype(float)\n"
     ]
    }
   ],
   "source": [
    "X['cpu_util'] = (X['cpu_util']/100).astype(float)\n",
    "X['lag_1'] = (X['lag_1']/100).astype(float)\n",
    "X['lag_2'] = (X['lag_2']/100).astype(float)\n",
    "X['lag_3'] = (X['lag_3']/100).astype(float)\n",
    "X['lag_4'] = (X['lag_4']/100).astype(float)\n",
    "X['lag_5'] = (X['lag_5']/100).astype(float)"
   ]
  },
  {
   "cell_type": "code",
   "execution_count": 10,
   "metadata": {},
   "outputs": [
    {
     "name": "stderr",
     "output_type": "stream",
     "text": [
      "C:\\Users\\HP\\AppData\\Local\\Temp\\ipykernel_5588\\3789776307.py:3: FutureWarning: The behavior of `series[i:j]` with an integer-dtype index is deprecated. In a future version, this will be treated as *label-based* indexing, consistent with e.g. `series[i]` lookups. To retain the old behavior, use `series.iloc[i:j]`. To get the future behavior, use `series.loc[i:j]`.\n",
      "  y_train = y[:int(0.7*len(y))]\n",
      "C:\\Users\\HP\\AppData\\Local\\Temp\\ipykernel_5588\\3789776307.py:4: FutureWarning: The behavior of `series[i:j]` with an integer-dtype index is deprecated. In a future version, this will be treated as *label-based* indexing, consistent with e.g. `series[i]` lookups. To retain the old behavior, use `series.iloc[i:j]`. To get the future behavior, use `series.loc[i:j]`.\n",
      "  y_test = y[int(0.7*len(y)):]\n"
     ]
    }
   ],
   "source": [
    "X_train = X[:int(0.7*len(X))]\n",
    "X_test = X[int(0.7*len(X)):]\n",
    "y_train = y[:int(0.7*len(y))]\n",
    "y_test = y[int(0.7*len(y)):]\n",
    "\n",
    "X_train = np.array(X_train)\n",
    "X_test = np.array(X_test)\n",
    "y_train = np.array(y_train)\n",
    "y_test = np.array(y_test)"
   ]
  },
  {
   "cell_type": "code",
   "execution_count": 14,
   "metadata": {},
   "outputs": [],
   "source": [
    "model = tf.keras.models.Sequential([\n",
    "    tf.keras.layers.LSTM(64, input_shape=(6, 1), return_sequences=True),\n",
    "    tf.keras.layers.LSTM(32),\n",
    "    tf.keras.layers.Dense(1, activation='sigmoid')\n",
    "])"
   ]
  },
  {
   "cell_type": "code",
   "execution_count": 15,
   "metadata": {},
   "outputs": [],
   "source": [
    "model.compile(optimizer='adam', loss='binary_crossentropy', metrics=['accuracy'])\n"
   ]
  },
  {
   "cell_type": "code",
   "execution_count": 16,
   "metadata": {},
   "outputs": [
    {
     "name": "stdout",
     "output_type": "stream",
     "text": [
      "Epoch 1/20\n",
      "WARNING:tensorflow:From c:\\Users\\HP\\AppData\\Local\\Programs\\Python\\Python310\\lib\\site-packages\\keras\\src\\utils\\tf_utils.py:492: The name tf.ragged.RaggedTensorValue is deprecated. Please use tf.compat.v1.ragged.RaggedTensorValue instead.\n",
      "\n",
      "WARNING:tensorflow:From c:\\Users\\HP\\AppData\\Local\\Programs\\Python\\Python310\\lib\\site-packages\\keras\\src\\engine\\base_layer_utils.py:384: The name tf.executing_eagerly_outside_functions is deprecated. Please use tf.compat.v1.executing_eagerly_outside_functions instead.\n",
      "\n",
      "189/189 [==============================] - 8s 18ms/step - loss: 0.2990 - accuracy: 0.9308 - val_loss: 0.2081 - val_accuracy: 0.9475\n",
      "Epoch 2/20\n",
      "189/189 [==============================] - 2s 10ms/step - loss: 0.2453 - accuracy: 0.9308 - val_loss: 0.1988 - val_accuracy: 0.9475\n",
      "Epoch 3/20\n",
      "189/189 [==============================] - 2s 9ms/step - loss: 0.2418 - accuracy: 0.9308 - val_loss: 0.1948 - val_accuracy: 0.9475\n",
      "Epoch 4/20\n",
      "189/189 [==============================] - 2s 9ms/step - loss: 0.2361 - accuracy: 0.9308 - val_loss: 0.1899 - val_accuracy: 0.9475\n",
      "Epoch 5/20\n",
      "189/189 [==============================] - 2s 9ms/step - loss: 0.2328 - accuracy: 0.9308 - val_loss: 0.1876 - val_accuracy: 0.9475\n",
      "Epoch 6/20\n",
      "189/189 [==============================] - 2s 9ms/step - loss: 0.2277 - accuracy: 0.9308 - val_loss: 0.1787 - val_accuracy: 0.9475\n",
      "Epoch 7/20\n",
      "189/189 [==============================] - 2s 8ms/step - loss: 0.2228 - accuracy: 0.9308 - val_loss: 0.1695 - val_accuracy: 0.9475\n",
      "Epoch 8/20\n",
      "189/189 [==============================] - 2s 8ms/step - loss: 0.2171 - accuracy: 0.9308 - val_loss: 0.1943 - val_accuracy: 0.9475\n",
      "Epoch 9/20\n",
      "189/189 [==============================] - 2s 9ms/step - loss: 0.2108 - accuracy: 0.9308 - val_loss: 0.1574 - val_accuracy: 0.9475\n",
      "Epoch 10/20\n",
      "189/189 [==============================] - 2s 9ms/step - loss: 0.2066 - accuracy: 0.9308 - val_loss: 0.1586 - val_accuracy: 0.9475\n",
      "Epoch 11/20\n",
      "189/189 [==============================] - 2s 9ms/step - loss: 0.1979 - accuracy: 0.9308 - val_loss: 0.1475 - val_accuracy: 0.9475\n",
      "Epoch 12/20\n",
      "189/189 [==============================] - 2s 9ms/step - loss: 0.1940 - accuracy: 0.9308 - val_loss: 0.1494 - val_accuracy: 0.9475\n",
      "Epoch 13/20\n",
      "189/189 [==============================] - 2s 9ms/step - loss: 0.1852 - accuracy: 0.9317 - val_loss: 0.1297 - val_accuracy: 0.9475\n",
      "Epoch 14/20\n",
      "189/189 [==============================] - 2s 9ms/step - loss: 0.1845 - accuracy: 0.9323 - val_loss: 0.1449 - val_accuracy: 0.9479\n",
      "Epoch 15/20\n",
      "189/189 [==============================] - 2s 9ms/step - loss: 0.1913 - accuracy: 0.9325 - val_loss: 0.1348 - val_accuracy: 0.9483\n",
      "Epoch 16/20\n",
      "189/189 [==============================] - 2s 9ms/step - loss: 0.1807 - accuracy: 0.9327 - val_loss: 0.1247 - val_accuracy: 0.9479\n",
      "Epoch 17/20\n",
      "189/189 [==============================] - 2s 9ms/step - loss: 0.1754 - accuracy: 0.9332 - val_loss: 0.1269 - val_accuracy: 0.9487\n",
      "Epoch 18/20\n",
      "189/189 [==============================] - 2s 9ms/step - loss: 0.1770 - accuracy: 0.9341 - val_loss: 0.1270 - val_accuracy: 0.9487\n",
      "Epoch 19/20\n",
      "189/189 [==============================] - 2s 9ms/step - loss: 0.1739 - accuracy: 0.9353 - val_loss: 0.1285 - val_accuracy: 0.9487\n",
      "Epoch 20/20\n",
      "189/189 [==============================] - 2s 9ms/step - loss: 0.1775 - accuracy: 0.9361 - val_loss: 0.1243 - val_accuracy: 0.9498\n"
     ]
    },
    {
     "data": {
      "text/plain": [
       "<keras.src.callbacks.History at 0x18182aeeb30>"
      ]
     },
     "execution_count": 16,
     "metadata": {},
     "output_type": "execute_result"
    }
   ],
   "source": [
    "model.fit(X_train, y_train, epochs=20, batch_size=32, validation_data=(X_test, y_test))\n"
   ]
  },
  {
   "cell_type": "code",
   "execution_count": 23,
   "metadata": {},
   "outputs": [],
   "source": [
    "model2 = tf.keras.models.Sequential([\n",
    "    tf.keras.layers.Dense(64, activation='relu'),\n",
    "    tf.keras.layers.Dense(32, activation='relu'),\n",
    "    tf.keras.layers.Dense(1, activation='sigmoid')\n",
    "])"
   ]
  },
  {
   "cell_type": "code",
   "execution_count": 24,
   "metadata": {},
   "outputs": [],
   "source": [
    "model2.compile(optimizer='adam', loss='binary_crossentropy', metrics=['accuracy'])"
   ]
  },
  {
   "cell_type": "code",
   "execution_count": 25,
   "metadata": {},
   "outputs": [
    {
     "name": "stdout",
     "output_type": "stream",
     "text": [
      "Epoch 1/20\n",
      "189/189 [==============================] - 1s 3ms/step - loss: 0.3643 - accuracy: 0.8896 - val_loss: 0.2241 - val_accuracy: 0.9475\n",
      "Epoch 2/20\n",
      "189/189 [==============================] - 0s 2ms/step - loss: 0.2266 - accuracy: 0.9308 - val_loss: 0.1673 - val_accuracy: 0.9475\n",
      "Epoch 3/20\n",
      "189/189 [==============================] - 0s 3ms/step - loss: 0.1967 - accuracy: 0.9333 - val_loss: 0.1525 - val_accuracy: 0.9502\n",
      "Epoch 4/20\n",
      "189/189 [==============================] - 1s 3ms/step - loss: 0.1837 - accuracy: 0.9371 - val_loss: 0.1343 - val_accuracy: 0.9494\n",
      "Epoch 5/20\n",
      "189/189 [==============================] - 0s 2ms/step - loss: 0.1727 - accuracy: 0.9375 - val_loss: 0.1330 - val_accuracy: 0.9487\n",
      "Epoch 6/20\n",
      "189/189 [==============================] - 0s 2ms/step - loss: 0.1674 - accuracy: 0.9378 - val_loss: 0.1263 - val_accuracy: 0.9506\n",
      "Epoch 7/20\n",
      "189/189 [==============================] - 0s 2ms/step - loss: 0.1677 - accuracy: 0.9380 - val_loss: 0.1185 - val_accuracy: 0.9498\n",
      "Epoch 8/20\n",
      "189/189 [==============================] - 0s 2ms/step - loss: 0.1667 - accuracy: 0.9391 - val_loss: 0.1196 - val_accuracy: 0.9510\n",
      "Epoch 9/20\n",
      "189/189 [==============================] - 0s 2ms/step - loss: 0.1637 - accuracy: 0.9383 - val_loss: 0.1172 - val_accuracy: 0.9514\n",
      "Epoch 10/20\n",
      "189/189 [==============================] - 0s 2ms/step - loss: 0.1641 - accuracy: 0.9401 - val_loss: 0.1150 - val_accuracy: 0.9525\n",
      "Epoch 11/20\n",
      "189/189 [==============================] - 0s 2ms/step - loss: 0.1625 - accuracy: 0.9401 - val_loss: 0.1135 - val_accuracy: 0.9529\n",
      "Epoch 12/20\n",
      "189/189 [==============================] - 0s 2ms/step - loss: 0.1646 - accuracy: 0.9386 - val_loss: 0.1197 - val_accuracy: 0.9518\n",
      "Epoch 13/20\n",
      "189/189 [==============================] - 0s 2ms/step - loss: 0.1613 - accuracy: 0.9393 - val_loss: 0.1124 - val_accuracy: 0.9552\n",
      "Epoch 14/20\n",
      "189/189 [==============================] - 0s 2ms/step - loss: 0.1621 - accuracy: 0.9399 - val_loss: 0.1141 - val_accuracy: 0.9548\n",
      "Epoch 15/20\n",
      "189/189 [==============================] - 0s 2ms/step - loss: 0.1614 - accuracy: 0.9394 - val_loss: 0.1141 - val_accuracy: 0.9518\n",
      "Epoch 16/20\n",
      "189/189 [==============================] - 0s 2ms/step - loss: 0.1617 - accuracy: 0.9389 - val_loss: 0.1106 - val_accuracy: 0.9556\n",
      "Epoch 17/20\n",
      "189/189 [==============================] - 0s 2ms/step - loss: 0.1605 - accuracy: 0.9389 - val_loss: 0.1114 - val_accuracy: 0.9533\n",
      "Epoch 18/20\n",
      "189/189 [==============================] - 0s 2ms/step - loss: 0.1601 - accuracy: 0.9394 - val_loss: 0.1104 - val_accuracy: 0.9556\n",
      "Epoch 19/20\n",
      "189/189 [==============================] - 0s 2ms/step - loss: 0.1584 - accuracy: 0.9416 - val_loss: 0.1079 - val_accuracy: 0.9556\n",
      "Epoch 20/20\n",
      "189/189 [==============================] - 0s 2ms/step - loss: 0.1583 - accuracy: 0.9383 - val_loss: 0.1077 - val_accuracy: 0.9568\n"
     ]
    },
    {
     "data": {
      "text/plain": [
       "<keras.src.callbacks.History at 0x18189cea6e0>"
      ]
     },
     "execution_count": 25,
     "metadata": {},
     "output_type": "execute_result"
    }
   ],
   "source": [
    "model2.fit(X_train, y_train, epochs=20,  validation_data=(X_test, y_test))"
   ]
  },
  {
   "cell_type": "code",
   "execution_count": 31,
   "metadata": {},
   "outputs": [
    {
     "name": "stdout",
     "output_type": "stream",
     "text": [
      "1/1 [==============================] - 0s 48ms/step\n"
     ]
    },
    {
     "data": {
      "text/plain": [
       "array([[0.5076948]], dtype=float32)"
      ]
     },
     "execution_count": 31,
     "metadata": {},
     "output_type": "execute_result"
    }
   ],
   "source": [
    "model.predict([[0.623, 0.2, 0.2, 0.4, 0.4, 0.3]])"
   ]
  },
  {
   "cell_type": "code",
   "execution_count": 32,
   "metadata": {},
   "outputs": [],
   "source": [
    "#get the test data\n",
    "df_test = pd.read_csv('../generated_cpu_data_test_2.csv')"
   ]
  },
  {
   "cell_type": "code",
   "execution_count": 33,
   "metadata": {},
   "outputs": [],
   "source": [
    "df_test['date'] = pd.to_datetime(df_test['date'])"
   ]
  },
  {
   "cell_type": "code",
   "execution_count": 34,
   "metadata": {},
   "outputs": [],
   "source": [
    "num_lags = 5\n",
    "\n",
    "#add lag\n",
    "for i in range(1, num_lags+1):\n",
    "    df_test['lag_{}'.format(i)] = df_test['cpu_util'].shift(i)\n",
    "  \n",
    "df_test = df_test.dropna()"
   ]
  },
  {
   "cell_type": "code",
   "execution_count": 35,
   "metadata": {},
   "outputs": [
    {
     "data": {
      "text/html": [
       "<div>\n",
       "<style scoped>\n",
       "    .dataframe tbody tr th:only-of-type {\n",
       "        vertical-align: middle;\n",
       "    }\n",
       "\n",
       "    .dataframe tbody tr th {\n",
       "        vertical-align: top;\n",
       "    }\n",
       "\n",
       "    .dataframe thead th {\n",
       "        text-align: right;\n",
       "    }\n",
       "</style>\n",
       "<table border=\"1\" class=\"dataframe\">\n",
       "  <thead>\n",
       "    <tr style=\"text-align: right;\">\n",
       "      <th></th>\n",
       "      <th>cpu_util</th>\n",
       "      <th>date</th>\n",
       "      <th>lag_1</th>\n",
       "      <th>lag_2</th>\n",
       "      <th>lag_3</th>\n",
       "      <th>lag_4</th>\n",
       "      <th>lag_5</th>\n",
       "    </tr>\n",
       "  </thead>\n",
       "  <tbody>\n",
       "    <tr>\n",
       "      <th>5</th>\n",
       "      <td>62.700953</td>\n",
       "      <td>2023-07-25 00:28:06.466</td>\n",
       "      <td>82.504274</td>\n",
       "      <td>73.259342</td>\n",
       "      <td>100.895190</td>\n",
       "      <td>82.067813</td>\n",
       "      <td>66.834766</td>\n",
       "    </tr>\n",
       "    <tr>\n",
       "      <th>6</th>\n",
       "      <td>88.266038</td>\n",
       "      <td>2023-07-25 00:33:06.466</td>\n",
       "      <td>62.700953</td>\n",
       "      <td>82.504274</td>\n",
       "      <td>73.259342</td>\n",
       "      <td>100.895190</td>\n",
       "      <td>82.067813</td>\n",
       "    </tr>\n",
       "    <tr>\n",
       "      <th>7</th>\n",
       "      <td>99.878291</td>\n",
       "      <td>2023-07-25 00:38:06.466</td>\n",
       "      <td>88.266038</td>\n",
       "      <td>62.700953</td>\n",
       "      <td>82.504274</td>\n",
       "      <td>73.259342</td>\n",
       "      <td>100.895190</td>\n",
       "    </tr>\n",
       "    <tr>\n",
       "      <th>8</th>\n",
       "      <td>93.067682</td>\n",
       "      <td>2023-07-25 00:43:06.466</td>\n",
       "      <td>99.878291</td>\n",
       "      <td>88.266038</td>\n",
       "      <td>62.700953</td>\n",
       "      <td>82.504274</td>\n",
       "      <td>73.259342</td>\n",
       "    </tr>\n",
       "    <tr>\n",
       "      <th>9</th>\n",
       "      <td>91.738968</td>\n",
       "      <td>2023-07-25 00:48:06.466</td>\n",
       "      <td>93.067682</td>\n",
       "      <td>99.878291</td>\n",
       "      <td>88.266038</td>\n",
       "      <td>62.700953</td>\n",
       "      <td>82.504274</td>\n",
       "    </tr>\n",
       "    <tr>\n",
       "      <th>...</th>\n",
       "      <td>...</td>\n",
       "      <td>...</td>\n",
       "      <td>...</td>\n",
       "      <td>...</td>\n",
       "      <td>...</td>\n",
       "      <td>...</td>\n",
       "      <td>...</td>\n",
       "    </tr>\n",
       "    <tr>\n",
       "      <th>10363</th>\n",
       "      <td>28.858958</td>\n",
       "      <td>2023-08-29 23:38:07.394</td>\n",
       "      <td>31.093691</td>\n",
       "      <td>53.711871</td>\n",
       "      <td>51.511873</td>\n",
       "      <td>51.289321</td>\n",
       "      <td>56.025410</td>\n",
       "    </tr>\n",
       "    <tr>\n",
       "      <th>10364</th>\n",
       "      <td>23.238560</td>\n",
       "      <td>2023-08-29 23:43:07.394</td>\n",
       "      <td>28.858958</td>\n",
       "      <td>31.093691</td>\n",
       "      <td>53.711871</td>\n",
       "      <td>51.511873</td>\n",
       "      <td>51.289321</td>\n",
       "    </tr>\n",
       "    <tr>\n",
       "      <th>10365</th>\n",
       "      <td>53.869919</td>\n",
       "      <td>2023-08-29 23:48:07.394</td>\n",
       "      <td>23.238560</td>\n",
       "      <td>28.858958</td>\n",
       "      <td>31.093691</td>\n",
       "      <td>53.711871</td>\n",
       "      <td>51.511873</td>\n",
       "    </tr>\n",
       "    <tr>\n",
       "      <th>10366</th>\n",
       "      <td>30.824553</td>\n",
       "      <td>2023-08-29 23:53:07.394</td>\n",
       "      <td>53.869919</td>\n",
       "      <td>23.238560</td>\n",
       "      <td>28.858958</td>\n",
       "      <td>31.093691</td>\n",
       "      <td>53.711871</td>\n",
       "    </tr>\n",
       "    <tr>\n",
       "      <th>10367</th>\n",
       "      <td>37.018912</td>\n",
       "      <td>2023-08-29 23:58:07.394</td>\n",
       "      <td>30.824553</td>\n",
       "      <td>53.869919</td>\n",
       "      <td>23.238560</td>\n",
       "      <td>28.858958</td>\n",
       "      <td>31.093691</td>\n",
       "    </tr>\n",
       "  </tbody>\n",
       "</table>\n",
       "<p>10363 rows × 7 columns</p>\n",
       "</div>"
      ],
      "text/plain": [
       "        cpu_util                    date      lag_1      lag_2       lag_3  \\\n",
       "5      62.700953 2023-07-25 00:28:06.466  82.504274  73.259342  100.895190   \n",
       "6      88.266038 2023-07-25 00:33:06.466  62.700953  82.504274   73.259342   \n",
       "7      99.878291 2023-07-25 00:38:06.466  88.266038  62.700953   82.504274   \n",
       "8      93.067682 2023-07-25 00:43:06.466  99.878291  88.266038   62.700953   \n",
       "9      91.738968 2023-07-25 00:48:06.466  93.067682  99.878291   88.266038   \n",
       "...          ...                     ...        ...        ...         ...   \n",
       "10363  28.858958 2023-08-29 23:38:07.394  31.093691  53.711871   51.511873   \n",
       "10364  23.238560 2023-08-29 23:43:07.394  28.858958  31.093691   53.711871   \n",
       "10365  53.869919 2023-08-29 23:48:07.394  23.238560  28.858958   31.093691   \n",
       "10366  30.824553 2023-08-29 23:53:07.394  53.869919  23.238560   28.858958   \n",
       "10367  37.018912 2023-08-29 23:58:07.394  30.824553  53.869919   23.238560   \n",
       "\n",
       "            lag_4       lag_5  \n",
       "5       82.067813   66.834766  \n",
       "6      100.895190   82.067813  \n",
       "7       73.259342  100.895190  \n",
       "8       82.504274   73.259342  \n",
       "9       62.700953   82.504274  \n",
       "...           ...         ...  \n",
       "10363   51.289321   56.025410  \n",
       "10364   51.511873   51.289321  \n",
       "10365   53.711871   51.511873  \n",
       "10366   31.093691   53.711871  \n",
       "10367   28.858958   31.093691  \n",
       "\n",
       "[10363 rows x 7 columns]"
      ]
     },
     "execution_count": 35,
     "metadata": {},
     "output_type": "execute_result"
    }
   ],
   "source": [
    "df_test"
   ]
  },
  {
   "cell_type": "code",
   "execution_count": 36,
   "metadata": {},
   "outputs": [
    {
     "name": "stderr",
     "output_type": "stream",
     "text": [
      "C:\\Users\\HP\\AppData\\Local\\Temp\\ipykernel_5588\\528599200.py:3: SettingWithCopyWarning: \n",
      "A value is trying to be set on a copy of a slice from a DataFrame.\n",
      "Try using .loc[row_indexer,col_indexer] = value instead\n",
      "\n",
      "See the caveats in the documentation: https://pandas.pydata.org/pandas-docs/stable/user_guide/indexing.html#returning-a-view-versus-a-copy\n",
      "  X_test['cpu_util'] = (X_test['cpu_util']/100).astype(float)\n",
      "C:\\Users\\HP\\AppData\\Local\\Temp\\ipykernel_5588\\528599200.py:4: SettingWithCopyWarning: \n",
      "A value is trying to be set on a copy of a slice from a DataFrame.\n",
      "Try using .loc[row_indexer,col_indexer] = value instead\n",
      "\n",
      "See the caveats in the documentation: https://pandas.pydata.org/pandas-docs/stable/user_guide/indexing.html#returning-a-view-versus-a-copy\n",
      "  X_test['lag_1'] = (X_test['lag_1']/100).astype(float)\n",
      "C:\\Users\\HP\\AppData\\Local\\Temp\\ipykernel_5588\\528599200.py:5: SettingWithCopyWarning: \n",
      "A value is trying to be set on a copy of a slice from a DataFrame.\n",
      "Try using .loc[row_indexer,col_indexer] = value instead\n",
      "\n",
      "See the caveats in the documentation: https://pandas.pydata.org/pandas-docs/stable/user_guide/indexing.html#returning-a-view-versus-a-copy\n",
      "  X_test['lag_2'] = (X_test['lag_2']/100).astype(float)\n",
      "C:\\Users\\HP\\AppData\\Local\\Temp\\ipykernel_5588\\528599200.py:6: SettingWithCopyWarning: \n",
      "A value is trying to be set on a copy of a slice from a DataFrame.\n",
      "Try using .loc[row_indexer,col_indexer] = value instead\n",
      "\n",
      "See the caveats in the documentation: https://pandas.pydata.org/pandas-docs/stable/user_guide/indexing.html#returning-a-view-versus-a-copy\n",
      "  X_test['lag_3'] = (X_test['lag_3']/100).astype(float)\n",
      "C:\\Users\\HP\\AppData\\Local\\Temp\\ipykernel_5588\\528599200.py:7: SettingWithCopyWarning: \n",
      "A value is trying to be set on a copy of a slice from a DataFrame.\n",
      "Try using .loc[row_indexer,col_indexer] = value instead\n",
      "\n",
      "See the caveats in the documentation: https://pandas.pydata.org/pandas-docs/stable/user_guide/indexing.html#returning-a-view-versus-a-copy\n",
      "  X_test['lag_4'] = (X_test['lag_4']/100).astype(float)\n",
      "C:\\Users\\HP\\AppData\\Local\\Temp\\ipykernel_5588\\528599200.py:8: SettingWithCopyWarning: \n",
      "A value is trying to be set on a copy of a slice from a DataFrame.\n",
      "Try using .loc[row_indexer,col_indexer] = value instead\n",
      "\n",
      "See the caveats in the documentation: https://pandas.pydata.org/pandas-docs/stable/user_guide/indexing.html#returning-a-view-versus-a-copy\n",
      "  X_test['lag_5'] = (X_test['lag_5']/100).astype(float)\n"
     ]
    }
   ],
   "source": [
    "X_test = df_test[['cpu_util', 'lag_1', 'lag_2', 'lag_3', 'lag_4', 'lag_5']]\n",
    "\n",
    "X_test['cpu_util'] = (X_test['cpu_util']/100).astype(float)\n",
    "X_test['lag_1'] = (X_test['lag_1']/100).astype(float)\n",
    "X_test['lag_2'] = (X_test['lag_2']/100).astype(float)\n",
    "X_test['lag_3'] = (X_test['lag_3']/100).astype(float)\n",
    "X_test['lag_4'] = (X_test['lag_4']/100).astype(float)\n",
    "X_test['lag_5'] = (X_test['lag_5']/100).astype(float)"
   ]
  },
  {
   "cell_type": "code",
   "execution_count": 37,
   "metadata": {},
   "outputs": [
    {
     "name": "stdout",
     "output_type": "stream",
     "text": [
      "324/324 [==============================] - 2s 3ms/step\n"
     ]
    }
   ],
   "source": [
    "predict = model.predict(X_test)"
   ]
  },
  {
   "cell_type": "code",
   "execution_count": 38,
   "metadata": {},
   "outputs": [
    {
     "data": {
      "text/plain": [
       "array([[0.00470713],\n",
       "       [0.12019662],\n",
       "       [0.24306017],\n",
       "       ...,\n",
       "       [0.33580118],\n",
       "       [0.01671251],\n",
       "       [0.02412625]], dtype=float32)"
      ]
     },
     "execution_count": 38,
     "metadata": {},
     "output_type": "execute_result"
    }
   ],
   "source": [
    "predict"
   ]
  },
  {
   "cell_type": "code",
   "execution_count": 39,
   "metadata": {},
   "outputs": [
    {
     "data": {
      "text/plain": [
       "0.5934744"
      ]
     },
     "execution_count": 39,
     "metadata": {},
     "output_type": "execute_result"
    }
   ],
   "source": [
    "predict.max()"
   ]
  },
  {
   "cell_type": "code",
   "execution_count": 40,
   "metadata": {},
   "outputs": [],
   "source": [
    "#add the prediction to the test data\n",
    "df_test['predict'] = predict\n"
   ]
  },
  {
   "cell_type": "code",
   "execution_count": 41,
   "metadata": {},
   "outputs": [],
   "source": [
    "df_test['predict'] = df_test['predict'].apply(lambda x: 1 if x > 0.5 else 0)"
   ]
  },
  {
   "cell_type": "code",
   "execution_count": 42,
   "metadata": {},
   "outputs": [
    {
     "data": {
      "image/png": "[encoded data removed]",
      "text/plain": [
       "<Figure size 2000x1000 with 1 Axes>"
      ]
     },
     "metadata": {},
     "output_type": "display_data"
    }
   ],
   "source": [
    "#scatter plot the prediction 1\n",
    "anomaly = df_test.iloc[np.where(df_test['predict'] == 1)]\n",
    "\n",
    "plt.figure(figsize=(20,10))\n",
    "plt.plot(df_test['date'], df_test['cpu_util'], color='green')\n",
    "plt.scatter(anomaly['date'], anomaly['cpu_util'], color='red')\n",
    "plt.xlabel('Date')\n",
    "plt.ylabel('CPU Utilization')\n",
    "plt.title('CPU Utilization Prediction')\n",
    "plt.show()\n",
    "\n"
   ]
  },
  {
   "cell_type": "code",
   "execution_count": 43,
   "metadata": {},
   "outputs": [
    {
     "name": "stdout",
     "output_type": "stream",
     "text": [
      "1/1 [==============================] - 0s 54ms/step\n"
     ]
    },
    {
     "data": {
      "text/plain": [
       "array([[0.21961114]], dtype=float32)"
      ]
     },
     "execution_count": 43,
     "metadata": {},
     "output_type": "execute_result"
    }
   ],
   "source": [
    "model.predict([[1, 0.8, 0.9, 0.7, 0.8, 0.9]])"
   ]
  },
  {
   "cell_type": "code",
   "execution_count": 44,
   "metadata": {},
   "outputs": [
    {
     "name": "stderr",
     "output_type": "stream",
     "text": [
      "c:\\Users\\HP\\AppData\\Local\\Programs\\Python\\Python310\\lib\\site-packages\\keras\\src\\engine\\training.py:3103: UserWarning: You are saving your model as an HDF5 file via `model.save()`. This file format is considered legacy. We recommend using instead the native Keras format, e.g. `model.save('my_model.keras')`.\n",
      "  saving_api.save_model(\n"
     ]
    }
   ],
   "source": [
    "model.save('model_with_5gap.h5')"
   ]
  },
  {
   "cell_type": "code",
   "execution_count": null,
   "metadata": {},
   "outputs": [],
   "source": []
  }
 ],
 "metadata": {
  "kernelspec": {
   "display_name": "Python 3",
   "language": "python",
   "name": "python3"
  },
  "language_info": {
   "codemirror_mode": {
    "name": "ipython",
    "version": 3
   },
   "file_extension": ".py",
   "mimetype": "text/x-python",
   "name": "python",
   "nbconvert_exporter": "python",
   "pygments_lexer": "ipython3",
   "version": "3.10.7"
  }
 },
 "nbformat": 4,
 "nbformat_minor": 2
}
