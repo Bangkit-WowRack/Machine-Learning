{
 "cells": [
  {
   "cell_type": "code",
   "execution_count": 1,
   "metadata": {},
   "outputs": [
    {
     "name": "stdout",
     "output_type": "stream",
     "text": [
      "WARNING:tensorflow:From c:\\Users\\HP\\AppData\\Local\\Programs\\Python\\Python310\\lib\\site-packages\\keras\\src\\losses.py:2976: The name tf.losses.sparse_softmax_cross_entropy is deprecated. Please use tf.compat.v1.losses.sparse_softmax_cross_entropy instead.\n",
      "\n"
     ]
    }
   ],
   "source": [
    "import pandas as pd\n",
    "import numpy as np\n",
    "import matplotlib.pyplot as plt\n",
    "import tensorflow as tf"
   ]
  },
  {
   "cell_type": "code",
   "execution_count": 2,
   "metadata": {},
   "outputs": [],
   "source": [
    "memory_data = pd.read_csv('./memory_anomaly_data2.csv')\n",
    "memory_data['timestamp'] = pd.to_datetime(memory_data['timestamp'])"
   ]
  },
  {
   "cell_type": "code",
   "execution_count": 3,
   "metadata": {},
   "outputs": [
    {
     "data": {
      "text/html": [
       "<div>\n",
       "<style scoped>\n",
       "    .dataframe tbody tr th:only-of-type {\n",
       "        vertical-align: middle;\n",
       "    }\n",
       "\n",
       "    .dataframe tbody tr th {\n",
       "        vertical-align: top;\n",
       "    }\n",
       "\n",
       "    .dataframe thead th {\n",
       "        text-align: right;\n",
       "    }\n",
       "</style>\n",
       "<table border=\"1\" class=\"dataframe\">\n",
       "  <thead>\n",
       "    <tr style=\"text-align: right;\">\n",
       "      <th></th>\n",
       "      <th>memory_usage</th>\n",
       "      <th>timestamp</th>\n",
       "      <th>anomaly</th>\n",
       "    </tr>\n",
       "  </thead>\n",
       "  <tbody>\n",
       "    <tr>\n",
       "      <th>0</th>\n",
       "      <td>50.002197</td>\n",
       "      <td>2023-12-04 22:25:00+00:00</td>\n",
       "      <td>0</td>\n",
       "    </tr>\n",
       "    <tr>\n",
       "      <th>1</th>\n",
       "      <td>49.994604</td>\n",
       "      <td>2023-12-04 22:30:00+00:00</td>\n",
       "      <td>0</td>\n",
       "    </tr>\n",
       "    <tr>\n",
       "      <th>2</th>\n",
       "      <td>49.991114</td>\n",
       "      <td>2023-12-04 22:35:00+00:00</td>\n",
       "      <td>0</td>\n",
       "    </tr>\n",
       "    <tr>\n",
       "      <th>3</th>\n",
       "      <td>49.995935</td>\n",
       "      <td>2023-12-04 22:40:00+00:00</td>\n",
       "      <td>0</td>\n",
       "    </tr>\n",
       "    <tr>\n",
       "      <th>4</th>\n",
       "      <td>49.984534</td>\n",
       "      <td>2023-12-04 22:45:00+00:00</td>\n",
       "      <td>0</td>\n",
       "    </tr>\n",
       "    <tr>\n",
       "      <th>...</th>\n",
       "      <td>...</td>\n",
       "      <td>...</td>\n",
       "      <td>...</td>\n",
       "    </tr>\n",
       "    <tr>\n",
       "      <th>9990</th>\n",
       "      <td>67.120851</td>\n",
       "      <td>2024-01-08 14:55:00+00:00</td>\n",
       "      <td>0</td>\n",
       "    </tr>\n",
       "    <tr>\n",
       "      <th>9991</th>\n",
       "      <td>67.092148</td>\n",
       "      <td>2024-01-08 15:00:00+00:00</td>\n",
       "      <td>1</td>\n",
       "    </tr>\n",
       "    <tr>\n",
       "      <th>9992</th>\n",
       "      <td>67.100597</td>\n",
       "      <td>2024-01-08 15:05:00+00:00</td>\n",
       "      <td>1</td>\n",
       "    </tr>\n",
       "    <tr>\n",
       "      <th>9993</th>\n",
       "      <td>67.108008</td>\n",
       "      <td>2024-01-08 15:10:00+00:00</td>\n",
       "      <td>1</td>\n",
       "    </tr>\n",
       "    <tr>\n",
       "      <th>9994</th>\n",
       "      <td>67.119684</td>\n",
       "      <td>2024-01-08 15:15:00+00:00</td>\n",
       "      <td>1</td>\n",
       "    </tr>\n",
       "  </tbody>\n",
       "</table>\n",
       "<p>9995 rows × 3 columns</p>\n",
       "</div>"
      ],
      "text/plain": [
       "      memory_usage                 timestamp  anomaly\n",
       "0        50.002197 2023-12-04 22:25:00+00:00        0\n",
       "1        49.994604 2023-12-04 22:30:00+00:00        0\n",
       "2        49.991114 2023-12-04 22:35:00+00:00        0\n",
       "3        49.995935 2023-12-04 22:40:00+00:00        0\n",
       "4        49.984534 2023-12-04 22:45:00+00:00        0\n",
       "...            ...                       ...      ...\n",
       "9990     67.120851 2024-01-08 14:55:00+00:00        0\n",
       "9991     67.092148 2024-01-08 15:00:00+00:00        1\n",
       "9992     67.100597 2024-01-08 15:05:00+00:00        1\n",
       "9993     67.108008 2024-01-08 15:10:00+00:00        1\n",
       "9994     67.119684 2024-01-08 15:15:00+00:00        1\n",
       "\n",
       "[9995 rows x 3 columns]"
      ]
     },
     "execution_count": 3,
     "metadata": {},
     "output_type": "execute_result"
    }
   ],
   "source": [
    "memory_data"
   ]
  },
  {
   "cell_type": "code",
   "execution_count": 4,
   "metadata": {},
   "outputs": [
    {
     "data": {
      "text/html": [
       "<div>\n",
       "<style scoped>\n",
       "    .dataframe tbody tr th:only-of-type {\n",
       "        vertical-align: middle;\n",
       "    }\n",
       "\n",
       "    .dataframe tbody tr th {\n",
       "        vertical-align: top;\n",
       "    }\n",
       "\n",
       "    .dataframe thead th {\n",
       "        text-align: right;\n",
       "    }\n",
       "</style>\n",
       "<table border=\"1\" class=\"dataframe\">\n",
       "  <thead>\n",
       "    <tr style=\"text-align: right;\">\n",
       "      <th></th>\n",
       "      <th>memory_usage</th>\n",
       "      <th>timestamp</th>\n",
       "      <th>anomaly</th>\n",
       "    </tr>\n",
       "  </thead>\n",
       "  <tbody>\n",
       "    <tr>\n",
       "      <th>0</th>\n",
       "      <td>0.500022</td>\n",
       "      <td>2023-12-04 22:25:00+00:00</td>\n",
       "      <td>0</td>\n",
       "    </tr>\n",
       "    <tr>\n",
       "      <th>1</th>\n",
       "      <td>0.499946</td>\n",
       "      <td>2023-12-04 22:30:00+00:00</td>\n",
       "      <td>0</td>\n",
       "    </tr>\n",
       "    <tr>\n",
       "      <th>2</th>\n",
       "      <td>0.499911</td>\n",
       "      <td>2023-12-04 22:35:00+00:00</td>\n",
       "      <td>0</td>\n",
       "    </tr>\n",
       "    <tr>\n",
       "      <th>3</th>\n",
       "      <td>0.499959</td>\n",
       "      <td>2023-12-04 22:40:00+00:00</td>\n",
       "      <td>0</td>\n",
       "    </tr>\n",
       "    <tr>\n",
       "      <th>4</th>\n",
       "      <td>0.499845</td>\n",
       "      <td>2023-12-04 22:45:00+00:00</td>\n",
       "      <td>0</td>\n",
       "    </tr>\n",
       "    <tr>\n",
       "      <th>...</th>\n",
       "      <td>...</td>\n",
       "      <td>...</td>\n",
       "      <td>...</td>\n",
       "    </tr>\n",
       "    <tr>\n",
       "      <th>9990</th>\n",
       "      <td>0.671209</td>\n",
       "      <td>2024-01-08 14:55:00+00:00</td>\n",
       "      <td>0</td>\n",
       "    </tr>\n",
       "    <tr>\n",
       "      <th>9991</th>\n",
       "      <td>0.670921</td>\n",
       "      <td>2024-01-08 15:00:00+00:00</td>\n",
       "      <td>1</td>\n",
       "    </tr>\n",
       "    <tr>\n",
       "      <th>9992</th>\n",
       "      <td>0.671006</td>\n",
       "      <td>2024-01-08 15:05:00+00:00</td>\n",
       "      <td>1</td>\n",
       "    </tr>\n",
       "    <tr>\n",
       "      <th>9993</th>\n",
       "      <td>0.671080</td>\n",
       "      <td>2024-01-08 15:10:00+00:00</td>\n",
       "      <td>1</td>\n",
       "    </tr>\n",
       "    <tr>\n",
       "      <th>9994</th>\n",
       "      <td>0.671197</td>\n",
       "      <td>2024-01-08 15:15:00+00:00</td>\n",
       "      <td>1</td>\n",
       "    </tr>\n",
       "  </tbody>\n",
       "</table>\n",
       "<p>9995 rows × 3 columns</p>\n",
       "</div>"
      ],
      "text/plain": [
       "      memory_usage                 timestamp  anomaly\n",
       "0         0.500022 2023-12-04 22:25:00+00:00        0\n",
       "1         0.499946 2023-12-04 22:30:00+00:00        0\n",
       "2         0.499911 2023-12-04 22:35:00+00:00        0\n",
       "3         0.499959 2023-12-04 22:40:00+00:00        0\n",
       "4         0.499845 2023-12-04 22:45:00+00:00        0\n",
       "...            ...                       ...      ...\n",
       "9990      0.671209 2024-01-08 14:55:00+00:00        0\n",
       "9991      0.670921 2024-01-08 15:00:00+00:00        1\n",
       "9992      0.671006 2024-01-08 15:05:00+00:00        1\n",
       "9993      0.671080 2024-01-08 15:10:00+00:00        1\n",
       "9994      0.671197 2024-01-08 15:15:00+00:00        1\n",
       "\n",
       "[9995 rows x 3 columns]"
      ]
     },
     "execution_count": 4,
     "metadata": {},
     "output_type": "execute_result"
    }
   ],
   "source": [
    "memory_data['memory_usage'] = memory_data['memory_usage']/100\n",
    "memory_data"
   ]
  },
  {
   "cell_type": "code",
   "execution_count": 5,
   "metadata": {},
   "outputs": [],
   "source": [
    "num_lags = 2\n",
    "\n",
    "#add lag\n",
    "for i in range(1, num_lags+1):\n",
    "    memory_data['lag_{}'.format(i)] = memory_data['memory_usage'].shift(i)\n",
    "  \n",
    "memory_data = memory_data.dropna()"
   ]
  },
  {
   "cell_type": "code",
   "execution_count": 6,
   "metadata": {},
   "outputs": [
    {
     "data": {
      "text/html": [
       "<div>\n",
       "<style scoped>\n",
       "    .dataframe tbody tr th:only-of-type {\n",
       "        vertical-align: middle;\n",
       "    }\n",
       "\n",
       "    .dataframe tbody tr th {\n",
       "        vertical-align: top;\n",
       "    }\n",
       "\n",
       "    .dataframe thead th {\n",
       "        text-align: right;\n",
       "    }\n",
       "</style>\n",
       "<table border=\"1\" class=\"dataframe\">\n",
       "  <thead>\n",
       "    <tr style=\"text-align: right;\">\n",
       "      <th></th>\n",
       "      <th>memory_usage</th>\n",
       "      <th>timestamp</th>\n",
       "      <th>anomaly</th>\n",
       "      <th>lag_1</th>\n",
       "      <th>lag_2</th>\n",
       "    </tr>\n",
       "  </thead>\n",
       "  <tbody>\n",
       "    <tr>\n",
       "      <th>2</th>\n",
       "      <td>0.499911</td>\n",
       "      <td>2023-12-04 22:35:00+00:00</td>\n",
       "      <td>0</td>\n",
       "      <td>0.499946</td>\n",
       "      <td>0.500022</td>\n",
       "    </tr>\n",
       "    <tr>\n",
       "      <th>3</th>\n",
       "      <td>0.499959</td>\n",
       "      <td>2023-12-04 22:40:00+00:00</td>\n",
       "      <td>0</td>\n",
       "      <td>0.499911</td>\n",
       "      <td>0.499946</td>\n",
       "    </tr>\n",
       "    <tr>\n",
       "      <th>4</th>\n",
       "      <td>0.499845</td>\n",
       "      <td>2023-12-04 22:45:00+00:00</td>\n",
       "      <td>0</td>\n",
       "      <td>0.499959</td>\n",
       "      <td>0.499911</td>\n",
       "    </tr>\n",
       "    <tr>\n",
       "      <th>5</th>\n",
       "      <td>0.500061</td>\n",
       "      <td>2023-12-04 22:50:00+00:00</td>\n",
       "      <td>0</td>\n",
       "      <td>0.499845</td>\n",
       "      <td>0.499959</td>\n",
       "    </tr>\n",
       "    <tr>\n",
       "      <th>6</th>\n",
       "      <td>0.500041</td>\n",
       "      <td>2023-12-04 22:55:00+00:00</td>\n",
       "      <td>0</td>\n",
       "      <td>0.500061</td>\n",
       "      <td>0.499845</td>\n",
       "    </tr>\n",
       "    <tr>\n",
       "      <th>...</th>\n",
       "      <td>...</td>\n",
       "      <td>...</td>\n",
       "      <td>...</td>\n",
       "      <td>...</td>\n",
       "      <td>...</td>\n",
       "    </tr>\n",
       "    <tr>\n",
       "      <th>9990</th>\n",
       "      <td>0.671209</td>\n",
       "      <td>2024-01-08 14:55:00+00:00</td>\n",
       "      <td>0</td>\n",
       "      <td>0.671005</td>\n",
       "      <td>0.671168</td>\n",
       "    </tr>\n",
       "    <tr>\n",
       "      <th>9991</th>\n",
       "      <td>0.670921</td>\n",
       "      <td>2024-01-08 15:00:00+00:00</td>\n",
       "      <td>1</td>\n",
       "      <td>0.671209</td>\n",
       "      <td>0.671005</td>\n",
       "    </tr>\n",
       "    <tr>\n",
       "      <th>9992</th>\n",
       "      <td>0.671006</td>\n",
       "      <td>2024-01-08 15:05:00+00:00</td>\n",
       "      <td>1</td>\n",
       "      <td>0.670921</td>\n",
       "      <td>0.671209</td>\n",
       "    </tr>\n",
       "    <tr>\n",
       "      <th>9993</th>\n",
       "      <td>0.671080</td>\n",
       "      <td>2024-01-08 15:10:00+00:00</td>\n",
       "      <td>1</td>\n",
       "      <td>0.671006</td>\n",
       "      <td>0.670921</td>\n",
       "    </tr>\n",
       "    <tr>\n",
       "      <th>9994</th>\n",
       "      <td>0.671197</td>\n",
       "      <td>2024-01-08 15:15:00+00:00</td>\n",
       "      <td>1</td>\n",
       "      <td>0.671080</td>\n",
       "      <td>0.671006</td>\n",
       "    </tr>\n",
       "  </tbody>\n",
       "</table>\n",
       "<p>9993 rows × 5 columns</p>\n",
       "</div>"
      ],
      "text/plain": [
       "      memory_usage                 timestamp  anomaly     lag_1     lag_2\n",
       "2         0.499911 2023-12-04 22:35:00+00:00        0  0.499946  0.500022\n",
       "3         0.499959 2023-12-04 22:40:00+00:00        0  0.499911  0.499946\n",
       "4         0.499845 2023-12-04 22:45:00+00:00        0  0.499959  0.499911\n",
       "5         0.500061 2023-12-04 22:50:00+00:00        0  0.499845  0.499959\n",
       "6         0.500041 2023-12-04 22:55:00+00:00        0  0.500061  0.499845\n",
       "...            ...                       ...      ...       ...       ...\n",
       "9990      0.671209 2024-01-08 14:55:00+00:00        0  0.671005  0.671168\n",
       "9991      0.670921 2024-01-08 15:00:00+00:00        1  0.671209  0.671005\n",
       "9992      0.671006 2024-01-08 15:05:00+00:00        1  0.670921  0.671209\n",
       "9993      0.671080 2024-01-08 15:10:00+00:00        1  0.671006  0.670921\n",
       "9994      0.671197 2024-01-08 15:15:00+00:00        1  0.671080  0.671006\n",
       "\n",
       "[9993 rows x 5 columns]"
      ]
     },
     "execution_count": 6,
     "metadata": {},
     "output_type": "execute_result"
    }
   ],
   "source": [
    "memory_data"
   ]
  },
  {
   "cell_type": "code",
   "execution_count": 9,
   "metadata": {},
   "outputs": [],
   "source": [
    "X = memory_data[['memory_usage', 'lag_1', 'lag_2']]\n",
    "y = memory_data['anomaly']"
   ]
  },
  {
   "cell_type": "code",
   "execution_count": 10,
   "metadata": {},
   "outputs": [
    {
     "name": "stderr",
     "output_type": "stream",
     "text": [
      "C:\\Users\\HP\\AppData\\Local\\Temp\\ipykernel_21300\\3789776307.py:3: FutureWarning: The behavior of `series[i:j]` with an integer-dtype index is deprecated. In a future version, this will be treated as *label-based* indexing, consistent with e.g. `series[i]` lookups. To retain the old behavior, use `series.iloc[i:j]`. To get the future behavior, use `series.loc[i:j]`.\n",
      "  y_train = y[:int(0.7*len(y))]\n",
      "C:\\Users\\HP\\AppData\\Local\\Temp\\ipykernel_21300\\3789776307.py:4: FutureWarning: The behavior of `series[i:j]` with an integer-dtype index is deprecated. In a future version, this will be treated as *label-based* indexing, consistent with e.g. `series[i]` lookups. To retain the old behavior, use `series.iloc[i:j]`. To get the future behavior, use `series.loc[i:j]`.\n",
      "  y_test = y[int(0.7*len(y)):]\n"
     ]
    }
   ],
   "source": [
    "X_train = X[:int(0.7*len(X))]\n",
    "X_test = X[int(0.7*len(X)):]\n",
    "y_train = y[:int(0.7*len(y))]\n",
    "y_test = y[int(0.7*len(y)):]\n",
    "\n",
    "X_train = np.array(X_train)\n",
    "X_test = np.array(X_test)\n",
    "y_train = np.array(y_train)\n",
    "y_test = np.array(y_test)"
   ]
  },
  {
   "cell_type": "code",
   "execution_count": 11,
   "metadata": {},
   "outputs": [
    {
     "name": "stdout",
     "output_type": "stream",
     "text": [
      "WARNING:tensorflow:From c:\\Users\\HP\\AppData\\Local\\Programs\\Python\\Python310\\lib\\site-packages\\keras\\src\\backend.py:873: The name tf.get_default_graph is deprecated. Please use tf.compat.v1.get_default_graph instead.\n",
      "\n"
     ]
    }
   ],
   "source": [
    "model = tf.keras.models.Sequential([\n",
    "    tf.keras.layers.Dense(64, input_shape=(3,), activation='relu'),\n",
    "    tf.keras.layers.Dense(32, activation='relu'),\n",
    "    tf.keras.layers.Dense(1, activation='sigmoid')\n",
    "])"
   ]
  },
  {
   "cell_type": "code",
   "execution_count": 12,
   "metadata": {},
   "outputs": [
    {
     "name": "stdout",
     "output_type": "stream",
     "text": [
      "WARNING:tensorflow:From c:\\Users\\HP\\AppData\\Local\\Programs\\Python\\Python310\\lib\\site-packages\\keras\\src\\optimizers\\__init__.py:309: The name tf.train.Optimizer is deprecated. Please use tf.compat.v1.train.Optimizer instead.\n",
      "\n"
     ]
    }
   ],
   "source": [
    "model.compile(optimizer='adam', loss='binary_crossentropy', metrics=['accuracy'])"
   ]
  },
  {
   "cell_type": "code",
   "execution_count": 13,
   "metadata": {},
   "outputs": [
    {
     "name": "stdout",
     "output_type": "stream",
     "text": [
      "Epoch 1/20\n",
      "WARNING:tensorflow:From c:\\Users\\HP\\AppData\\Local\\Programs\\Python\\Python310\\lib\\site-packages\\keras\\src\\utils\\tf_utils.py:492: The name tf.ragged.RaggedTensorValue is deprecated. Please use tf.compat.v1.ragged.RaggedTensorValue instead.\n",
      "\n",
      "WARNING:tensorflow:From c:\\Users\\HP\\AppData\\Local\\Programs\\Python\\Python310\\lib\\site-packages\\keras\\src\\engine\\base_layer_utils.py:384: The name tf.executing_eagerly_outside_functions is deprecated. Please use tf.compat.v1.executing_eagerly_outside_functions instead.\n",
      "\n",
      "219/219 [==============================] - 2s 3ms/step - loss: 0.1280 - accuracy: 0.9887 - val_loss: 0.0678 - val_accuracy: 0.9880\n",
      "Epoch 2/20\n",
      "219/219 [==============================] - 1s 2ms/step - loss: 0.0645 - accuracy: 0.9887 - val_loss: 0.0674 - val_accuracy: 0.9880\n",
      "Epoch 3/20\n",
      "219/219 [==============================] - 1s 2ms/step - loss: 0.0643 - accuracy: 0.9887 - val_loss: 0.0663 - val_accuracy: 0.9880\n",
      "Epoch 4/20\n",
      "219/219 [==============================] - 1s 2ms/step - loss: 0.0629 - accuracy: 0.9887 - val_loss: 0.0662 - val_accuracy: 0.9880\n",
      "Epoch 5/20\n",
      "219/219 [==============================] - 1s 2ms/step - loss: 0.0628 - accuracy: 0.9887 - val_loss: 0.0650 - val_accuracy: 0.9880\n",
      "Epoch 6/20\n",
      "219/219 [==============================] - 1s 2ms/step - loss: 0.0618 - accuracy: 0.9887 - val_loss: 0.0638 - val_accuracy: 0.9880\n",
      "Epoch 7/20\n",
      "219/219 [==============================] - 1s 2ms/step - loss: 0.0606 - accuracy: 0.9887 - val_loss: 0.0626 - val_accuracy: 0.9880\n",
      "Epoch 8/20\n",
      "219/219 [==============================] - 1s 2ms/step - loss: 0.0592 - accuracy: 0.9887 - val_loss: 0.0608 - val_accuracy: 0.9880\n",
      "Epoch 9/20\n",
      "219/219 [==============================] - 1s 2ms/step - loss: 0.0567 - accuracy: 0.9887 - val_loss: 0.0601 - val_accuracy: 0.9880\n",
      "Epoch 10/20\n",
      "219/219 [==============================] - 1s 2ms/step - loss: 0.0552 - accuracy: 0.9887 - val_loss: 0.0568 - val_accuracy: 0.9880\n",
      "Epoch 11/20\n",
      "219/219 [==============================] - 1s 2ms/step - loss: 0.0511 - accuracy: 0.9887 - val_loss: 0.0536 - val_accuracy: 0.9880\n",
      "Epoch 12/20\n",
      "219/219 [==============================] - 1s 2ms/step - loss: 0.0481 - accuracy: 0.9887 - val_loss: 0.0496 - val_accuracy: 0.9880\n",
      "Epoch 13/20\n",
      "219/219 [==============================] - 1s 2ms/step - loss: 0.0430 - accuracy: 0.9887 - val_loss: 0.0468 - val_accuracy: 0.9880\n",
      "Epoch 14/20\n",
      "219/219 [==============================] - 1s 2ms/step - loss: 0.0377 - accuracy: 0.9887 - val_loss: 0.0411 - val_accuracy: 0.9880\n",
      "Epoch 15/20\n",
      "219/219 [==============================] - 0s 2ms/step - loss: 0.0320 - accuracy: 0.9887 - val_loss: 0.0300 - val_accuracy: 0.9880\n",
      "Epoch 16/20\n",
      "219/219 [==============================] - 1s 3ms/step - loss: 0.0247 - accuracy: 0.9904 - val_loss: 0.0252 - val_accuracy: 0.9893\n",
      "Epoch 17/20\n",
      "219/219 [==============================] - 1s 3ms/step - loss: 0.0197 - accuracy: 0.9934 - val_loss: 0.0197 - val_accuracy: 0.9957\n",
      "Epoch 18/20\n",
      "219/219 [==============================] - 1s 3ms/step - loss: 0.0156 - accuracy: 0.9949 - val_loss: 0.0177 - val_accuracy: 0.9957\n",
      "Epoch 19/20\n",
      "219/219 [==============================] - 1s 3ms/step - loss: 0.0123 - accuracy: 0.9971 - val_loss: 0.0151 - val_accuracy: 0.9977\n",
      "Epoch 20/20\n",
      "219/219 [==============================] - 1s 2ms/step - loss: 0.0107 - accuracy: 0.9974 - val_loss: 0.0158 - val_accuracy: 0.9963\n"
     ]
    },
    {
     "data": {
      "text/plain": [
       "<keras.src.callbacks.History at 0x215b3fdbb20>"
      ]
     },
     "execution_count": 13,
     "metadata": {},
     "output_type": "execute_result"
    }
   ],
   "source": [
    "model.fit(X_train, y_train, epochs=20, validation_data=(X_test, y_test))"
   ]
  },
  {
   "cell_type": "code",
   "execution_count": 14,
   "metadata": {},
   "outputs": [
    {
     "name": "stderr",
     "output_type": "stream",
     "text": [
      "c:\\Users\\HP\\AppData\\Local\\Programs\\Python\\Python310\\lib\\site-packages\\keras\\src\\engine\\training.py:3103: UserWarning: You are saving your model as an HDF5 file via `model.save()`. This file format is considered legacy. We recommend using instead the native Keras format, e.g. `model.save('my_model.keras')`.\n",
      "  saving_api.save_model(\n"
     ]
    }
   ],
   "source": [
    "model.save('memory_model_2.h5')"
   ]
  },
  {
   "cell_type": "code",
   "execution_count": null,
   "metadata": {},
   "outputs": [],
   "source": []
  }
 ],
 "metadata": {
  "kernelspec": {
   "display_name": "Python 3",
   "language": "python",
   "name": "python3"
  },
  "language_info": {
   "codemirror_mode": {
    "name": "ipython",
    "version": 3
   },
   "file_extension": ".py",
   "mimetype": "text/x-python",
   "name": "python",
   "nbconvert_exporter": "python",
   "pygments_lexer": "ipython3",
   "version": "3.10.7"
  }
 },
 "nbformat": 4,
 "nbformat_minor": 2
}
