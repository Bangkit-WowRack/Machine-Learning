{
 "cells": [
  {
   "cell_type": "code",
   "execution_count": 1,
   "metadata": {},
   "outputs": [],
   "source": [
    "import pandas as pd\n",
    "import numpy as np\n",
    "import matplotlib.pyplot as plt\n",
    "import tensorflow as tf"
   ]
  },
  {
   "cell_type": "code",
   "execution_count": 2,
   "metadata": {},
   "outputs": [],
   "source": [
    "cpu_data = pd.read_csv('./cpu_anomaly_data2.csv')\n",
    "cpu_data['timestamp'] = pd.to_datetime(cpu_data['timestamp'])"
   ]
  },
  {
   "cell_type": "code",
   "execution_count": 3,
   "metadata": {},
   "outputs": [
    {
     "data": {
      "text/html": [
       "<div>\n",
       "<style scoped>\n",
       "    .dataframe tbody tr th:only-of-type {\n",
       "        vertical-align: middle;\n",
       "    }\n",
       "\n",
       "    .dataframe tbody tr th {\n",
       "        vertical-align: top;\n",
       "    }\n",
       "\n",
       "    .dataframe thead th {\n",
       "        text-align: right;\n",
       "    }\n",
       "</style>\n",
       "<table border=\"1\" class=\"dataframe\">\n",
       "  <thead>\n",
       "    <tr style=\"text-align: right;\">\n",
       "      <th></th>\n",
       "      <th>cpu_usage</th>\n",
       "      <th>timestamp</th>\n",
       "      <th>anomaly</th>\n",
       "    </tr>\n",
       "  </thead>\n",
       "  <tbody>\n",
       "    <tr>\n",
       "      <th>0</th>\n",
       "      <td>21.756007</td>\n",
       "      <td>2023-12-04 22:20:00+00:00</td>\n",
       "      <td>0</td>\n",
       "    </tr>\n",
       "    <tr>\n",
       "      <th>1</th>\n",
       "      <td>22.302332</td>\n",
       "      <td>2023-12-04 22:25:00+00:00</td>\n",
       "      <td>0</td>\n",
       "    </tr>\n",
       "    <tr>\n",
       "      <th>2</th>\n",
       "      <td>34.959884</td>\n",
       "      <td>2023-12-04 22:30:00+00:00</td>\n",
       "      <td>0</td>\n",
       "    </tr>\n",
       "    <tr>\n",
       "      <th>3</th>\n",
       "      <td>29.625328</td>\n",
       "      <td>2023-12-04 22:35:00+00:00</td>\n",
       "      <td>0</td>\n",
       "    </tr>\n",
       "    <tr>\n",
       "      <th>4</th>\n",
       "      <td>21.144231</td>\n",
       "      <td>2023-12-04 22:40:00+00:00</td>\n",
       "      <td>0</td>\n",
       "    </tr>\n",
       "    <tr>\n",
       "      <th>...</th>\n",
       "      <td>...</td>\n",
       "      <td>...</td>\n",
       "      <td>...</td>\n",
       "    </tr>\n",
       "    <tr>\n",
       "      <th>9991</th>\n",
       "      <td>43.327759</td>\n",
       "      <td>2024-01-08 14:55:00+00:00</td>\n",
       "      <td>0</td>\n",
       "    </tr>\n",
       "    <tr>\n",
       "      <th>9992</th>\n",
       "      <td>36.268165</td>\n",
       "      <td>2024-01-08 15:00:00+00:00</td>\n",
       "      <td>0</td>\n",
       "    </tr>\n",
       "    <tr>\n",
       "      <th>9993</th>\n",
       "      <td>40.028437</td>\n",
       "      <td>2024-01-08 15:05:00+00:00</td>\n",
       "      <td>0</td>\n",
       "    </tr>\n",
       "    <tr>\n",
       "      <th>9994</th>\n",
       "      <td>44.154303</td>\n",
       "      <td>2024-01-08 15:10:00+00:00</td>\n",
       "      <td>1</td>\n",
       "    </tr>\n",
       "    <tr>\n",
       "      <th>9995</th>\n",
       "      <td>42.094822</td>\n",
       "      <td>2024-01-08 15:15:00+00:00</td>\n",
       "      <td>1</td>\n",
       "    </tr>\n",
       "  </tbody>\n",
       "</table>\n",
       "<p>9996 rows × 3 columns</p>\n",
       "</div>"
      ],
      "text/plain": [
       "      cpu_usage                 timestamp  anomaly\n",
       "0     21.756007 2023-12-04 22:20:00+00:00        0\n",
       "1     22.302332 2023-12-04 22:25:00+00:00        0\n",
       "2     34.959884 2023-12-04 22:30:00+00:00        0\n",
       "3     29.625328 2023-12-04 22:35:00+00:00        0\n",
       "4     21.144231 2023-12-04 22:40:00+00:00        0\n",
       "...         ...                       ...      ...\n",
       "9991  43.327759 2024-01-08 14:55:00+00:00        0\n",
       "9992  36.268165 2024-01-08 15:00:00+00:00        0\n",
       "9993  40.028437 2024-01-08 15:05:00+00:00        0\n",
       "9994  44.154303 2024-01-08 15:10:00+00:00        1\n",
       "9995  42.094822 2024-01-08 15:15:00+00:00        1\n",
       "\n",
       "[9996 rows x 3 columns]"
      ]
     },
     "execution_count": 3,
     "metadata": {},
     "output_type": "execute_result"
    }
   ],
   "source": [
    "cpu_data"
   ]
  },
  {
   "cell_type": "code",
   "execution_count": 4,
   "metadata": {},
   "outputs": [
    {
     "data": {
      "text/html": [
       "<div>\n",
       "<style scoped>\n",
       "    .dataframe tbody tr th:only-of-type {\n",
       "        vertical-align: middle;\n",
       "    }\n",
       "\n",
       "    .dataframe tbody tr th {\n",
       "        vertical-align: top;\n",
       "    }\n",
       "\n",
       "    .dataframe thead th {\n",
       "        text-align: right;\n",
       "    }\n",
       "</style>\n",
       "<table border=\"1\" class=\"dataframe\">\n",
       "  <thead>\n",
       "    <tr style=\"text-align: right;\">\n",
       "      <th></th>\n",
       "      <th>cpu_usage</th>\n",
       "      <th>timestamp</th>\n",
       "      <th>anomaly</th>\n",
       "    </tr>\n",
       "  </thead>\n",
       "  <tbody>\n",
       "    <tr>\n",
       "      <th>0</th>\n",
       "      <td>0.217560</td>\n",
       "      <td>2023-12-04 22:20:00+00:00</td>\n",
       "      <td>0</td>\n",
       "    </tr>\n",
       "    <tr>\n",
       "      <th>1</th>\n",
       "      <td>0.223023</td>\n",
       "      <td>2023-12-04 22:25:00+00:00</td>\n",
       "      <td>0</td>\n",
       "    </tr>\n",
       "    <tr>\n",
       "      <th>2</th>\n",
       "      <td>0.349599</td>\n",
       "      <td>2023-12-04 22:30:00+00:00</td>\n",
       "      <td>0</td>\n",
       "    </tr>\n",
       "    <tr>\n",
       "      <th>3</th>\n",
       "      <td>0.296253</td>\n",
       "      <td>2023-12-04 22:35:00+00:00</td>\n",
       "      <td>0</td>\n",
       "    </tr>\n",
       "    <tr>\n",
       "      <th>4</th>\n",
       "      <td>0.211442</td>\n",
       "      <td>2023-12-04 22:40:00+00:00</td>\n",
       "      <td>0</td>\n",
       "    </tr>\n",
       "    <tr>\n",
       "      <th>...</th>\n",
       "      <td>...</td>\n",
       "      <td>...</td>\n",
       "      <td>...</td>\n",
       "    </tr>\n",
       "    <tr>\n",
       "      <th>9991</th>\n",
       "      <td>0.433278</td>\n",
       "      <td>2024-01-08 14:55:00+00:00</td>\n",
       "      <td>0</td>\n",
       "    </tr>\n",
       "    <tr>\n",
       "      <th>9992</th>\n",
       "      <td>0.362682</td>\n",
       "      <td>2024-01-08 15:00:00+00:00</td>\n",
       "      <td>0</td>\n",
       "    </tr>\n",
       "    <tr>\n",
       "      <th>9993</th>\n",
       "      <td>0.400284</td>\n",
       "      <td>2024-01-08 15:05:00+00:00</td>\n",
       "      <td>0</td>\n",
       "    </tr>\n",
       "    <tr>\n",
       "      <th>9994</th>\n",
       "      <td>0.441543</td>\n",
       "      <td>2024-01-08 15:10:00+00:00</td>\n",
       "      <td>1</td>\n",
       "    </tr>\n",
       "    <tr>\n",
       "      <th>9995</th>\n",
       "      <td>0.420948</td>\n",
       "      <td>2024-01-08 15:15:00+00:00</td>\n",
       "      <td>1</td>\n",
       "    </tr>\n",
       "  </tbody>\n",
       "</table>\n",
       "<p>9996 rows × 3 columns</p>\n",
       "</div>"
      ],
      "text/plain": [
       "      cpu_usage                 timestamp  anomaly\n",
       "0      0.217560 2023-12-04 22:20:00+00:00        0\n",
       "1      0.223023 2023-12-04 22:25:00+00:00        0\n",
       "2      0.349599 2023-12-04 22:30:00+00:00        0\n",
       "3      0.296253 2023-12-04 22:35:00+00:00        0\n",
       "4      0.211442 2023-12-04 22:40:00+00:00        0\n",
       "...         ...                       ...      ...\n",
       "9991   0.433278 2024-01-08 14:55:00+00:00        0\n",
       "9992   0.362682 2024-01-08 15:00:00+00:00        0\n",
       "9993   0.400284 2024-01-08 15:05:00+00:00        0\n",
       "9994   0.441543 2024-01-08 15:10:00+00:00        1\n",
       "9995   0.420948 2024-01-08 15:15:00+00:00        1\n",
       "\n",
       "[9996 rows x 3 columns]"
      ]
     },
     "execution_count": 4,
     "metadata": {},
     "output_type": "execute_result"
    }
   ],
   "source": [
    "cpu_data['cpu_usage'] = cpu_data['cpu_usage']/100\n",
    "cpu_data"
   ]
  },
  {
   "cell_type": "code",
   "execution_count": 5,
   "metadata": {},
   "outputs": [],
   "source": [
    "num_lags = 2\n",
    "\n",
    "#add lag\n",
    "for i in range(1, num_lags+1):\n",
    "    cpu_data['lag_{}'.format(i)] = cpu_data['cpu_usage'].shift(i)\n",
    "  \n",
    "cpu_data = cpu_data.dropna()"
   ]
  },
  {
   "cell_type": "code",
   "execution_count": 6,
   "metadata": {},
   "outputs": [
    {
     "data": {
      "text/html": [
       "<div>\n",
       "<style scoped>\n",
       "    .dataframe tbody tr th:only-of-type {\n",
       "        vertical-align: middle;\n",
       "    }\n",
       "\n",
       "    .dataframe tbody tr th {\n",
       "        vertical-align: top;\n",
       "    }\n",
       "\n",
       "    .dataframe thead th {\n",
       "        text-align: right;\n",
       "    }\n",
       "</style>\n",
       "<table border=\"1\" class=\"dataframe\">\n",
       "  <thead>\n",
       "    <tr style=\"text-align: right;\">\n",
       "      <th></th>\n",
       "      <th>cpu_usage</th>\n",
       "      <th>timestamp</th>\n",
       "      <th>anomaly</th>\n",
       "      <th>lag_1</th>\n",
       "      <th>lag_2</th>\n",
       "    </tr>\n",
       "  </thead>\n",
       "  <tbody>\n",
       "    <tr>\n",
       "      <th>2</th>\n",
       "      <td>0.349599</td>\n",
       "      <td>2023-12-04 22:30:00+00:00</td>\n",
       "      <td>0</td>\n",
       "      <td>0.223023</td>\n",
       "      <td>0.217560</td>\n",
       "    </tr>\n",
       "    <tr>\n",
       "      <th>3</th>\n",
       "      <td>0.296253</td>\n",
       "      <td>2023-12-04 22:35:00+00:00</td>\n",
       "      <td>0</td>\n",
       "      <td>0.349599</td>\n",
       "      <td>0.223023</td>\n",
       "    </tr>\n",
       "    <tr>\n",
       "      <th>4</th>\n",
       "      <td>0.211442</td>\n",
       "      <td>2023-12-04 22:40:00+00:00</td>\n",
       "      <td>0</td>\n",
       "      <td>0.296253</td>\n",
       "      <td>0.349599</td>\n",
       "    </tr>\n",
       "    <tr>\n",
       "      <th>5</th>\n",
       "      <td>0.352088</td>\n",
       "      <td>2023-12-04 22:45:00+00:00</td>\n",
       "      <td>0</td>\n",
       "      <td>0.211442</td>\n",
       "      <td>0.296253</td>\n",
       "    </tr>\n",
       "    <tr>\n",
       "      <th>6</th>\n",
       "      <td>0.271253</td>\n",
       "      <td>2023-12-04 22:50:00+00:00</td>\n",
       "      <td>0</td>\n",
       "      <td>0.352088</td>\n",
       "      <td>0.211442</td>\n",
       "    </tr>\n",
       "    <tr>\n",
       "      <th>...</th>\n",
       "      <td>...</td>\n",
       "      <td>...</td>\n",
       "      <td>...</td>\n",
       "      <td>...</td>\n",
       "      <td>...</td>\n",
       "    </tr>\n",
       "    <tr>\n",
       "      <th>9991</th>\n",
       "      <td>0.433278</td>\n",
       "      <td>2024-01-08 14:55:00+00:00</td>\n",
       "      <td>0</td>\n",
       "      <td>0.424970</td>\n",
       "      <td>0.383699</td>\n",
       "    </tr>\n",
       "    <tr>\n",
       "      <th>9992</th>\n",
       "      <td>0.362682</td>\n",
       "      <td>2024-01-08 15:00:00+00:00</td>\n",
       "      <td>0</td>\n",
       "      <td>0.433278</td>\n",
       "      <td>0.424970</td>\n",
       "    </tr>\n",
       "    <tr>\n",
       "      <th>9993</th>\n",
       "      <td>0.400284</td>\n",
       "      <td>2024-01-08 15:05:00+00:00</td>\n",
       "      <td>0</td>\n",
       "      <td>0.362682</td>\n",
       "      <td>0.433278</td>\n",
       "    </tr>\n",
       "    <tr>\n",
       "      <th>9994</th>\n",
       "      <td>0.441543</td>\n",
       "      <td>2024-01-08 15:10:00+00:00</td>\n",
       "      <td>1</td>\n",
       "      <td>0.400284</td>\n",
       "      <td>0.362682</td>\n",
       "    </tr>\n",
       "    <tr>\n",
       "      <th>9995</th>\n",
       "      <td>0.420948</td>\n",
       "      <td>2024-01-08 15:15:00+00:00</td>\n",
       "      <td>1</td>\n",
       "      <td>0.441543</td>\n",
       "      <td>0.400284</td>\n",
       "    </tr>\n",
       "  </tbody>\n",
       "</table>\n",
       "<p>9994 rows × 5 columns</p>\n",
       "</div>"
      ],
      "text/plain": [
       "      cpu_usage                 timestamp  anomaly     lag_1     lag_2\n",
       "2      0.349599 2023-12-04 22:30:00+00:00        0  0.223023  0.217560\n",
       "3      0.296253 2023-12-04 22:35:00+00:00        0  0.349599  0.223023\n",
       "4      0.211442 2023-12-04 22:40:00+00:00        0  0.296253  0.349599\n",
       "5      0.352088 2023-12-04 22:45:00+00:00        0  0.211442  0.296253\n",
       "6      0.271253 2023-12-04 22:50:00+00:00        0  0.352088  0.211442\n",
       "...         ...                       ...      ...       ...       ...\n",
       "9991   0.433278 2024-01-08 14:55:00+00:00        0  0.424970  0.383699\n",
       "9992   0.362682 2024-01-08 15:00:00+00:00        0  0.433278  0.424970\n",
       "9993   0.400284 2024-01-08 15:05:00+00:00        0  0.362682  0.433278\n",
       "9994   0.441543 2024-01-08 15:10:00+00:00        1  0.400284  0.362682\n",
       "9995   0.420948 2024-01-08 15:15:00+00:00        1  0.441543  0.400284\n",
       "\n",
       "[9994 rows x 5 columns]"
      ]
     },
     "execution_count": 6,
     "metadata": {},
     "output_type": "execute_result"
    }
   ],
   "source": [
    "cpu_data"
   ]
  },
  {
   "cell_type": "code",
   "execution_count": 7,
   "metadata": {},
   "outputs": [
    {
     "data": {
      "text/html": [
       "<div>\n",
       "<style scoped>\n",
       "    .dataframe tbody tr th:only-of-type {\n",
       "        vertical-align: middle;\n",
       "    }\n",
       "\n",
       "    .dataframe tbody tr th {\n",
       "        vertical-align: top;\n",
       "    }\n",
       "\n",
       "    .dataframe thead th {\n",
       "        text-align: right;\n",
       "    }\n",
       "</style>\n",
       "<table border=\"1\" class=\"dataframe\">\n",
       "  <thead>\n",
       "    <tr style=\"text-align: right;\">\n",
       "      <th></th>\n",
       "      <th>cpu_usage</th>\n",
       "      <th>timestamp</th>\n",
       "      <th>anomaly</th>\n",
       "      <th>lag_1</th>\n",
       "      <th>lag_2</th>\n",
       "    </tr>\n",
       "  </thead>\n",
       "  <tbody>\n",
       "    <tr>\n",
       "      <th>2</th>\n",
       "      <td>0.349599</td>\n",
       "      <td>2023-12-04 22:30:00+00:00</td>\n",
       "      <td>0</td>\n",
       "      <td>0.223023</td>\n",
       "      <td>0.217560</td>\n",
       "    </tr>\n",
       "    <tr>\n",
       "      <th>3</th>\n",
       "      <td>0.296253</td>\n",
       "      <td>2023-12-04 22:35:00+00:00</td>\n",
       "      <td>0</td>\n",
       "      <td>0.349599</td>\n",
       "      <td>0.223023</td>\n",
       "    </tr>\n",
       "    <tr>\n",
       "      <th>4</th>\n",
       "      <td>0.211442</td>\n",
       "      <td>2023-12-04 22:40:00+00:00</td>\n",
       "      <td>0</td>\n",
       "      <td>0.296253</td>\n",
       "      <td>0.349599</td>\n",
       "    </tr>\n",
       "    <tr>\n",
       "      <th>5</th>\n",
       "      <td>0.352088</td>\n",
       "      <td>2023-12-04 22:45:00+00:00</td>\n",
       "      <td>0</td>\n",
       "      <td>0.211442</td>\n",
       "      <td>0.296253</td>\n",
       "    </tr>\n",
       "    <tr>\n",
       "      <th>6</th>\n",
       "      <td>0.271253</td>\n",
       "      <td>2023-12-04 22:50:00+00:00</td>\n",
       "      <td>0</td>\n",
       "      <td>0.352088</td>\n",
       "      <td>0.211442</td>\n",
       "    </tr>\n",
       "    <tr>\n",
       "      <th>...</th>\n",
       "      <td>...</td>\n",
       "      <td>...</td>\n",
       "      <td>...</td>\n",
       "      <td>...</td>\n",
       "      <td>...</td>\n",
       "    </tr>\n",
       "    <tr>\n",
       "      <th>9991</th>\n",
       "      <td>0.433278</td>\n",
       "      <td>2024-01-08 14:55:00+00:00</td>\n",
       "      <td>0</td>\n",
       "      <td>0.424970</td>\n",
       "      <td>0.383699</td>\n",
       "    </tr>\n",
       "    <tr>\n",
       "      <th>9992</th>\n",
       "      <td>0.362682</td>\n",
       "      <td>2024-01-08 15:00:00+00:00</td>\n",
       "      <td>0</td>\n",
       "      <td>0.433278</td>\n",
       "      <td>0.424970</td>\n",
       "    </tr>\n",
       "    <tr>\n",
       "      <th>9993</th>\n",
       "      <td>0.400284</td>\n",
       "      <td>2024-01-08 15:05:00+00:00</td>\n",
       "      <td>0</td>\n",
       "      <td>0.362682</td>\n",
       "      <td>0.433278</td>\n",
       "    </tr>\n",
       "    <tr>\n",
       "      <th>9994</th>\n",
       "      <td>0.441543</td>\n",
       "      <td>2024-01-08 15:10:00+00:00</td>\n",
       "      <td>1</td>\n",
       "      <td>0.400284</td>\n",
       "      <td>0.362682</td>\n",
       "    </tr>\n",
       "    <tr>\n",
       "      <th>9995</th>\n",
       "      <td>0.420948</td>\n",
       "      <td>2024-01-08 15:15:00+00:00</td>\n",
       "      <td>1</td>\n",
       "      <td>0.441543</td>\n",
       "      <td>0.400284</td>\n",
       "    </tr>\n",
       "  </tbody>\n",
       "</table>\n",
       "<p>9994 rows × 5 columns</p>\n",
       "</div>"
      ],
      "text/plain": [
       "      cpu_usage                 timestamp  anomaly     lag_1     lag_2\n",
       "2      0.349599 2023-12-04 22:30:00+00:00        0  0.223023  0.217560\n",
       "3      0.296253 2023-12-04 22:35:00+00:00        0  0.349599  0.223023\n",
       "4      0.211442 2023-12-04 22:40:00+00:00        0  0.296253  0.349599\n",
       "5      0.352088 2023-12-04 22:45:00+00:00        0  0.211442  0.296253\n",
       "6      0.271253 2023-12-04 22:50:00+00:00        0  0.352088  0.211442\n",
       "...         ...                       ...      ...       ...       ...\n",
       "9991   0.433278 2024-01-08 14:55:00+00:00        0  0.424970  0.383699\n",
       "9992   0.362682 2024-01-08 15:00:00+00:00        0  0.433278  0.424970\n",
       "9993   0.400284 2024-01-08 15:05:00+00:00        0  0.362682  0.433278\n",
       "9994   0.441543 2024-01-08 15:10:00+00:00        1  0.400284  0.362682\n",
       "9995   0.420948 2024-01-08 15:15:00+00:00        1  0.441543  0.400284\n",
       "\n",
       "[9994 rows x 5 columns]"
      ]
     },
     "execution_count": 7,
     "metadata": {},
     "output_type": "execute_result"
    }
   ],
   "source": [
    "cpu_data"
   ]
  },
  {
   "cell_type": "code",
   "execution_count": 8,
   "metadata": {},
   "outputs": [],
   "source": [
    "X = cpu_data[['cpu_usage', 'lag_1', 'lag_2']]\n",
    "y = cpu_data['anomaly']"
   ]
  },
  {
   "cell_type": "code",
   "execution_count": 9,
   "metadata": {},
   "outputs": [
    {
     "name": "stderr",
     "output_type": "stream",
     "text": [
      "C:\\Users\\HP\\AppData\\Local\\Temp\\ipykernel_7852\\1242326204.py:3: FutureWarning: The behavior of `series[i:j]` with an integer-dtype index is deprecated. In a future version, this will be treated as *label-based* indexing, consistent with e.g. `series[i]` lookups. To retain the old behavior, use `series.iloc[i:j]`. To get the future behavior, use `series.loc[i:j]`.\n",
      "  y_train = y[:int(0.7*len(y))]\n",
      "C:\\Users\\HP\\AppData\\Local\\Temp\\ipykernel_7852\\1242326204.py:4: FutureWarning: The behavior of `series[i:j]` with an integer-dtype index is deprecated. In a future version, this will be treated as *label-based* indexing, consistent with e.g. `series[i]` lookups. To retain the old behavior, use `series.iloc[i:j]`. To get the future behavior, use `series.loc[i:j]`.\n",
      "  y_test = y[int(0.7*len(y)):]\n"
     ]
    },
    {
     "data": {
      "text/plain": [
       "(6995, 3)"
      ]
     },
     "execution_count": 9,
     "metadata": {},
     "output_type": "execute_result"
    }
   ],
   "source": [
    "X_train = X[:int(0.7*len(X))]\n",
    "X_test = X[int(0.7*len(X)):]\n",
    "y_train = y[:int(0.7*len(y))]\n",
    "y_test = y[int(0.7*len(y)):]\n",
    "\n",
    "X_train = np.array(X_train)\n",
    "X_test = np.array(X_test)\n",
    "y_train = np.array(y_train)\n",
    "y_test = np.array(y_test)\n",
    "\n",
    "X_train.shape\n"
   ]
  },
  {
   "cell_type": "code",
   "execution_count": 13,
   "metadata": {},
   "outputs": [],
   "source": [
    "model = tf.keras.models.Sequential([\n",
    "    tf.keras.layers.Dense(64, input_shape=(None,3), activation='relu'),\n",
    "    tf.keras.layers.Dense(32, activation='relu'),\n",
    "    tf.keras.layers.Dense(1, activation='sigmoid')\n",
    "])"
   ]
  },
  {
   "cell_type": "code",
   "execution_count": 14,
   "metadata": {},
   "outputs": [],
   "source": [
    "model.compile(optimizer='adam', loss='binary_crossentropy', metrics=['accuracy'])"
   ]
  },
  {
   "cell_type": "code",
   "execution_count": 15,
   "metadata": {},
   "outputs": [
    {
     "name": "stdout",
     "output_type": "stream",
     "text": [
      "Epoch 1/20\n",
      "WARNING:tensorflow:Model was constructed with shape (None, None, 3) for input KerasTensor(type_spec=TensorSpec(shape=(None, None, 3), dtype=tf.float32, name='dense_3_input'), name='dense_3_input', description=\"created by layer 'dense_3_input'\"), but it was called on an input with incompatible shape (None, 3).\n"
     ]
    },
    {
     "name": "stdout",
     "output_type": "stream",
     "text": [
      "WARNING:tensorflow:Model was constructed with shape (None, None, 3) for input KerasTensor(type_spec=TensorSpec(shape=(None, None, 3), dtype=tf.float32, name='dense_3_input'), name='dense_3_input', description=\"created by layer 'dense_3_input'\"), but it was called on an input with incompatible shape (None, 3).\n",
      "217/219 [============================>.] - ETA: 0s - loss: 0.1738 - accuracy: 0.9824WARNING:tensorflow:Model was constructed with shape (None, None, 3) for input KerasTensor(type_spec=TensorSpec(shape=(None, None, 3), dtype=tf.float32, name='dense_3_input'), name='dense_3_input', description=\"created by layer 'dense_3_input'\"), but it was called on an input with incompatible shape (None, 3).\n",
      "219/219 [==============================] - 2s 4ms/step - loss: 0.1734 - accuracy: 0.9824 - val_loss: 0.0663 - val_accuracy: 0.9890\n",
      "Epoch 2/20\n",
      "219/219 [==============================] - 1s 2ms/step - loss: 0.0725 - accuracy: 0.9871 - val_loss: 0.0661 - val_accuracy: 0.9890\n",
      "Epoch 3/20\n",
      "219/219 [==============================] - 1s 2ms/step - loss: 0.0670 - accuracy: 0.9871 - val_loss: 0.0562 - val_accuracy: 0.9890\n",
      "Epoch 4/20\n",
      "219/219 [==============================] - 1s 2ms/step - loss: 0.0576 - accuracy: 0.9871 - val_loss: 0.0471 - val_accuracy: 0.9890\n",
      "Epoch 5/20\n",
      "219/219 [==============================] - 1s 2ms/step - loss: 0.0441 - accuracy: 0.9871 - val_loss: 0.0376 - val_accuracy: 0.9913\n",
      "Epoch 6/20\n",
      "219/219 [==============================] - 1s 2ms/step - loss: 0.0305 - accuracy: 0.9901 - val_loss: 0.0266 - val_accuracy: 0.9957\n",
      "Epoch 7/20\n",
      "219/219 [==============================] - 1s 2ms/step - loss: 0.0230 - accuracy: 0.9933 - val_loss: 0.0201 - val_accuracy: 0.9970\n",
      "Epoch 8/20\n",
      "219/219 [==============================] - 1s 2ms/step - loss: 0.0189 - accuracy: 0.9947 - val_loss: 0.0143 - val_accuracy: 0.9973\n",
      "Epoch 9/20\n",
      "219/219 [==============================] - 1s 2ms/step - loss: 0.0165 - accuracy: 0.9951 - val_loss: 0.0118 - val_accuracy: 0.9967\n",
      "Epoch 10/20\n",
      "219/219 [==============================] - 1s 2ms/step - loss: 0.0151 - accuracy: 0.9960 - val_loss: 0.0122 - val_accuracy: 0.9987\n",
      "Epoch 11/20\n",
      "219/219 [==============================] - 1s 2ms/step - loss: 0.0133 - accuracy: 0.9963 - val_loss: 0.0168 - val_accuracy: 0.9990\n",
      "Epoch 12/20\n",
      "219/219 [==============================] - 1s 2ms/step - loss: 0.0133 - accuracy: 0.9960 - val_loss: 0.0124 - val_accuracy: 0.9990\n",
      "Epoch 13/20\n",
      "219/219 [==============================] - 1s 2ms/step - loss: 0.0129 - accuracy: 0.9964 - val_loss: 0.0090 - val_accuracy: 0.9987\n",
      "Epoch 14/20\n",
      "219/219 [==============================] - 1s 3ms/step - loss: 0.0122 - accuracy: 0.9963 - val_loss: 0.0172 - val_accuracy: 0.9983\n",
      "Epoch 15/20\n",
      "219/219 [==============================] - 1s 3ms/step - loss: 0.0122 - accuracy: 0.9963 - val_loss: 0.0086 - val_accuracy: 0.9987\n",
      "Epoch 16/20\n",
      "219/219 [==============================] - 1s 2ms/step - loss: 0.0119 - accuracy: 0.9969 - val_loss: 0.0093 - val_accuracy: 0.9990\n",
      "Epoch 17/20\n",
      "219/219 [==============================] - 1s 2ms/step - loss: 0.0114 - accuracy: 0.9963 - val_loss: 0.0086 - val_accuracy: 0.9987\n",
      "Epoch 18/20\n",
      "219/219 [==============================] - 1s 3ms/step - loss: 0.0118 - accuracy: 0.9963 - val_loss: 0.0085 - val_accuracy: 0.9987\n",
      "Epoch 19/20\n",
      "219/219 [==============================] - 1s 3ms/step - loss: 0.0121 - accuracy: 0.9967 - val_loss: 0.0084 - val_accuracy: 0.9987\n",
      "Epoch 20/20\n",
      "219/219 [==============================] - 1s 4ms/step - loss: 0.0111 - accuracy: 0.9967 - val_loss: 0.0106 - val_accuracy: 0.9973\n"
     ]
    },
    {
     "data": {
      "text/plain": [
       "<keras.callbacks.History at 0x25ccd22ae60>"
      ]
     },
     "execution_count": 15,
     "metadata": {},
     "output_type": "execute_result"
    }
   ],
   "source": [
    "model.fit(X_train, y_train, epochs=20, validation_data=(X_test, y_test))"
   ]
  },
  {
   "cell_type": "code",
   "execution_count": 19,
   "metadata": {},
   "outputs": [
    {
     "name": "stdout",
     "output_type": "stream",
     "text": [
      "94/94 [==============================] - 0s 2ms/step\n"
     ]
    }
   ],
   "source": [
    "predict = model.predict(X_test)\n",
    "predict = np.where(predict > 0.5, 1, 0)"
   ]
  },
  {
   "cell_type": "code",
   "execution_count": 20,
   "metadata": {},
   "outputs": [],
   "source": [
    "from sklearn.metrics import classification_report"
   ]
  },
  {
   "cell_type": "code",
   "execution_count": 21,
   "metadata": {},
   "outputs": [
    {
     "name": "stdout",
     "output_type": "stream",
     "text": [
      "              precision    recall  f1-score   support\n",
      "\n",
      "           0       1.00      1.00      1.00      2966\n",
      "           1       1.00      0.76      0.86        33\n",
      "\n",
      "    accuracy                           1.00      2999\n",
      "   macro avg       1.00      0.88      0.93      2999\n",
      "weighted avg       1.00      1.00      1.00      2999\n",
      "\n"
     ]
    }
   ],
   "source": [
    "print(classification_report(y_test, predict))"
   ]
  },
  {
   "cell_type": "code",
   "execution_count": 39,
   "metadata": {},
   "outputs": [],
   "source": [
    "model = tf.keras.models.Sequential([\n",
    "    tf.keras.layers.LSTM(64, input_shape=(3,1), return_sequences=True),\n",
    "    tf.keras.layers.LSTM(32),\n",
    "    tf.keras.layers.Dense(1, activation='sigmoid')\n",
    "])"
   ]
  },
  {
   "cell_type": "code",
   "execution_count": 40,
   "metadata": {},
   "outputs": [],
   "source": [
    "model.compile(optimizer='adam', loss='binary_crossentropy', metrics=['accuracy'])"
   ]
  },
  {
   "cell_type": "code",
   "execution_count": 41,
   "metadata": {},
   "outputs": [
    {
     "name": "stdout",
     "output_type": "stream",
     "text": [
      "Epoch 1/20\n"
     ]
    },
    {
     "name": "stdout",
     "output_type": "stream",
     "text": [
      "219/219 [==============================] - 6s 10ms/step - loss: 0.1580 - accuracy: 0.9826 - val_loss: 0.0648 - val_accuracy: 0.9890\n",
      "Epoch 2/20\n",
      "219/219 [==============================] - 1s 6ms/step - loss: 0.0730 - accuracy: 0.9871 - val_loss: 0.0629 - val_accuracy: 0.9890\n",
      "Epoch 3/20\n",
      "219/219 [==============================] - 1s 6ms/step - loss: 0.0705 - accuracy: 0.9871 - val_loss: 0.0643 - val_accuracy: 0.9890\n",
      "Epoch 4/20\n",
      "219/219 [==============================] - 1s 6ms/step - loss: 0.0640 - accuracy: 0.9871 - val_loss: 0.0400 - val_accuracy: 0.9893\n",
      "Epoch 5/20\n",
      "219/219 [==============================] - 1s 7ms/step - loss: 0.0465 - accuracy: 0.9884 - val_loss: 0.0248 - val_accuracy: 0.9933\n",
      "Epoch 6/20\n",
      "219/219 [==============================] - 1s 6ms/step - loss: 0.0429 - accuracy: 0.9910 - val_loss: 0.0252 - val_accuracy: 0.9950\n",
      "Epoch 7/20\n",
      "219/219 [==============================] - 1s 6ms/step - loss: 0.0411 - accuracy: 0.9913 - val_loss: 0.0219 - val_accuracy: 0.9950\n",
      "Epoch 8/20\n",
      "219/219 [==============================] - 1s 6ms/step - loss: 0.0410 - accuracy: 0.9916 - val_loss: 0.0464 - val_accuracy: 0.9960\n",
      "Epoch 9/20\n",
      "219/219 [==============================] - 1s 6ms/step - loss: 0.0394 - accuracy: 0.9921 - val_loss: 0.0337 - val_accuracy: 0.9957\n",
      "Epoch 10/20\n",
      "219/219 [==============================] - 1s 6ms/step - loss: 0.0379 - accuracy: 0.9920 - val_loss: 0.1685 - val_accuracy: 0.9133\n",
      "Epoch 11/20\n",
      "219/219 [==============================] - 1s 6ms/step - loss: 0.0375 - accuracy: 0.9921 - val_loss: 0.1304 - val_accuracy: 0.9446\n",
      "Epoch 12/20\n",
      "219/219 [==============================] - 1s 7ms/step - loss: 0.0362 - accuracy: 0.9926 - val_loss: 0.0238 - val_accuracy: 0.9957\n",
      "Epoch 13/20\n",
      "219/219 [==============================] - 1s 7ms/step - loss: 0.0359 - accuracy: 0.9921 - val_loss: 0.0870 - val_accuracy: 0.9673\n",
      "Epoch 14/20\n",
      "219/219 [==============================] - 1s 7ms/step - loss: 0.0347 - accuracy: 0.9923 - val_loss: 0.0213 - val_accuracy: 0.9963\n",
      "Epoch 15/20\n",
      "219/219 [==============================] - 1s 6ms/step - loss: 0.0342 - accuracy: 0.9926 - val_loss: 0.0284 - val_accuracy: 0.9957\n",
      "Epoch 16/20\n",
      "219/219 [==============================] - 1s 6ms/step - loss: 0.0337 - accuracy: 0.9926 - val_loss: 0.0254 - val_accuracy: 0.9963\n",
      "Epoch 17/20\n",
      "219/219 [==============================] - 1s 6ms/step - loss: 0.0331 - accuracy: 0.9926 - val_loss: 0.0976 - val_accuracy: 0.9647\n",
      "Epoch 18/20\n",
      "219/219 [==============================] - 1s 6ms/step - loss: 0.0310 - accuracy: 0.9927 - val_loss: 0.0351 - val_accuracy: 0.9927\n",
      "Epoch 19/20\n",
      "219/219 [==============================] - 1s 6ms/step - loss: 0.0302 - accuracy: 0.9929 - val_loss: 0.1036 - val_accuracy: 0.9583\n",
      "Epoch 20/20\n",
      "219/219 [==============================] - 1s 6ms/step - loss: 0.0289 - accuracy: 0.9927 - val_loss: 0.0153 - val_accuracy: 0.9980\n"
     ]
    },
    {
     "data": {
      "text/plain": [
       "<keras.src.callbacks.History at 0x21083dd3040>"
      ]
     },
     "execution_count": 41,
     "metadata": {},
     "output_type": "execute_result"
    }
   ],
   "source": [
    "model.fit(X_train, y_train, epochs=20, validation_data=(X_test, y_test))"
   ]
  },
  {
   "cell_type": "code",
   "execution_count": 15,
   "metadata": {},
   "outputs": [],
   "source": [
    "model.save('cpu_model_2_2.h5')"
   ]
  },
  {
   "cell_type": "code",
   "execution_count": null,
   "metadata": {},
   "outputs": [],
   "source": []
  }
 ],
 "metadata": {
  "kernelspec": {
   "display_name": "Python 3",
   "language": "python",
   "name": "python3"
  },
  "language_info": {
   "codemirror_mode": {
    "name": "ipython",
    "version": 3
   },
   "file_extension": ".py",
   "mimetype": "text/x-python",
   "name": "python",
   "nbconvert_exporter": "python",
   "pygments_lexer": "ipython3",
   "version": "3.10.7"
  }
 },
 "nbformat": 4,
 "nbformat_minor": 2
}
