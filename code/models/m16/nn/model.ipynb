{
 "cells": [
  {
   "cell_type": "code",
   "execution_count": 2,
   "metadata": {},
   "outputs": [
    {
     "name": "stdout",
     "output_type": "stream",
     "text": [
      "WARNING:tensorflow:From c:\\Users\\HP\\AppData\\Local\\Programs\\Python\\Python310\\lib\\site-packages\\keras\\src\\losses.py:2976: The name tf.losses.sparse_softmax_cross_entropy is deprecated. Please use tf.compat.v1.losses.sparse_softmax_cross_entropy instead.\n",
      "\n"
     ]
    }
   ],
   "source": [
    "#neural network model\n",
    "\n",
    "import numpy as np\n",
    "import pandas as pd\n",
    "import matplotlib.pyplot as plt\n",
    "import seaborn as sns\n",
    "import tensorflow as tf\n",
    "from sklearn.preprocessing import StandardScaler\n"
   ]
  },
  {
   "cell_type": "code",
   "execution_count": 2,
   "metadata": {},
   "outputs": [],
   "source": [
    "df = pd.read_csv('../../../data/m16_cpu_usage_v2_10minutes_anomaly_v3_with_lag.csv')"
   ]
  },
  {
   "cell_type": "code",
   "execution_count": 3,
   "metadata": {},
   "outputs": [],
   "source": [
    "df['time'] = pd.to_datetime(df['time'])"
   ]
  },
  {
   "cell_type": "code",
   "execution_count": 4,
   "metadata": {},
   "outputs": [
    {
     "data": {
      "text/html": [
       "<div>\n",
       "<style scoped>\n",
       "    .dataframe tbody tr th:only-of-type {\n",
       "        vertical-align: middle;\n",
       "    }\n",
       "\n",
       "    .dataframe tbody tr th {\n",
       "        vertical-align: top;\n",
       "    }\n",
       "\n",
       "    .dataframe thead th {\n",
       "        text-align: right;\n",
       "    }\n",
       "</style>\n",
       "<table border=\"1\" class=\"dataframe\">\n",
       "  <thead>\n",
       "    <tr style=\"text-align: right;\">\n",
       "      <th></th>\n",
       "      <th>time</th>\n",
       "      <th>machine_id</th>\n",
       "      <th>cpu_util</th>\n",
       "      <th>anomaly</th>\n",
       "      <th>lag_1</th>\n",
       "      <th>lag_2</th>\n",
       "    </tr>\n",
       "  </thead>\n",
       "  <tbody>\n",
       "    <tr>\n",
       "      <th>0</th>\n",
       "      <td>2017-10-03 00:20:00</td>\n",
       "      <td>m16</td>\n",
       "      <td>0.253333</td>\n",
       "      <td>0</td>\n",
       "      <td>0.340000</td>\n",
       "      <td>0.300000</td>\n",
       "    </tr>\n",
       "    <tr>\n",
       "      <th>1</th>\n",
       "      <td>2017-10-03 00:30:00</td>\n",
       "      <td>m16</td>\n",
       "      <td>0.200000</td>\n",
       "      <td>0</td>\n",
       "      <td>0.253333</td>\n",
       "      <td>0.340000</td>\n",
       "    </tr>\n",
       "    <tr>\n",
       "      <th>2</th>\n",
       "      <td>2017-10-03 00:40:00</td>\n",
       "      <td>m16</td>\n",
       "      <td>0.200000</td>\n",
       "      <td>0</td>\n",
       "      <td>0.200000</td>\n",
       "      <td>0.253333</td>\n",
       "    </tr>\n",
       "    <tr>\n",
       "      <th>3</th>\n",
       "      <td>2017-10-03 00:50:00</td>\n",
       "      <td>m16</td>\n",
       "      <td>0.248333</td>\n",
       "      <td>0</td>\n",
       "      <td>0.200000</td>\n",
       "      <td>0.200000</td>\n",
       "    </tr>\n",
       "    <tr>\n",
       "      <th>4</th>\n",
       "      <td>2017-10-03 01:00:00</td>\n",
       "      <td>m16</td>\n",
       "      <td>0.200000</td>\n",
       "      <td>0</td>\n",
       "      <td>0.248333</td>\n",
       "      <td>0.200000</td>\n",
       "    </tr>\n",
       "    <tr>\n",
       "      <th>...</th>\n",
       "      <td>...</td>\n",
       "      <td>...</td>\n",
       "      <td>...</td>\n",
       "      <td>...</td>\n",
       "      <td>...</td>\n",
       "      <td>...</td>\n",
       "    </tr>\n",
       "    <tr>\n",
       "      <th>3246</th>\n",
       "      <td>2017-10-25 13:20:00</td>\n",
       "      <td>m16</td>\n",
       "      <td>0.285000</td>\n",
       "      <td>0</td>\n",
       "      <td>0.200000</td>\n",
       "      <td>0.270000</td>\n",
       "    </tr>\n",
       "    <tr>\n",
       "      <th>3247</th>\n",
       "      <td>2017-10-25 13:30:00</td>\n",
       "      <td>m16</td>\n",
       "      <td>0.456667</td>\n",
       "      <td>0</td>\n",
       "      <td>0.285000</td>\n",
       "      <td>0.200000</td>\n",
       "    </tr>\n",
       "    <tr>\n",
       "      <th>3248</th>\n",
       "      <td>2017-10-25 13:40:00</td>\n",
       "      <td>m16</td>\n",
       "      <td>0.200000</td>\n",
       "      <td>0</td>\n",
       "      <td>0.456667</td>\n",
       "      <td>0.285000</td>\n",
       "    </tr>\n",
       "    <tr>\n",
       "      <th>3249</th>\n",
       "      <td>2017-10-25 13:50:00</td>\n",
       "      <td>m16</td>\n",
       "      <td>0.263333</td>\n",
       "      <td>0</td>\n",
       "      <td>0.200000</td>\n",
       "      <td>0.456667</td>\n",
       "    </tr>\n",
       "    <tr>\n",
       "      <th>3250</th>\n",
       "      <td>2017-10-25 14:00:00</td>\n",
       "      <td>m16</td>\n",
       "      <td>0.426667</td>\n",
       "      <td>0</td>\n",
       "      <td>0.263333</td>\n",
       "      <td>0.200000</td>\n",
       "    </tr>\n",
       "  </tbody>\n",
       "</table>\n",
       "<p>3251 rows × 6 columns</p>\n",
       "</div>"
      ],
      "text/plain": [
       "                    time machine_id  cpu_util  anomaly     lag_1     lag_2\n",
       "0    2017-10-03 00:20:00        m16  0.253333        0  0.340000  0.300000\n",
       "1    2017-10-03 00:30:00        m16  0.200000        0  0.253333  0.340000\n",
       "2    2017-10-03 00:40:00        m16  0.200000        0  0.200000  0.253333\n",
       "3    2017-10-03 00:50:00        m16  0.248333        0  0.200000  0.200000\n",
       "4    2017-10-03 01:00:00        m16  0.200000        0  0.248333  0.200000\n",
       "...                  ...        ...       ...      ...       ...       ...\n",
       "3246 2017-10-25 13:20:00        m16  0.285000        0  0.200000  0.270000\n",
       "3247 2017-10-25 13:30:00        m16  0.456667        0  0.285000  0.200000\n",
       "3248 2017-10-25 13:40:00        m16  0.200000        0  0.456667  0.285000\n",
       "3249 2017-10-25 13:50:00        m16  0.263333        0  0.200000  0.456667\n",
       "3250 2017-10-25 14:00:00        m16  0.426667        0  0.263333  0.200000\n",
       "\n",
       "[3251 rows x 6 columns]"
      ]
     },
     "execution_count": 4,
     "metadata": {},
     "output_type": "execute_result"
    }
   ],
   "source": [
    "df"
   ]
  },
  {
   "cell_type": "code",
   "execution_count": 5,
   "metadata": {},
   "outputs": [],
   "source": [
    "X = df[['cpu_util', 'lag_1', 'lag_2']]\n",
    "y = df['anomaly']"
   ]
  },
  {
   "cell_type": "code",
   "execution_count": 6,
   "metadata": {},
   "outputs": [],
   "source": [
    "X_train = X[:int(0.8*len(X))]\n",
    "X_test = X[int(0.8*len(X)):]\n",
    "y_train = y[:int(0.8*len(y))]\n",
    "y_test = y[int(0.8*len(y)):]\n",
    "\n",
    "X_train = np.array(X_train)\n",
    "X_test = np.array(X_test)\n",
    "y_train = np.array(y_train)\n",
    "y_test = np.array(y_test)"
   ]
  },
  {
   "cell_type": "code",
   "execution_count": 7,
   "metadata": {},
   "outputs": [],
   "source": [
    "# scaler = StandardScaler()\n",
    "# X_train_scaled = scaler.fit_transform(X_train)\n",
    "# X_test_scaled = scaler.transform(X_test)\n",
    "# X_train_scaled"
   ]
  },
  {
   "cell_type": "code",
   "execution_count": 19,
   "metadata": {},
   "outputs": [],
   "source": [
    "model = tf.keras.models.Sequential([\n",
    "    tf.keras.layers.LSTM(64, input_shape=(3, 1), return_sequences=True),\n",
    "    tf.keras.layers.LSTM(32),\n",
    "    tf.keras.layers.Dense(1, activation='sigmoid')\n",
    "])"
   ]
  },
  {
   "cell_type": "code",
   "execution_count": 20,
   "metadata": {},
   "outputs": [],
   "source": [
    "model.compile(optimizer='adam', loss='binary_crossentropy', metrics=['accuracy'])"
   ]
  },
  {
   "cell_type": "code",
   "execution_count": 21,
   "metadata": {},
   "outputs": [
    {
     "name": "stdout",
     "output_type": "stream",
     "text": [
      "Epoch 1/10\n"
     ]
    },
    {
     "name": "stdout",
     "output_type": "stream",
     "text": [
      "82/82 [==============================] - 6s 20ms/step - loss: 0.2623 - accuracy: 0.9446 - val_loss: 0.2200 - val_accuracy: 0.9892\n",
      "Epoch 2/10\n",
      "82/82 [==============================] - 1s 7ms/step - loss: 0.2070 - accuracy: 0.9446 - val_loss: 0.0759 - val_accuracy: 0.9892\n",
      "Epoch 3/10\n",
      "82/82 [==============================] - 1s 7ms/step - loss: 0.1982 - accuracy: 0.9446 - val_loss: 0.0568 - val_accuracy: 0.9892\n",
      "Epoch 4/10\n",
      "82/82 [==============================] - 1s 7ms/step - loss: 0.1877 - accuracy: 0.9450 - val_loss: 0.0415 - val_accuracy: 0.9892\n",
      "Epoch 5/10\n",
      "82/82 [==============================] - 1s 7ms/step - loss: 0.1699 - accuracy: 0.9454 - val_loss: 0.0399 - val_accuracy: 0.9892\n",
      "Epoch 6/10\n",
      "82/82 [==============================] - 1s 7ms/step - loss: 0.1645 - accuracy: 0.9492 - val_loss: 0.0307 - val_accuracy: 0.9923\n",
      "Epoch 7/10\n",
      "82/82 [==============================] - 1s 7ms/step - loss: 0.1590 - accuracy: 0.9500 - val_loss: 0.0314 - val_accuracy: 0.9908\n",
      "Epoch 8/10\n",
      "82/82 [==============================] - 1s 6ms/step - loss: 0.1532 - accuracy: 0.9504 - val_loss: 0.0295 - val_accuracy: 0.9939\n",
      "Epoch 9/10\n",
      "82/82 [==============================] - 1s 7ms/step - loss: 0.1530 - accuracy: 0.9519 - val_loss: 0.0341 - val_accuracy: 0.9908\n",
      "Epoch 10/10\n",
      "82/82 [==============================] - 1s 6ms/step - loss: 0.1497 - accuracy: 0.9535 - val_loss: 0.0338 - val_accuracy: 0.9908\n"
     ]
    },
    {
     "data": {
      "text/plain": [
       "<keras.callbacks.History at 0x2a51952fac0>"
      ]
     },
     "execution_count": 21,
     "metadata": {},
     "output_type": "execute_result"
    }
   ],
   "source": [
    "model.fit(X_train, y_train, epochs=10, batch_size=32, validation_data=(X_test, y_test))"
   ]
  },
  {
   "cell_type": "code",
   "execution_count": 45,
   "metadata": {},
   "outputs": [
    {
     "name": "stdout",
     "output_type": "stream",
     "text": [
      "1/1 [==============================] - 0s 53ms/step\n"
     ]
    },
    {
     "data": {
      "text/plain": [
       "array([[0.54669684]], dtype=float32)"
      ]
     },
     "execution_count": 45,
     "metadata": {},
     "output_type": "execute_result"
    }
   ],
   "source": [
    "predict = model.predict([[100.123, 61.213, 53.123]])\n",
    "predict"
   ]
  },
  {
   "cell_type": "code",
   "execution_count": 23,
   "metadata": {},
   "outputs": [
    {
     "name": "stdout",
     "output_type": "stream",
     "text": [
      "anomaly\n"
     ]
    }
   ],
   "source": [
    "if predict > 0.52:\n",
    "    print(\"anomaly\")\n",
    "else:\n",
    "    print(\"normal\")"
   ]
  },
  {
   "cell_type": "code",
   "execution_count": 26,
   "metadata": {},
   "outputs": [],
   "source": [
    "model.save('model.h5')"
   ]
  },
  {
   "cell_type": "code",
   "execution_count": 3,
   "metadata": {},
   "outputs": [],
   "source": [
    "\n",
    "df_test = pd.read_csv('../../generated_data/generated_cpu_data_test.csv')"
   ]
  },
  {
   "cell_type": "code",
   "execution_count": 4,
   "metadata": {},
   "outputs": [
    {
     "data": {
      "text/html": [
       "<div>\n",
       "<style scoped>\n",
       "    .dataframe tbody tr th:only-of-type {\n",
       "        vertical-align: middle;\n",
       "    }\n",
       "\n",
       "    .dataframe tbody tr th {\n",
       "        vertical-align: top;\n",
       "    }\n",
       "\n",
       "    .dataframe thead th {\n",
       "        text-align: right;\n",
       "    }\n",
       "</style>\n",
       "<table border=\"1\" class=\"dataframe\">\n",
       "  <thead>\n",
       "    <tr style=\"text-align: right;\">\n",
       "      <th></th>\n",
       "      <th>cpu_util</th>\n",
       "      <th>date</th>\n",
       "    </tr>\n",
       "  </thead>\n",
       "  <tbody>\n",
       "    <tr>\n",
       "      <th>0</th>\n",
       "      <td>66.834766</td>\n",
       "      <td>2023-07-25 00:03:06.466</td>\n",
       "    </tr>\n",
       "    <tr>\n",
       "      <th>1</th>\n",
       "      <td>82.067813</td>\n",
       "      <td>2023-07-25 00:08:06.466</td>\n",
       "    </tr>\n",
       "    <tr>\n",
       "      <th>2</th>\n",
       "      <td>100.895190</td>\n",
       "      <td>2023-07-25 00:13:06.466</td>\n",
       "    </tr>\n",
       "    <tr>\n",
       "      <th>3</th>\n",
       "      <td>73.259342</td>\n",
       "      <td>2023-07-25 00:18:06.466</td>\n",
       "    </tr>\n",
       "    <tr>\n",
       "      <th>4</th>\n",
       "      <td>82.504274</td>\n",
       "      <td>2023-07-25 00:23:06.466</td>\n",
       "    </tr>\n",
       "    <tr>\n",
       "      <th>...</th>\n",
       "      <td>...</td>\n",
       "      <td>...</td>\n",
       "    </tr>\n",
       "    <tr>\n",
       "      <th>1435</th>\n",
       "      <td>17.553220</td>\n",
       "      <td>2023-07-29 23:38:06.568</td>\n",
       "    </tr>\n",
       "    <tr>\n",
       "      <th>1436</th>\n",
       "      <td>36.001713</td>\n",
       "      <td>2023-07-29 23:43:06.568</td>\n",
       "    </tr>\n",
       "    <tr>\n",
       "      <th>1437</th>\n",
       "      <td>21.256935</td>\n",
       "      <td>2023-07-29 23:48:06.568</td>\n",
       "    </tr>\n",
       "    <tr>\n",
       "      <th>1438</th>\n",
       "      <td>24.075016</td>\n",
       "      <td>2023-07-29 23:53:06.568</td>\n",
       "    </tr>\n",
       "    <tr>\n",
       "      <th>1439</th>\n",
       "      <td>14.962631</td>\n",
       "      <td>2023-07-29 23:58:06.568</td>\n",
       "    </tr>\n",
       "  </tbody>\n",
       "</table>\n",
       "<p>1440 rows × 2 columns</p>\n",
       "</div>"
      ],
      "text/plain": [
       "        cpu_util                     date\n",
       "0      66.834766  2023-07-25 00:03:06.466\n",
       "1      82.067813  2023-07-25 00:08:06.466\n",
       "2     100.895190  2023-07-25 00:13:06.466\n",
       "3      73.259342  2023-07-25 00:18:06.466\n",
       "4      82.504274  2023-07-25 00:23:06.466\n",
       "...          ...                      ...\n",
       "1435   17.553220  2023-07-29 23:38:06.568\n",
       "1436   36.001713  2023-07-29 23:43:06.568\n",
       "1437   21.256935  2023-07-29 23:48:06.568\n",
       "1438   24.075016  2023-07-29 23:53:06.568\n",
       "1439   14.962631  2023-07-29 23:58:06.568\n",
       "\n",
       "[1440 rows x 2 columns]"
      ]
     },
     "execution_count": 4,
     "metadata": {},
     "output_type": "execute_result"
    }
   ],
   "source": [
    "df_test"
   ]
  },
  {
   "cell_type": "code",
   "execution_count": 6,
   "metadata": {},
   "outputs": [],
   "source": [
    "#add lag\n",
    "num_lags = 2\n",
    "for i in range(1, num_lags+1):\n",
    "    df_test['lag_{}'.format(i)] = df_test['cpu_util'].shift(i)\n",
    "    \n",
    "df_test = df_test.dropna()"
   ]
  },
  {
   "cell_type": "code",
   "execution_count": 7,
   "metadata": {},
   "outputs": [
    {
     "data": {
      "text/html": [
       "<div>\n",
       "<style scoped>\n",
       "    .dataframe tbody tr th:only-of-type {\n",
       "        vertical-align: middle;\n",
       "    }\n",
       "\n",
       "    .dataframe tbody tr th {\n",
       "        vertical-align: top;\n",
       "    }\n",
       "\n",
       "    .dataframe thead th {\n",
       "        text-align: right;\n",
       "    }\n",
       "</style>\n",
       "<table border=\"1\" class=\"dataframe\">\n",
       "  <thead>\n",
       "    <tr style=\"text-align: right;\">\n",
       "      <th></th>\n",
       "      <th>cpu_util</th>\n",
       "      <th>date</th>\n",
       "      <th>lag_1</th>\n",
       "      <th>lag_2</th>\n",
       "    </tr>\n",
       "  </thead>\n",
       "  <tbody>\n",
       "    <tr>\n",
       "      <th>2</th>\n",
       "      <td>100.895190</td>\n",
       "      <td>2023-07-25 00:13:06.466</td>\n",
       "      <td>82.067813</td>\n",
       "      <td>66.834766</td>\n",
       "    </tr>\n",
       "    <tr>\n",
       "      <th>3</th>\n",
       "      <td>73.259342</td>\n",
       "      <td>2023-07-25 00:18:06.466</td>\n",
       "      <td>100.895190</td>\n",
       "      <td>82.067813</td>\n",
       "    </tr>\n",
       "    <tr>\n",
       "      <th>4</th>\n",
       "      <td>82.504274</td>\n",
       "      <td>2023-07-25 00:23:06.466</td>\n",
       "      <td>73.259342</td>\n",
       "      <td>100.895190</td>\n",
       "    </tr>\n",
       "    <tr>\n",
       "      <th>5</th>\n",
       "      <td>62.700953</td>\n",
       "      <td>2023-07-25 00:28:06.466</td>\n",
       "      <td>82.504274</td>\n",
       "      <td>73.259342</td>\n",
       "    </tr>\n",
       "    <tr>\n",
       "      <th>6</th>\n",
       "      <td>88.266038</td>\n",
       "      <td>2023-07-25 00:33:06.466</td>\n",
       "      <td>62.700953</td>\n",
       "      <td>82.504274</td>\n",
       "    </tr>\n",
       "    <tr>\n",
       "      <th>...</th>\n",
       "      <td>...</td>\n",
       "      <td>...</td>\n",
       "      <td>...</td>\n",
       "      <td>...</td>\n",
       "    </tr>\n",
       "    <tr>\n",
       "      <th>1435</th>\n",
       "      <td>17.553220</td>\n",
       "      <td>2023-07-29 23:38:06.568</td>\n",
       "      <td>50.442835</td>\n",
       "      <td>49.355296</td>\n",
       "    </tr>\n",
       "    <tr>\n",
       "      <th>1436</th>\n",
       "      <td>36.001713</td>\n",
       "      <td>2023-07-29 23:43:06.568</td>\n",
       "      <td>17.553220</td>\n",
       "      <td>50.442835</td>\n",
       "    </tr>\n",
       "    <tr>\n",
       "      <th>1437</th>\n",
       "      <td>21.256935</td>\n",
       "      <td>2023-07-29 23:48:06.568</td>\n",
       "      <td>36.001713</td>\n",
       "      <td>17.553220</td>\n",
       "    </tr>\n",
       "    <tr>\n",
       "      <th>1438</th>\n",
       "      <td>24.075016</td>\n",
       "      <td>2023-07-29 23:53:06.568</td>\n",
       "      <td>21.256935</td>\n",
       "      <td>36.001713</td>\n",
       "    </tr>\n",
       "    <tr>\n",
       "      <th>1439</th>\n",
       "      <td>14.962631</td>\n",
       "      <td>2023-07-29 23:58:06.568</td>\n",
       "      <td>24.075016</td>\n",
       "      <td>21.256935</td>\n",
       "    </tr>\n",
       "  </tbody>\n",
       "</table>\n",
       "<p>1438 rows × 4 columns</p>\n",
       "</div>"
      ],
      "text/plain": [
       "        cpu_util                     date       lag_1       lag_2\n",
       "2     100.895190  2023-07-25 00:13:06.466   82.067813   66.834766\n",
       "3      73.259342  2023-07-25 00:18:06.466  100.895190   82.067813\n",
       "4      82.504274  2023-07-25 00:23:06.466   73.259342  100.895190\n",
       "5      62.700953  2023-07-25 00:28:06.466   82.504274   73.259342\n",
       "6      88.266038  2023-07-25 00:33:06.466   62.700953   82.504274\n",
       "...          ...                      ...         ...         ...\n",
       "1435   17.553220  2023-07-29 23:38:06.568   50.442835   49.355296\n",
       "1436   36.001713  2023-07-29 23:43:06.568   17.553220   50.442835\n",
       "1437   21.256935  2023-07-29 23:48:06.568   36.001713   17.553220\n",
       "1438   24.075016  2023-07-29 23:53:06.568   21.256935   36.001713\n",
       "1439   14.962631  2023-07-29 23:58:06.568   24.075016   21.256935\n",
       "\n",
       "[1438 rows x 4 columns]"
      ]
     },
     "execution_count": 7,
     "metadata": {},
     "output_type": "execute_result"
    }
   ],
   "source": [
    "df_test"
   ]
  },
  {
   "cell_type": "code",
   "execution_count": 8,
   "metadata": {},
   "outputs": [
    {
     "ename": "NameError",
     "evalue": "name 'model' is not defined",
     "output_type": "error",
     "traceback": [
      "\u001b[1;31m---------------------------------------------------------------------------\u001b[0m",
      "\u001b[1;31mNameError\u001b[0m                                 Traceback (most recent call last)",
      "\u001b[1;32md:\\File\\ITK\\BANGKIT\\Wowrack\\code\\models\\m16\\nn\\model.ipynb Cell 18\u001b[0m line \u001b[0;36m1\n\u001b[1;32m----> <a href='vscode-notebook-cell:/d%3A/File/ITK/BANGKIT/Wowrack/code/models/m16/nn/model.ipynb#X23sZmlsZQ%3D%3D?line=0'>1</a>\u001b[0m predict \u001b[39m=\u001b[39m model\u001b[39m.\u001b[39mpredict(X_test)\n",
      "\u001b[1;31mNameError\u001b[0m: name 'model' is not defined"
     ]
    }
   ],
   "source": [
    "predict = model.predict(X_test)"
   ]
  },
  {
   "cell_type": "code",
   "execution_count": null,
   "metadata": {},
   "outputs": [],
   "source": []
  }
 ],
 "metadata": {
  "kernelspec": {
   "display_name": "Python 3",
   "language": "python",
   "name": "python3"
  },
  "language_info": {
   "codemirror_mode": {
    "name": "ipython",
    "version": 3
   },
   "file_extension": ".py",
   "mimetype": "text/x-python",
   "name": "python",
   "nbconvert_exporter": "python",
   "pygments_lexer": "ipython3",
   "version": "3.10.7"
  }
 },
 "nbformat": 4,
 "nbformat_minor": 2
}
